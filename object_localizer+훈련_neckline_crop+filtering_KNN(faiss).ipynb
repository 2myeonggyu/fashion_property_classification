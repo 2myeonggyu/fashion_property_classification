{
 "cells": [
  {
   "cell_type": "markdown",
   "metadata": {
    "colab_type": "text",
    "id": "SON6mQEjSfwx"
   },
   "source": [
    "# Readme\n",
    "- 2020.06.24 : MobileNet feature-extraction 을 통한, KNN 접근(faiss - 데이터 규모가 커진다면)"
   ]
  },
  {
   "cell_type": "markdown",
   "metadata": {
    "colab_type": "text",
    "id": "E41ii2J0_DmX"
   },
   "source": [
    "# 넥라인 데이터"
   ]
  },
  {
   "cell_type": "code",
   "execution_count": null,
   "metadata": {
    "colab": {},
    "colab_type": "code",
    "id": "qGHvu_cgM23X"
   },
   "outputs": [],
   "source": [
    "from tqdm import tqdm\n",
    "import numpy as np\n",
    "\n",
    "import os\n",
    "import glob\n",
    "import zipfile\n",
    "\n",
    "#from PIL import Image # PIL은 조금 무거운것 같다\n",
    "import cv2 # (주의)imshow 할때는 google에서 제공하는 lib 써야한다(아래 Lib)\n",
    "from google.colab.patches import cv2_imshow\n",
    "\n",
    "import matplotlib.pyplot as plt\n",
    "\n",
    "import pandas as pd\n",
    "\n",
    "from tqdm.notebook import tqdm, tqdm_notebook"
   ]
  },
  {
   "cell_type": "markdown",
   "metadata": {
    "colab_type": "text",
    "id": "8o-yNDGbKznm"
   },
   "source": [
    "\n",
    "\n",
    "---\n",
    "\n",
    "\n",
    "\n",
    "---\n",
    "\n",
    "\n",
    "\n",
    "---\n",
    "\n"
   ]
  },
  {
   "cell_type": "markdown",
   "metadata": {
    "colab_type": "text",
    "id": "6WQBFMqdATfi"
   },
   "source": [
    "# 1. Input Data 준비\n",
    "- 데이터 프레임 활용\n",
    "> - img_path /  status(label)"
   ]
  },
  {
   "cell_type": "code",
   "execution_count": null,
   "metadata": {
    "colab": {
     "base_uri": "https://localhost:8080/",
     "height": 66,
     "referenced_widgets": [
      "14983af5908444a7ab3309493d2c815e",
      "1611492494ba4d9ba30e245df4c7f5c9",
      "e939f59ba54e4b028b67130920253f0d",
      "ec810c380afe4a0d867be92c2c8d1966",
      "ec816fc5926b450bb8b88d8d3565f354",
      "341b1d4b55ac4e53987c6454a56d3d1b",
      "a8ee27e8418c4e12bffbab4d5fab1fcc",
      "360ae45ff8e14234b0e45623c91f7cbf"
     ]
    },
    "colab_type": "code",
    "id": "0mqDylOfQ1Dx",
    "outputId": "dab0837f-cb5d-46b6-b085-f8f129006d3b"
   },
   "outputs": [
    {
     "data": {
      "application/vnd.jupyter.widget-view+json": {
       "model_id": "14983af5908444a7ab3309493d2c815e",
       "version_major": 2,
       "version_minor": 0
      },
      "text/plain": [
       "HBox(children=(FloatProgress(value=0.0, max=617.0), HTML(value='')))"
      ]
     },
     "metadata": {
      "tags": []
     },
     "output_type": "display_data"
    },
    {
     "name": "stdout",
     "output_type": "stream",
     "text": [
      "\n"
     ]
    }
   ],
   "source": [
    "### for train - get  path / status ###\n",
    "\n",
    "total_path = []\n",
    "total_status = []\n",
    "\n",
    "### class 17 에 대해서 - path/bbox 얻는 작업 ###\n",
    "for img_path in tqdm_notebook( glob.glob('crop_neckline_filtering/*') ):\n",
    "  total_path.append(img_path)\n",
    "  total_status.append( img_path.split('_')[3] )"
   ]
  },
  {
   "cell_type": "code",
   "execution_count": null,
   "metadata": {
    "colab": {
     "base_uri": "https://localhost:8080/",
     "height": 51
    },
    "colab_type": "code",
    "id": "rLZ5Q_Iyt2Zw",
    "outputId": "9d3913bc-687f-4b51-ae6d-5a88312b7617"
   },
   "outputs": [
    {
     "name": "stdout",
     "output_type": "stream",
     "text": [
      "617\n",
      "617\n"
     ]
    }
   ],
   "source": [
    "print(len(total_path))\n",
    "print(len(total_status))"
   ]
  },
  {
   "cell_type": "markdown",
   "metadata": {
    "colab_type": "text",
    "id": "MQfAC7u3UODs"
   },
   "source": [
    "\n",
    "\n",
    "---\n",
    "\n",
    "\n",
    "\n",
    "---\n",
    "\n"
   ]
  },
  {
   "cell_type": "code",
   "execution_count": null,
   "metadata": {
    "colab": {
     "base_uri": "https://localhost:8080/",
     "height": 204
    },
    "colab_type": "code",
    "id": "uDY6nmE7HCxL",
    "outputId": "f47ee5fb-0194-4bfe-87bf-5a425d7f32c6"
   },
   "outputs": [
    {
     "data": {
      "text/html": [
       "<div>\n",
       "<style scoped>\n",
       "    .dataframe tbody tr th:only-of-type {\n",
       "        vertical-align: middle;\n",
       "    }\n",
       "\n",
       "    .dataframe tbody tr th {\n",
       "        vertical-align: top;\n",
       "    }\n",
       "\n",
       "    .dataframe thead th {\n",
       "        text-align: right;\n",
       "    }\n",
       "</style>\n",
       "<table border=\"1\" class=\"dataframe\">\n",
       "  <thead>\n",
       "    <tr style=\"text-align: right;\">\n",
       "      <th></th>\n",
       "      <th>filename</th>\n",
       "      <th>status</th>\n",
       "    </tr>\n",
       "  </thead>\n",
       "  <tbody>\n",
       "    <tr>\n",
       "      <th>0</th>\n",
       "      <td>crop_neckline_filtering/class_1_265.jpg</td>\n",
       "      <td>1</td>\n",
       "    </tr>\n",
       "    <tr>\n",
       "      <th>1</th>\n",
       "      <td>crop_neckline_filtering/class_1_260.jpg</td>\n",
       "      <td>1</td>\n",
       "    </tr>\n",
       "    <tr>\n",
       "      <th>2</th>\n",
       "      <td>crop_neckline_filtering/class_1_202.jpg</td>\n",
       "      <td>1</td>\n",
       "    </tr>\n",
       "    <tr>\n",
       "      <th>3</th>\n",
       "      <td>crop_neckline_filtering/class_1_197.jpg</td>\n",
       "      <td>1</td>\n",
       "    </tr>\n",
       "    <tr>\n",
       "      <th>4</th>\n",
       "      <td>crop_neckline_filtering/class_1_223.jpg</td>\n",
       "      <td>1</td>\n",
       "    </tr>\n",
       "  </tbody>\n",
       "</table>\n",
       "</div>"
      ],
      "text/plain": [
       "                                  filename status\n",
       "0  crop_neckline_filtering/class_1_265.jpg      1\n",
       "1  crop_neckline_filtering/class_1_260.jpg      1\n",
       "2  crop_neckline_filtering/class_1_202.jpg      1\n",
       "3  crop_neckline_filtering/class_1_197.jpg      1\n",
       "4  crop_neckline_filtering/class_1_223.jpg      1"
      ]
     },
     "execution_count": 9,
     "metadata": {
      "tags": []
     },
     "output_type": "execute_result"
    }
   ],
   "source": [
    "## dataframe 만들기\n",
    "\n",
    "df = pd.DataFrame({'filename':total_path,  'status':total_status})\n",
    "\n",
    "df.head()"
   ]
  },
  {
   "cell_type": "code",
   "execution_count": null,
   "metadata": {
    "colab": {
     "base_uri": "https://localhost:8080/",
     "height": 170
    },
    "colab_type": "code",
    "id": "Q4wC_v_ICQx4",
    "outputId": "a9ae814a-87fb-4e5b-edab-289c7b2b0f1c"
   },
   "outputs": [
    {
     "name": "stdout",
     "output_type": "stream",
     "text": [
      "<class 'pandas.core.frame.DataFrame'>\n",
      "RangeIndex: 617 entries, 0 to 616\n",
      "Data columns (total 2 columns):\n",
      " #   Column    Non-Null Count  Dtype \n",
      "---  ------    --------------  ----- \n",
      " 0   filename  617 non-null    object\n",
      " 1   status    617 non-null    object\n",
      "dtypes: object(2)\n",
      "memory usage: 9.8+ KB\n"
     ]
    }
   ],
   "source": [
    "df.info()"
   ]
  },
  {
   "cell_type": "code",
   "execution_count": null,
   "metadata": {
    "colab": {},
    "colab_type": "code",
    "id": "ZTrACzFxWEys"
   },
   "outputs": [],
   "source": [
    "df['status'] = df['status'].astype(int)"
   ]
  },
  {
   "cell_type": "code",
   "execution_count": null,
   "metadata": {
    "colab": {
     "base_uri": "https://localhost:8080/",
     "height": 102
    },
    "colab_type": "code",
    "id": "aR2J1YKVmf6T",
    "outputId": "312c35fe-32b2-4109-f6da-64131be036cb"
   },
   "outputs": [
    {
     "data": {
      "text/plain": [
       "status\n",
       "0    187\n",
       "1    219\n",
       "2    211\n",
       "dtype: int64"
      ]
     },
     "execution_count": 12,
     "metadata": {
      "tags": []
     },
     "output_type": "execute_result"
    }
   ],
   "source": [
    "df.groupby('status').size()"
   ]
  },
  {
   "cell_type": "code",
   "execution_count": null,
   "metadata": {
    "colab": {},
    "colab_type": "code",
    "id": "LEixaM9RI-Gf"
   },
   "outputs": [],
   "source": [
    "# split dataframe / train(0.8), test(0.2)\n",
    "total_data_count = len(df)\n",
    "train_index = np.random.choice(len(df), int(0.8*len(df)), replace=False )\n",
    "\n",
    "\n",
    "df_train = df[ df.index.isin(train_index)].reset_index(drop=True)\n",
    "df_valid = df[~df.index.isin(train_index)].reset_index(drop=True)"
   ]
  },
  {
   "cell_type": "code",
   "execution_count": null,
   "metadata": {
    "colab": {
     "base_uri": "https://localhost:8080/",
     "height": 34
    },
    "colab_type": "code",
    "id": "mER1AztIzZwB",
    "outputId": "3f709650-58a6-42c1-a24d-6a242e124934"
   },
   "outputs": [
    {
     "name": "stdout",
     "output_type": "stream",
     "text": [
      "426 124\n"
     ]
    }
   ],
   "source": [
    "print(len(df_train), len(df_valid) )"
   ]
  },
  {
   "cell_type": "code",
   "execution_count": null,
   "metadata": {},
   "outputs": [],
   "source": []
  },
  {
   "cell_type": "markdown",
   "metadata": {
    "colab_type": "text",
    "id": "dHF93QsXdgbl"
   },
   "source": [
    "## # 훈련셋만 균형지게 만들기\n",
    "- 평소에는 up-sampling 이용했는데,  faiss부터는 under-sampling 이용하자"
   ]
  },
  {
   "cell_type": "code",
   "execution_count": null,
   "metadata": {
    "colab": {},
    "colab_type": "code",
    "id": "L2iPMH2Xl8te"
   },
   "outputs": [],
   "source": [
    "# equal-sized 데이터 만들기\n",
    "\n",
    "def make_equal_size(df, class_name=None):\n",
    "  if not class_name:\n",
    "    class_name = 'status'\n",
    "  min_class = df[class_name].value_counts().index[-1]\n",
    "  size = df[df[class_name] == min_class].shape[0]\n",
    "\n",
    "  df_equal_size = pd.DataFrame()\n",
    "  for class_key, grp in df.groupby(class_name):\n",
    "    if class_key == min_class:\n",
    "      df_equal_size = pd.concat([df_equal_size, grp], axis=0)\n",
    "    else:\n",
    "      equal_sampled = grp.sample(n = size, replace=True)\n",
    "      df_equal_size = pd.concat([df_equal_size, equal_sampled], axis=0)\n",
    "  \n",
    "  df_equal_size = df_equal_size.reset_index(drop=True)\n",
    "  return df_equal_size"
   ]
  },
  {
   "cell_type": "code",
   "execution_count": null,
   "metadata": {
    "colab": {},
    "colab_type": "code",
    "id": "4ifRYenDmC_3"
   },
   "outputs": [],
   "source": [
    "# 불균형 데이터 맞춰준다\n",
    "df_train = make_equal_size(df = df_train)"
   ]
  },
  {
   "cell_type": "code",
   "execution_count": null,
   "metadata": {
    "colab": {
     "base_uri": "https://localhost:8080/",
     "height": 102
    },
    "colab_type": "code",
    "id": "fzxsO6k0dfHj",
    "outputId": "60aa1ba8-4cce-467d-db83-594f64f6b819"
   },
   "outputs": [
    {
     "data": {
      "text/plain": [
       "status\n",
       "0    142\n",
       "1    142\n",
       "2    142\n",
       "dtype: int64"
      ]
     },
     "execution_count": 21,
     "metadata": {
      "tags": []
     },
     "output_type": "execute_result"
    }
   ],
   "source": [
    "df_train.groupby('status').size()"
   ]
  },
  {
   "cell_type": "markdown",
   "metadata": {
    "colab_type": "text",
    "id": "PFmTvJzpV2BK"
   },
   "source": [
    "\n",
    "\n",
    "---\n",
    "\n",
    "\n",
    "\n",
    "---\n",
    "\n"
   ]
  },
  {
   "cell_type": "markdown",
   "metadata": {
    "colab_type": "text",
    "id": "QTeDv83CaIz1"
   },
   "source": [
    "# 1.1 data load"
   ]
  },
  {
   "cell_type": "code",
   "execution_count": null,
   "metadata": {
    "colab": {},
    "colab_type": "code",
    "id": "Ex1I4aP_dfCv"
   },
   "outputs": [],
   "source": [
    "# defining a function to resize images\n",
    "def img_prep(features, output, dims):\n",
    "\n",
    "    img_data = []\n",
    "    labels = []\n",
    "\n",
    "    for enum, imagePath in tqdm(enumerate(features)):\n",
    "    \n",
    "        try:\n",
    "            counter = 0\n",
    "            img=cv2.imread(imagePath)\n",
    "            #img=cv2.resize(img, (dims[1], dims[0]))\n",
    "            \n",
    "            ### scaling ###\n",
    "            img = np.array(img, dtype = np.float32)/255.\n",
    "            \n",
    "            \n",
    "        except Exception as e:\n",
    "        \n",
    "            counter = 1\n",
    "    \n",
    "        if counter==0:\n",
    "            \n",
    "            label = output[enum]\n",
    "            labels.append(label)\n",
    "        \n",
    "            img_data.append(img)\n",
    "            \n",
    "    return img_data, labels"
   ]
  },
  {
   "cell_type": "code",
   "execution_count": null,
   "metadata": {
    "colab": {
     "base_uri": "https://localhost:8080/",
     "height": 115,
     "referenced_widgets": [
      "1fd8e07a8bcb4468a2ac260d454398cf",
      "3aeb388a551d4fc7b1cee94d8461d9ce",
      "9cc7e9315ac74f98b766fb60bbe2f26f",
      "5a8273072bf549569846d2fdd02c1284",
      "2cc9ee2a3b564cf2b82ab48b4bf7aec6",
      "8ad7e01055884a458ceddc2455b012ec",
      "6cb4d81079c143d29e72307692ba0b35",
      "4cf7464d177a49f180ffdf8bbcaa555f",
      "e9c831fb2a8b4669bfe9ecfb9f813d14",
      "47294ef485264a9d99fe062225ec137d",
      "c225535911324fd78243d14c1e9169f1",
      "173c0cef123148c2b6a156c3dd5ecea8",
      "f12731ff7bbc4174a4ef8edf7d067f0c",
      "fe1e20f7c7394cf28d3cc277afe160da",
      "067ea01f50c84034b8352d2de3dc51eb",
      "8427f4f550f44949bc6d2bde745fdde9"
     ]
    },
    "colab_type": "code",
    "id": "-70GS8UwV0bn",
    "outputId": "bab00ca4-fc92-438e-8051-219f06496cfd"
   },
   "outputs": [
    {
     "data": {
      "application/vnd.jupyter.widget-view+json": {
       "model_id": "1fd8e07a8bcb4468a2ac260d454398cf",
       "version_major": 2,
       "version_minor": 0
      },
      "text/plain": [
       "HBox(children=(FloatProgress(value=1.0, bar_style='info', max=1.0), HTML(value='')))"
      ]
     },
     "metadata": {
      "tags": []
     },
     "output_type": "display_data"
    },
    {
     "name": "stdout",
     "output_type": "stream",
     "text": [
      "\n"
     ]
    },
    {
     "data": {
      "application/vnd.jupyter.widget-view+json": {
       "model_id": "e9c831fb2a8b4669bfe9ecfb9f813d14",
       "version_major": 2,
       "version_minor": 0
      },
      "text/plain": [
       "HBox(children=(FloatProgress(value=1.0, bar_style='info', max=1.0), HTML(value='')))"
      ]
     },
     "metadata": {
      "tags": []
     },
     "output_type": "display_data"
    },
    {
     "name": "stdout",
     "output_type": "stream",
     "text": [
      "\n"
     ]
    }
   ],
   "source": [
    "# preprocessing training and validation sets\n",
    "IMAGE_DIMS = (192, 192, 3)\n",
    "\n",
    "train_X, train_y = img_prep( df_train['filename'].tolist(), df_train['status'].tolist(), IMAGE_DIMS)\n",
    "val_X, val_y     = img_prep( df_valid['filename'].tolist(), df_valid['status'].tolist(), IMAGE_DIMS)"
   ]
  },
  {
   "cell_type": "code",
   "execution_count": null,
   "metadata": {
    "colab": {
     "base_uri": "https://localhost:8080/",
     "height": 34
    },
    "colab_type": "code",
    "id": "oV-LyHGeV0TW",
    "outputId": "42a247c1-ae90-46ef-f580-ed00916e6639"
   },
   "outputs": [
    {
     "data": {
      "text/plain": [
       "(192, 192, 3)"
      ]
     },
     "execution_count": 20,
     "metadata": {
      "tags": []
     },
     "output_type": "execute_result"
    }
   ],
   "source": [
    "train_X[0].shape"
   ]
  },
  {
   "cell_type": "code",
   "execution_count": null,
   "metadata": {
    "colab": {
     "base_uri": "https://localhost:8080/",
     "height": 209
    },
    "colab_type": "code",
    "id": "MbLLpTkZaBz7",
    "outputId": "392602a2-a2b8-475e-800e-73ffa6e33032"
   },
   "outputs": [
    {
     "data": {
      "image/png": "[encoded data removed]",
      "text/plain": [
       "<PIL.Image.Image image mode=RGB size=192x192 at 0x7FB1CA3D8A58>"
      ]
     },
     "metadata": {
      "tags": []
     },
     "output_type": "display_data"
    }
   ],
   "source": [
    "cv2_imshow(train_X[0] * 255)"
   ]
  },
  {
   "cell_type": "markdown",
   "metadata": {
    "colab_type": "text",
    "id": "hYTRbuglaKzl"
   },
   "source": [
    "\n",
    "\n",
    "---\n",
    "\n",
    "\n",
    "\n",
    "---\n",
    "\n"
   ]
  },
  {
   "cell_type": "markdown",
   "metadata": {
    "colab_type": "text",
    "id": "GGjXJgZuaMXc"
   },
   "source": [
    "# 2. feature extraction"
   ]
  },
  {
   "cell_type": "code",
   "execution_count": null,
   "metadata": {
    "colab": {},
    "colab_type": "code",
    "id": "9vgmG_bvbMp0"
   },
   "outputs": [],
   "source": [
    "import tensorflow as tf\n",
    "import tensorflow_hub as hub"
   ]
  },
  {
   "cell_type": "code",
   "execution_count": null,
   "metadata": {
    "colab": {},
    "colab_type": "code",
    "id": "oKKwBSxoC-Zr"
   },
   "outputs": [],
   "source": [
    "def normalize_feat(self, v):\n",
    "    v = v / np.linalg.norm(v)\n",
    "    return v\n",
    "\n",
    "def extract_feat(img_array):\n",
    "  \n",
    "  hub_url = \"https://tfhub.dev/google/imagenet/mobilenet_v1_025_192/feature_vector/4\"\n",
    "\n",
    "  embed = hub.KerasLayer(hub_url)\n",
    "  embed.build([None, 192, 192, 3])\n",
    "\n",
    "  data = [] # extracted features 쌓을 list(나중에 numpy 로 받을거야)\n",
    "\n",
    "  for img in tqdm(img_array):\n",
    "    img = img.reshape(1,192,192,3)\n",
    "    features = embed(img).numpy().squeeze()\n",
    "    normalized_features = features/np.linalg.norm(features)\n",
    "    data.append(normalized_features)\n",
    "  \n",
    "  stacked_features = np.vstack(data)\n",
    "\n",
    "  return stacked_features\n",
    "\n"
   ]
  },
  {
   "cell_type": "code",
   "execution_count": null,
   "metadata": {
    "colab": {
     "base_uri": "https://localhost:8080/",
     "height": 115,
     "referenced_widgets": [
      "1257060b2c444dcfb920e6b5ab6b6eea",
      "8950d2fd3f3a4b88b60c0ba7fb6c8701",
      "8633e3a1d9c8496c8340ad041eb1c901",
      "69a3455e4ed24394aaf248f3c9df1c8b",
      "4d45f6c7446f463f931280a9cfa45f75",
      "3bd84617724945c795dc29e4189caf72",
      "3a0b242893f243feb927ec11f7e70c98",
      "84d9f036af73447f8e92ce74a9c960eb",
      "e263c95e0efc4bc3aac31e5d8af86b79",
      "141b482fa1264a569834d51285872131",
      "ef4684ef021e429692a9ebab30256570",
      "6c319d8fe1134c46aa5e607503732590",
      "347edcc728ac4cd4a187d7753b27e3c3",
      "b08b7fb0ac6445db9a95af1f55a24b00",
      "46a75ab0575b4254a2fa3d63ae47cf17",
      "31aa8c4ff98a4ed7b15bfa27a0b71d5c"
     ]
    },
    "colab_type": "code",
    "id": "zlylSTV8F5YP",
    "outputId": "b75fc07e-a711-472a-f46f-95808b0ba803"
   },
   "outputs": [
    {
     "data": {
      "application/vnd.jupyter.widget-view+json": {
       "model_id": "1257060b2c444dcfb920e6b5ab6b6eea",
       "version_major": 2,
       "version_minor": 0
      },
      "text/plain": [
       "HBox(children=(FloatProgress(value=0.0, max=459.0), HTML(value='')))"
      ]
     },
     "metadata": {
      "tags": []
     },
     "output_type": "display_data"
    },
    {
     "name": "stdout",
     "output_type": "stream",
     "text": [
      "\n"
     ]
    },
    {
     "data": {
      "application/vnd.jupyter.widget-view+json": {
       "model_id": "e263c95e0efc4bc3aac31e5d8af86b79",
       "version_major": 2,
       "version_minor": 0
      },
      "text/plain": [
       "HBox(children=(FloatProgress(value=0.0, max=124.0), HTML(value='')))"
      ]
     },
     "metadata": {
      "tags": []
     },
     "output_type": "display_data"
    },
    {
     "name": "stdout",
     "output_type": "stream",
     "text": [
      "\n"
     ]
    }
   ],
   "source": [
    "train_features = extract_feat(train_X)\n",
    "valid_features = extract_feat(val_X)"
   ]
  },
  {
   "cell_type": "code",
   "execution_count": null,
   "metadata": {
    "colab": {
     "base_uri": "https://localhost:8080/",
     "height": 51
    },
    "colab_type": "code",
    "id": "AUED-YhRJRjy",
    "outputId": "dcbf6705-0500-40ab-a4d1-f350626b39ce"
   },
   "outputs": [
    {
     "name": "stdout",
     "output_type": "stream",
     "text": [
      "(459, 256)\n",
      "(124, 256)\n"
     ]
    }
   ],
   "source": [
    "print(train_features.shape)\n",
    "print(valid_features.shape)"
   ]
  },
  {
   "cell_type": "code",
   "execution_count": null,
   "metadata": {
    "colab": {
     "base_uri": "https://localhost:8080/",
     "height": 34
    },
    "colab_type": "code",
    "id": "KymnS7K9JRg3",
    "outputId": "fbe916f6-2ae1-4178-e65c-f9cebe37d6bb"
   },
   "outputs": [
    {
     "data": {
      "text/plain": [
       "'/content/gdrive/My Drive/Colab Notebooks/업무/Vision_AI/Fashion_label_project/Data_Hunt/neckline'"
      ]
     },
     "execution_count": 94,
     "metadata": {
      "tags": []
     },
     "output_type": "execute_result"
    }
   ],
   "source": [
    "os.getcwd()"
   ]
  },
  {
   "cell_type": "code",
   "execution_count": null,
   "metadata": {
    "colab": {
     "base_uri": "https://localhost:8080/",
     "height": 34
    },
    "colab_type": "code",
    "id": "chqXp--fcVw5",
    "outputId": "7b56faf5-0bd9-46f0-e9af-b4d47f0ca66c"
   },
   "outputs": [
    {
     "data": {
      "text/plain": [
       "[0, 0, 0, 0, 0]"
      ]
     },
     "execution_count": 95,
     "metadata": {
      "tags": []
     },
     "output_type": "execute_result"
    }
   ],
   "source": [
    "train_y[:5]"
   ]
  },
  {
   "cell_type": "code",
   "execution_count": null,
   "metadata": {
    "colab": {
     "base_uri": "https://localhost:8080/",
     "height": 34
    },
    "colab_type": "code",
    "id": "J224VeBTLbSN",
    "outputId": "69579bf4-edef-4079-c36b-7b3269c43960"
   },
   "outputs": [
    {
     "data": {
      "text/plain": [
       "array([0, 0, 0, 0, 0])"
      ]
     },
     "execution_count": 98,
     "metadata": {
      "tags": []
     },
     "output_type": "execute_result"
    }
   ],
   "source": [
    "np.array(train_y[:5])"
   ]
  },
  {
   "cell_type": "code",
   "execution_count": null,
   "metadata": {
    "colab": {},
    "colab_type": "code",
    "id": "G08-K3ZcLCbU"
   },
   "outputs": [],
   "source": [
    "# save features\n",
    "np.save('feature_extraction_np/train_features', train_features)\n",
    "np.save('feature_extraction_np/valid_features', valid_features)\n",
    "\n",
    "# save label\n",
    "np.save('feature_extraction_np/train_label', train_y)\n",
    "np.save('feature_extraction_np/valid_label', val_y)"
   ]
  },
  {
   "cell_type": "markdown",
   "metadata": {
    "colab_type": "text",
    "id": "Cx4ca32b-RqR"
   },
   "source": [
    "## - feature 불러와서 사용"
   ]
  },
  {
   "cell_type": "code",
   "execution_count": null,
   "metadata": {
    "colab": {},
    "colab_type": "code",
    "id": "llAiPtdw-SsX"
   },
   "outputs": [],
   "source": [
    "# load features\n",
    "train_features = np.load('feature_extraction_np/train_features.npy' )\n",
    "valid_features = np.load('feature_extraction_np/valid_features.npy' )\n",
    "\n",
    "# load label\n",
    "train_y = np.load('feature_extraction_np/train_label.npy' )\n",
    "valid_y = np.load('feature_extraction_np/valid_label.npy' )"
   ]
  },
  {
   "cell_type": "code",
   "execution_count": null,
   "metadata": {
    "colab": {
     "base_uri": "https://localhost:8080/",
     "height": 34
    },
    "colab_type": "code",
    "id": "YZm59obZ-Skg",
    "outputId": "43be712a-421e-48b6-f81a-ae0f9508af43",
    "scrolled": true
   },
   "outputs": [
    {
     "data": {
      "text/plain": [
       "(459, 256)"
      ]
     },
     "execution_count": 23,
     "metadata": {
      "tags": []
     },
     "output_type": "execute_result"
    }
   ],
   "source": [
    "train_features.shape"
   ]
  },
  {
   "cell_type": "markdown",
   "metadata": {
    "colab_type": "text",
    "id": "pnsQ03DUXr1_"
   },
   "source": [
    "---\n",
    "---\n",
    "\n"
   ]
  },
  {
   "cell_type": "markdown",
   "metadata": {
    "colab_type": "text",
    "id": "724Hh5iGhlzq"
   },
   "source": [
    "# 3. KNN 사용"
   ]
  },
  {
   "cell_type": "code",
   "execution_count": null,
   "metadata": {
    "colab": {},
    "colab_type": "code",
    "id": "WYpPPw-jf2pd"
   },
   "outputs": [],
   "source": [
    "from sklearn.neighbors import NearestNeighbors"
   ]
  },
  {
   "cell_type": "code",
   "execution_count": null,
   "metadata": {
    "colab": {},
    "colab_type": "code",
    "id": "TVWAiE9Cf2nB"
   },
   "outputs": [],
   "source": [
    "train_label_df = pd.DataFrame({'y_label':train_y})\n",
    "valid_label_df = pd.DataFrame({'y_label':valid_y})"
   ]
  },
  {
   "cell_type": "code",
   "execution_count": null,
   "metadata": {
    "colab": {
     "base_uri": "https://localhost:8080/",
     "height": 142
    },
    "colab_type": "code",
    "id": "7SE_c6NTf2ko",
    "outputId": "a50e173f-b986-4e24-f94c-69c0f42c4ca5"
   },
   "outputs": [
    {
     "data": {
      "text/html": [
       "<div>\n",
       "<style scoped>\n",
       "    .dataframe tbody tr th:only-of-type {\n",
       "        vertical-align: middle;\n",
       "    }\n",
       "\n",
       "    .dataframe tbody tr th {\n",
       "        vertical-align: top;\n",
       "    }\n",
       "\n",
       "    .dataframe thead th {\n",
       "        text-align: right;\n",
       "    }\n",
       "</style>\n",
       "<table border=\"1\" class=\"dataframe\">\n",
       "  <thead>\n",
       "    <tr style=\"text-align: right;\">\n",
       "      <th></th>\n",
       "      <th>y_label</th>\n",
       "    </tr>\n",
       "  </thead>\n",
       "  <tbody>\n",
       "    <tr>\n",
       "      <th>0</th>\n",
       "      <td>0</td>\n",
       "    </tr>\n",
       "    <tr>\n",
       "      <th>1</th>\n",
       "      <td>0</td>\n",
       "    </tr>\n",
       "    <tr>\n",
       "      <th>2</th>\n",
       "      <td>0</td>\n",
       "    </tr>\n",
       "  </tbody>\n",
       "</table>\n",
       "</div>"
      ],
      "text/plain": [
       "   y_label\n",
       "0        0\n",
       "1        0\n",
       "2        0"
      ]
     },
     "execution_count": 26,
     "metadata": {
      "tags": []
     },
     "output_type": "execute_result"
    }
   ],
   "source": [
    "train_label_df.head(3)"
   ]
  },
  {
   "cell_type": "code",
   "execution_count": null,
   "metadata": {
    "colab": {
     "base_uri": "https://localhost:8080/",
     "height": 68
    },
    "colab_type": "code",
    "id": "Ur5_HbM-Si7F",
    "outputId": "f8501752-e05e-4bf9-85ca-532e92bd3b10"
   },
   "outputs": [
    {
     "data": {
      "text/plain": [
       "NearestNeighbors(algorithm='auto', leaf_size=30, metric='minkowski',\n",
       "                 metric_params=None, n_jobs=None, n_neighbors=30, p=2,\n",
       "                 radius=1.0)"
      ]
     },
     "execution_count": 20,
     "metadata": {
      "tags": []
     },
     "output_type": "execute_result"
    }
   ],
   "source": [
    "## KNN\n",
    "\n",
    "neigh = NearestNeighbors( n_neighbors=30 ) #radius : 1.0(default)\n",
    "neigh.fit( train_features )"
   ]
  },
  {
   "cell_type": "code",
   "execution_count": null,
   "metadata": {
    "colab": {
     "base_uri": "https://localhost:8080/",
     "height": 1000
    },
    "colab_type": "code",
    "id": "THBx_t8giIES",
    "outputId": "54dfbf7a-1f36-40cc-b3dd-0d8f04d9fc2f"
   },
   "outputs": [
    {
     "name": "stdout",
     "output_type": "stream",
     "text": [
      "label : 1, pred : 1\n",
      "label : 1, pred : 1\n",
      "label : 2, pred : 1\n",
      "label : 1, pred : 1\n",
      "label : 1, pred : 1\n",
      "label : 1, pred : 1\n",
      "label : 2, pred : 1\n",
      "label : 1, pred : 1\n",
      "label : 1, pred : 1\n",
      "label : 1, pred : 1\n",
      "label : 1, pred : 1\n",
      "label : 2, pred : 1\n",
      "label : 2, pred : 1\n",
      "label : 1, pred : 1\n",
      "label : 1, pred : 1\n",
      "label : 1, pred : 1\n",
      "label : 1, pred : 1\n",
      "label : 0, pred : 1\n",
      "label : 1, pred : 1\n",
      "label : 0, pred : 0\n",
      "label : 1, pred : 0\n",
      "label : 0, pred : 0\n",
      "label : 0, pred : 0\n",
      "label : 0, pred : 0\n",
      "label : 1, pred : 0\n",
      "label : 2, pred : 0\n",
      "label : 0, pred : 0\n",
      "label : 0, pred : 0\n",
      "label : 0, pred : 0\n",
      "label : 0, pred : 0\n",
      "label : 0, pred : 0\n",
      "label : 1, pred : 0\n",
      "label : 2, pred : 0\n",
      "label : 0, pred : 0\n",
      "label : 1, pred : 0\n",
      "label : 0, pred : 0\n",
      "label : 0, pred : 0\n",
      "label : 0, pred : 0\n",
      "label : 0, pred : 0\n",
      "label : 0, pred : 0\n",
      "label : 1, pred : 0\n",
      "label : 0, pred : 0\n",
      "label : 0, pred : 0\n",
      "label : 1, pred : 0\n",
      "label : 1, pred : 0\n",
      "label : 0, pred : 0\n",
      "label : 0, pred : 0\n",
      "label : 0, pred : 0\n",
      "label : 1, pred : 0\n",
      "label : 0, pred : 0\n",
      "label : 1, pred : 0\n",
      "label : 2, pred : 0\n",
      "label : 1, pred : 0\n",
      "label : 1, pred : 1\n",
      "label : 1, pred : 1\n",
      "label : 1, pred : 1\n",
      "label : 1, pred : 1\n",
      "label : 1, pred : 1\n",
      "label : 0, pred : 1\n",
      "label : 1, pred : 1\n",
      "label : 1, pred : 1\n",
      "label : 1, pred : 1\n",
      "label : 1, pred : 1\n",
      "label : 1, pred : 1\n",
      "label : 1, pred : 1\n",
      "label : 0, pred : 1\n",
      "label : 1, pred : 1\n",
      "label : 1, pred : 1\n",
      "label : 1, pred : 1\n",
      "label : 1, pred : 1\n",
      "label : 2, pred : 1\n",
      "label : 0, pred : 1\n",
      "label : 0, pred : 1\n",
      "label : 1, pred : 1\n",
      "label : 2, pred : 1\n",
      "label : 1, pred : 1\n",
      "label : 1, pred : 1\n",
      "label : 2, pred : 1\n",
      "label : 1, pred : 1\n",
      "label : 1, pred : 1\n",
      "label : 2, pred : 2\n",
      "label : 0, pred : 2\n",
      "label : 0, pred : 2\n",
      "label : 2, pred : 2\n",
      "label : 0, pred : 2\n",
      "label : 2, pred : 2\n",
      "label : 0, pred : 2\n",
      "label : 2, pred : 2\n",
      "label : 2, pred : 2\n",
      "label : 2, pred : 2\n",
      "label : 2, pred : 2\n",
      "label : 2, pred : 2\n",
      "label : 2, pred : 2\n",
      "label : 2, pred : 2\n",
      "label : 0, pred : 2\n",
      "label : 1, pred : 2\n",
      "label : 1, pred : 2\n",
      "label : 0, pred : 2\n",
      "label : 2, pred : 2\n",
      "label : 2, pred : 2\n",
      "label : 1, pred : 2\n",
      "label : 0, pred : 2\n",
      "label : 2, pred : 2\n",
      "label : 1, pred : 2\n",
      "label : 2, pred : 2\n",
      "label : 2, pred : 2\n",
      "label : 2, pred : 2\n",
      "label : 1, pred : 2\n",
      "label : 1, pred : 2\n",
      "label : 1, pred : 2\n",
      "label : 2, pred : 2\n",
      "label : 0, pred : 2\n",
      "label : 2, pred : 2\n",
      "label : 2, pred : 2\n",
      "label : 1, pred : 2\n",
      "label : 2, pred : 2\n",
      "label : 1, pred : 2\n",
      "label : 2, pred : 2\n",
      "label : 2, pred : 2\n",
      "label : 2, pred : 2\n",
      "label : 2, pred : 2\n",
      "label : 2, pred : 2\n",
      "label : 0, pred : 2\n",
      "label : 1, pred : 2\n"
     ]
    }
   ],
   "source": [
    "#sampled_valid_index = np.random.choice(list(range(124)), 10)\n",
    "\n",
    "label = []\n",
    "pred = []\n",
    "bool_list = []\n",
    "\n",
    "for s_idx in range(len(valid_features)):\n",
    "  \n",
    "  knn_result_idx = neigh.kneighbors( valid_features[ s_idx ].reshape(1,-1), 30, return_distance=False )\n",
    "  # frequent class\n",
    "  knn_freq_class = train_label_df.iloc[knn_result_idx[0]].groupby('y_label').size().idxmax()\n",
    "  # real valid class\n",
    "  valid_class = valid_label_df['y_label'].iloc[ s_idx ]\n",
    "  \n",
    "  print('label : {}, pred : {}'.format(knn_freq_class, valid_class) )\n",
    "  label.append( knn_freq_class)\n",
    "  pred.append( valid_class )\n",
    "  bool_list.append( knn_freq_class == valid_class )"
   ]
  },
  {
   "cell_type": "code",
   "execution_count": null,
   "metadata": {
    "colab": {},
    "colab_type": "code",
    "id": "LTBKiV5KiIBN"
   },
   "outputs": [],
   "source": [
    "clf_result = pd.DataFrame({'label':label, 'pred':pred, 'bool_list':bool_list})"
   ]
  },
  {
   "cell_type": "code",
   "execution_count": null,
   "metadata": {
    "colab": {
     "base_uri": "https://localhost:8080/",
     "height": 102
    },
    "colab_type": "code",
    "id": "R0Wzc7FMljSB",
    "outputId": "252a3ea6-61ba-4060-8717-56e4f47aba2f"
   },
   "outputs": [
    {
     "data": {
      "text/plain": [
       "label\n",
       "0    0.600000\n",
       "1    0.629630\n",
       "2    0.714286\n",
       "Name: bool_list, dtype: float64"
      ]
     },
     "execution_count": 24,
     "metadata": {
      "tags": []
     },
     "output_type": "execute_result"
    }
   ],
   "source": [
    "clf_result.groupby('label')['bool_list'].mean()"
   ]
  },
  {
   "cell_type": "markdown",
   "metadata": {
    "colab_type": "text",
    "id": "9JAiTpkoZ89A"
   },
   "source": [
    "\n",
    "\n",
    "---\n",
    "\n"
   ]
  },
  {
   "cell_type": "markdown",
   "metadata": {
    "colab_type": "text",
    "id": "G2SptJeWZ_pK"
   },
   "source": [
    "## cf. 거리 개념으로 접근해서 살피기"
   ]
  },
  {
   "cell_type": "markdown",
   "metadata": {
    "colab_type": "text",
    "id": "sAPxYHrpbDv9"
   },
   "source": [
    "- 먼저 visualization(using PCA)\n",
    "\n"
   ]
  },
  {
   "cell_type": "code",
   "execution_count": null,
   "metadata": {
    "colab": {
     "base_uri": "https://localhost:8080/",
     "height": 34
    },
    "colab_type": "code",
    "id": "hBCg3u8ubDEC",
    "outputId": "a6d5331d-b78d-49d5-f4e0-a881680969f2"
   },
   "outputs": [
    {
     "data": {
      "text/plain": [
       "(459, 256)"
      ]
     },
     "execution_count": 58,
     "metadata": {
      "tags": []
     },
     "output_type": "execute_result"
    }
   ],
   "source": [
    "train_features.shape"
   ]
  },
  {
   "cell_type": "code",
   "execution_count": null,
   "metadata": {
    "colab": {
     "base_uri": "https://localhost:8080/",
     "height": 34
    },
    "colab_type": "code",
    "id": "kbuvmlyCbDAj",
    "outputId": "ed0e3e7a-04b4-4116-9246-da34bc4c6a42"
   },
   "outputs": [
    {
     "data": {
      "text/plain": [
       "(459,)"
      ]
     },
     "execution_count": 59,
     "metadata": {
      "tags": []
     },
     "output_type": "execute_result"
    }
   ],
   "source": [
    "train_y.shape"
   ]
  },
  {
   "cell_type": "code",
   "execution_count": null,
   "metadata": {
    "colab": {
     "base_uri": "https://localhost:8080/",
     "height": 51
    },
    "colab_type": "code",
    "id": "_uQvQ0upc5Jd",
    "outputId": "069ac489-fb1b-4b30-c9b0-33d6499c634d"
   },
   "outputs": [
    {
     "name": "stderr",
     "output_type": "stream",
     "text": [
      "/usr/local/lib/python3.6/dist-packages/statsmodels/tools/_testing.py:19: FutureWarning: pandas.util.testing is deprecated. Use the functions in the public API at pandas.testing instead.\n",
      "  import pandas.util.testing as tm\n"
     ]
    }
   ],
   "source": [
    "from sklearn import decomposition\n",
    "import seaborn as sns\n",
    "\n",
    "pca = decomposition.PCA(n_components = 2)\n",
    "train_features_pca2 = pca.fit_transform(train_features)"
   ]
  },
  {
   "cell_type": "markdown",
   "metadata": {},
   "source": []
  },
  {
   "cell_type": "code",
   "execution_count": null,
   "metadata": {
    "colab": {},
    "colab_type": "code",
    "id": "SMC2sS9DeKUr"
   },
   "outputs": [],
   "source": [
    "pca_df = pd.DataFrame( data = np.concatenate([train_features_pca2, train_y.reshape(len(train_y),1)], axis=1) , columns = ['dim1', 'dim2', 'label'])"
   ]
  },
  {
   "cell_type": "code",
   "execution_count": null,
   "metadata": {
    "colab": {},
    "colab_type": "code",
    "id": "JT6ZI1A2gruv"
   },
   "outputs": [],
   "source": [
    "pca_df.replace({'label' : {0:'round', 1:'square', 2:'v'}}, inplace=True)"
   ]
  },
  {
   "cell_type": "code",
   "execution_count": null,
   "metadata": {
    "colab": {},
    "colab_type": "code",
    "id": "qyWSxS9Nfhw7"
   },
   "outputs": [],
   "source": [
    "pca_df['label'] = pca_df['label'].astype(object)"
   ]
  },
  {
   "cell_type": "code",
   "execution_count": null,
   "metadata": {
    "colab": {
     "base_uri": "https://localhost:8080/",
     "height": 299
    },
    "colab_type": "code",
    "id": "mS6KI65sc5ES",
    "outputId": "78e68543-1578-4ce8-b6a5-955e35087813"
   },
   "outputs": [
    {
     "data": {
      "text/plain": [
       "<matplotlib.axes._subplots.AxesSubplot at 0x7f6188ea4780>"
      ]
     },
     "execution_count": 33,
     "metadata": {
      "tags": []
     },
     "output_type": "execute_result"
    },
    {
     "data": {
      "image/png": "[encoded data removed]",
      "text/plain": [
       "<Figure size 432x288 with 1 Axes>"
      ]
     },
     "metadata": {
      "needs_background": "light",
      "tags": []
     },
     "output_type": "display_data"
    }
   ],
   "source": [
    "sns.scatterplot(x = 'dim1', y='dim2' , hue='label', data=pca_df )"
   ]
  },
  {
   "cell_type": "markdown",
   "metadata": {
    "colab": {},
    "colab_type": "code",
    "id": "dvjv_fYshdMg"
   },
   "source": [
    "---"
   ]
  },
  {
   "cell_type": "markdown",
   "metadata": {},
   "source": [
    "- target에 대한 사전셋(train-set)의 거리 범위 살피기\n",
    "> eg. test객체인 label '0' 에 대한 30개의 가장 가까운 객체들의 label과 distance 저장하고, 이들의 distance-range를 살핀다 "
   ]
  },
  {
   "cell_type": "code",
   "execution_count": null,
   "metadata": {
    "colab": {},
    "colab_type": "code",
    "id": "Nxw2XfhOaCrN"
   },
   "outputs": [],
   "source": [
    "ttt_result = neigh.radius_neighbors(valid_features[0].reshape(1,-1), 1.0, return_distance=True)"
   ]
  },
  {
   "cell_type": "code",
   "execution_count": null,
   "metadata": {
    "colab": {},
    "colab_type": "code",
    "id": "4O93WJTZaCrT"
   },
   "outputs": [],
   "source": [
    "knn_distance_df = pd.DataFrame({'distance':ttt_result[0][0], 'valid_index':ttt_result[1][0] }).sort_values(by='distance').reset_index(drop=True)"
   ]
  },
  {
   "cell_type": "code",
   "execution_count": null,
   "metadata": {
    "colab": {},
    "colab_type": "code",
    "id": "OOu_0Yhn1ba3"
   },
   "outputs": [],
   "source": [
    "#\n",
    "neigh = NearestNeighbors( n_neighbors=30 ) #radius : 1.0(default)\n",
    "neigh.fit( train_features )\n",
    "\n",
    "\n",
    "knn_distance_0 = pd.DataFrame()\n",
    "knn_distance_1 = pd.DataFrame()\n",
    "knn_distance_2 = pd.DataFrame()\n",
    "\n",
    "for s_idx in range(len(valid_features)):\n",
    "  \n",
    "  ttt_result = neigh.radius_neighbors(valid_features[s_idx].reshape(1,-1), 1.0, return_distance=True)\n",
    "  \n",
    "  # 타겟에 대한, 30개의 가까운 distance+label 저장\n",
    "  knn_distance_df = pd.DataFrame({'distance':ttt_result[0][0], 'valid_index':ttt_result[1][0] }).sort_values(by='distance').reset_index(drop=True)\n",
    "  knn_distance_df = knn_distance_df.head(30)\n",
    "  # label 붙여주기\n",
    "  knn_distance_df = pd.merge(knn_distance_df, train_label_df, left_on='valid_index', right_index=True)\n",
    "\n",
    "\n",
    "  if valid_y[s_idx] == 0:\n",
    "    knn_distance_0 = pd.concat([knn_distance_0, knn_distance_df], axis=0)\n",
    "  elif valid_y[s_idx] == 1:\n",
    "    knn_distance_1 = pd.concat([knn_distance_1, knn_distance_df], axis=0)\n",
    "  elif valid_y[s_idx] == 2:\n",
    "    knn_distance_2 = pd.concat([knn_distance_2, knn_distance_df], axis=0)"
   ]
  },
  {
   "cell_type": "code",
   "execution_count": null,
   "metadata": {
    "colab": {
     "base_uri": "https://localhost:8080/",
     "height": 204
    },
    "colab_type": "code",
    "id": "k5io9WyA6yyh",
    "outputId": "15c85feb-5ea3-4a35-c20c-83cd4b015fba"
   },
   "outputs": [
    {
     "data": {
      "text/html": [
       "<div>\n",
       "<style scoped>\n",
       "    .dataframe tbody tr th:only-of-type {\n",
       "        vertical-align: middle;\n",
       "    }\n",
       "\n",
       "    .dataframe tbody tr th {\n",
       "        vertical-align: top;\n",
       "    }\n",
       "\n",
       "    .dataframe thead th {\n",
       "        text-align: right;\n",
       "    }\n",
       "</style>\n",
       "<table border=\"1\" class=\"dataframe\">\n",
       "  <thead>\n",
       "    <tr style=\"text-align: right;\">\n",
       "      <th></th>\n",
       "      <th>distance</th>\n",
       "      <th>valid_index</th>\n",
       "      <th>y_label</th>\n",
       "    </tr>\n",
       "  </thead>\n",
       "  <tbody>\n",
       "    <tr>\n",
       "      <th>0</th>\n",
       "      <td>0.493078</td>\n",
       "      <td>306</td>\n",
       "      <td>2</td>\n",
       "    </tr>\n",
       "    <tr>\n",
       "      <th>1</th>\n",
       "      <td>0.493078</td>\n",
       "      <td>359</td>\n",
       "      <td>2</td>\n",
       "    </tr>\n",
       "    <tr>\n",
       "      <th>2</th>\n",
       "      <td>0.519242</td>\n",
       "      <td>209</td>\n",
       "      <td>1</td>\n",
       "    </tr>\n",
       "    <tr>\n",
       "      <th>3</th>\n",
       "      <td>0.525376</td>\n",
       "      <td>426</td>\n",
       "      <td>2</td>\n",
       "    </tr>\n",
       "    <tr>\n",
       "      <th>4</th>\n",
       "      <td>0.525753</td>\n",
       "      <td>403</td>\n",
       "      <td>2</td>\n",
       "    </tr>\n",
       "  </tbody>\n",
       "</table>\n",
       "</div>"
      ],
      "text/plain": [
       "   distance  valid_index  y_label\n",
       "0  0.493078          306        2\n",
       "1  0.493078          359        2\n",
       "2  0.519242          209        1\n",
       "3  0.525376          426        2\n",
       "4  0.525753          403        2"
      ]
     },
     "execution_count": 45,
     "metadata": {
      "tags": []
     },
     "output_type": "execute_result"
    }
   ],
   "source": [
    "knn_distance_df.head()"
   ]
  },
  {
   "cell_type": "code",
   "execution_count": null,
   "metadata": {
    "colab": {},
    "colab_type": "code",
    "id": "42QJIg5M6ywi"
   },
   "outputs": [],
   "source": []
  },
  {
   "cell_type": "code",
   "execution_count": null,
   "metadata": {
    "colab": {
     "base_uri": "https://localhost:8080/",
     "height": 34
    },
    "colab_type": "code",
    "id": "-IWh5jOlmKun",
    "outputId": "7f494582-19cd-4bf1-ccb1-64efb023d214"
   },
   "outputs": [
    {
     "data": {
      "text/plain": [
       "124"
      ]
     },
     "execution_count": 93,
     "metadata": {
      "tags": []
     },
     "output_type": "execute_result"
    }
   ],
   "source": [
    "len(valid_features)"
   ]
  },
  {
   "cell_type": "code",
   "execution_count": null,
   "metadata": {
    "colab": {
     "base_uri": "https://localhost:8080/",
     "height": 34
    },
    "colab_type": "code",
    "id": "8k1QPikUljOE",
    "outputId": "e47b47fc-1418-4821-9036-fb1073c0cc2e"
   },
   "outputs": [
    {
     "data": {
      "text/plain": [
       "(1020, 2)"
      ]
     },
     "execution_count": 92,
     "metadata": {
      "tags": []
     },
     "output_type": "execute_result"
    }
   ],
   "source": [
    "knn_distance_0.shape"
   ]
  },
  {
   "cell_type": "code",
   "execution_count": null,
   "metadata": {
    "colab": {
     "base_uri": "https://localhost:8080/",
     "height": 34
    },
    "colab_type": "code",
    "id": "tbdOmD1hmPtP",
    "outputId": "7c9ee116-0066-4b4b-98cf-30ed6ff80218"
   },
   "outputs": [
    {
     "data": {
      "text/plain": [
       "(1380, 2)"
      ]
     },
     "execution_count": 95,
     "metadata": {
      "tags": []
     },
     "output_type": "execute_result"
    }
   ],
   "source": [
    "knn_distance_1.shape"
   ]
  },
  {
   "cell_type": "code",
   "execution_count": null,
   "metadata": {
    "colab": {
     "base_uri": "https://localhost:8080/",
     "height": 34
    },
    "colab_type": "code",
    "id": "HLvQnMXImRnE",
    "outputId": "01c5ebb8-37d0-426c-b0ba-3508f00bc096"
   },
   "outputs": [
    {
     "data": {
      "text/plain": [
       "(1320, 2)"
      ]
     },
     "execution_count": 96,
     "metadata": {
      "tags": []
     },
     "output_type": "execute_result"
    }
   ],
   "source": [
    "knn_distance_2.shape"
   ]
  },
  {
   "cell_type": "code",
   "execution_count": null,
   "metadata": {
    "colab": {
     "base_uri": "https://localhost:8080/",
     "height": 34
    },
    "colab_type": "code",
    "id": "7mRAr3-8lGL-",
    "outputId": "91c4e013-5a42-4c3d-acd2-7aab6668203e"
   },
   "outputs": [
    {
     "data": {
      "text/plain": [
       "3720"
      ]
     },
     "execution_count": 94,
     "metadata": {
      "tags": []
     },
     "output_type": "execute_result"
    }
   ],
   "source": [
    "124*30"
   ]
  },
  {
   "cell_type": "code",
   "execution_count": null,
   "metadata": {
    "colab": {
     "base_uri": "https://localhost:8080/",
     "height": 204
    },
    "colab_type": "code",
    "id": "3zTbHDkTmd7h",
    "outputId": "369aca33-58be-400a-8f5a-bc4fc465aa32"
   },
   "outputs": [
    {
     "data": {
      "text/html": [
       "<div>\n",
       "<style scoped>\n",
       "    .dataframe tbody tr th:only-of-type {\n",
       "        vertical-align: middle;\n",
       "    }\n",
       "\n",
       "    .dataframe tbody tr th {\n",
       "        vertical-align: top;\n",
       "    }\n",
       "\n",
       "    .dataframe thead th {\n",
       "        text-align: right;\n",
       "    }\n",
       "</style>\n",
       "<table border=\"1\" class=\"dataframe\">\n",
       "  <thead>\n",
       "    <tr style=\"text-align: right;\">\n",
       "      <th></th>\n",
       "      <th>distance</th>\n",
       "      <th>valid_index</th>\n",
       "    </tr>\n",
       "  </thead>\n",
       "  <tbody>\n",
       "    <tr>\n",
       "      <th>0</th>\n",
       "      <td>0.425649</td>\n",
       "      <td>39</td>\n",
       "    </tr>\n",
       "    <tr>\n",
       "      <th>1</th>\n",
       "      <td>0.465409</td>\n",
       "      <td>218</td>\n",
       "    </tr>\n",
       "    <tr>\n",
       "      <th>2</th>\n",
       "      <td>0.468463</td>\n",
       "      <td>76</td>\n",
       "    </tr>\n",
       "    <tr>\n",
       "      <th>3</th>\n",
       "      <td>0.469052</td>\n",
       "      <td>236</td>\n",
       "    </tr>\n",
       "    <tr>\n",
       "      <th>4</th>\n",
       "      <td>0.469052</td>\n",
       "      <td>255</td>\n",
       "    </tr>\n",
       "  </tbody>\n",
       "</table>\n",
       "</div>"
      ],
      "text/plain": [
       "   distance  valid_index\n",
       "0  0.425649           39\n",
       "1  0.465409          218\n",
       "2  0.468463           76\n",
       "3  0.469052          236\n",
       "4  0.469052          255"
      ]
     },
     "execution_count": 98,
     "metadata": {
      "tags": []
     },
     "output_type": "execute_result"
    }
   ],
   "source": [
    "knn_distance_0.head()"
   ]
  },
  {
   "cell_type": "code",
   "execution_count": null,
   "metadata": {
    "colab": {
     "base_uri": "https://localhost:8080/",
     "height": 386
    },
    "colab_type": "code",
    "id": "c26m6kHQlGI3",
    "outputId": "7490a543-47b0-4368-c42b-ac51918c90fd"
   },
   "outputs": [
    {
     "data": {
      "text/plain": [
       "<seaborn.axisgrid.FacetGrid at 0x7f6186d898d0>"
      ]
     },
     "execution_count": 46,
     "metadata": {
      "tags": []
     },
     "output_type": "execute_result"
    },
    {
     "data": {
      "image/png": "[encoded data removed]",
      "text/plain": [
       "<Figure size 360x360 with 1 Axes>"
      ]
     },
     "metadata": {
      "needs_background": "light",
      "tags": []
     },
     "output_type": "display_data"
    }
   ],
   "source": [
    "import seaborn as sns\n",
    "\n",
    "sns.catplot(x=\"y_label\", y=\"distance\", data=knn_distance_0)"
   ]
  },
  {
   "cell_type": "code",
   "execution_count": null,
   "metadata": {
    "colab": {
     "base_uri": "https://localhost:8080/",
     "height": 386
    },
    "colab_type": "code",
    "id": "0FMiKrRv8Syl",
    "outputId": "4f46a628-5958-4a94-ae49-362dd0b906aa"
   },
   "outputs": [
    {
     "data": {
      "text/plain": [
       "<seaborn.axisgrid.FacetGrid at 0x7f61847585c0>"
      ]
     },
     "execution_count": 56,
     "metadata": {
      "tags": []
     },
     "output_type": "execute_result"
    },
    {
     "data": {
      "image/png": "[encoded data removed]",
      "text/plain": [
       "<Figure size 360x360 with 1 Axes>"
      ]
     },
     "metadata": {
      "needs_background": "light",
      "tags": []
     },
     "output_type": "display_data"
    }
   ],
   "source": [
    "sns.catplot(x=\"y_label\", y=\"distance\", kind='boxen',data=knn_distance_0)"
   ]
  },
  {
   "cell_type": "code",
   "execution_count": null,
   "metadata": {
    "colab": {
     "base_uri": "https://localhost:8080/",
     "height": 386
    },
    "colab_type": "code",
    "id": "ASsXeoMDlGGl",
    "outputId": "8bb6b6e5-0b30-4c04-dde7-8bd3ef6caab8"
   },
   "outputs": [
    {
     "data": {
      "text/plain": [
       "<seaborn.axisgrid.FacetGrid at 0x7f61848673c8>"
      ]
     },
     "execution_count": 47,
     "metadata": {
      "tags": []
     },
     "output_type": "execute_result"
    },
    {
     "data": {
      "image/png": "[encoded data removed]",
      "text/plain": [
       "<Figure size 360x360 with 1 Axes>"
      ]
     },
     "metadata": {
      "needs_background": "light",
      "tags": []
     },
     "output_type": "display_data"
    }
   ],
   "source": [
    "sns.catplot(x=\"y_label\", y=\"distance\", data=knn_distance_1)"
   ]
  },
  {
   "cell_type": "code",
   "execution_count": null,
   "metadata": {
    "colab": {
     "base_uri": "https://localhost:8080/",
     "height": 386
    },
    "colab_type": "code",
    "id": "tC23xiqO8K5N",
    "outputId": "7c23b2d2-7d59-4c14-e745-1dbd7ce58edb"
   },
   "outputs": [
    {
     "data": {
      "text/plain": [
       "<seaborn.axisgrid.FacetGrid at 0x7f6184628b00>"
      ]
     },
     "execution_count": 55,
     "metadata": {
      "tags": []
     },
     "output_type": "execute_result"
    },
    {
     "data": {
      "image/png": "[encoded data removed]",
      "text/plain": [
       "<Figure size 360x360 with 1 Axes>"
      ]
     },
     "metadata": {
      "needs_background": "light",
      "tags": []
     },
     "output_type": "display_data"
    }
   ],
   "source": [
    "sns.catplot(x=\"y_label\", y=\"distance\", kind='boxen', data=knn_distance_1)"
   ]
  },
  {
   "cell_type": "code",
   "execution_count": null,
   "metadata": {
    "colab": {
     "base_uri": "https://localhost:8080/",
     "height": 386
    },
    "colab_type": "code",
    "id": "51_jKmpr70fP",
    "outputId": "b844c2a4-b07b-4993-a5b1-c8a26c254d65"
   },
   "outputs": [
    {
     "data": {
      "text/plain": [
       "<seaborn.axisgrid.FacetGrid at 0x7f61846371d0>"
      ]
     },
     "execution_count": 52,
     "metadata": {
      "tags": []
     },
     "output_type": "execute_result"
    },
    {
     "data": {
      "image/png": "[encoded data removed]",
      "text/plain": [
       "<Figure size 360x360 with 1 Axes>"
      ]
     },
     "metadata": {
      "needs_background": "light",
      "tags": []
     },
     "output_type": "display_data"
    }
   ],
   "source": [
    "sns.catplot(x=\"y_label\", y=\"distance\",  data=knn_distance_2)"
   ]
  },
  {
   "cell_type": "code",
   "execution_count": null,
   "metadata": {
    "colab": {
     "base_uri": "https://localhost:8080/",
     "height": 386
    },
    "colab_type": "code",
    "id": "siWiy-YY7cKi",
    "outputId": "17b74cd2-2753-422e-e5f1-6d4fe3f57a76"
   },
   "outputs": [
    {
     "data": {
      "text/plain": [
       "<seaborn.axisgrid.FacetGrid at 0x7f618486b160>"
      ]
     },
     "execution_count": 54,
     "metadata": {
      "tags": []
     },
     "output_type": "execute_result"
    },
    {
     "data": {
      "image/png": "[encoded data removed]",
      "text/plain": [
       "<Figure size 360x360 with 1 Axes>"
      ]
     },
     "metadata": {
      "needs_background": "light",
      "tags": []
     },
     "output_type": "display_data"
    }
   ],
   "source": [
    "sns.catplot(x=\"y_label\", y=\"distance\", kind='boxen', data=knn_distance_2)"
   ]
  },
  {
   "cell_type": "code",
   "execution_count": null,
   "metadata": {
    "colab": {},
    "colab_type": "code",
    "id": "cRaUM5u5XrF3"
   },
   "outputs": [],
   "source": []
  },
  {
   "cell_type": "markdown",
   "metadata": {
    "colab_type": "text",
    "id": "zVVt_da5V3Rl"
   },
   "source": [
    "\n",
    "\n",
    "---\n",
    "\n",
    "\n",
    "\n",
    "---\n",
    "\n"
   ]
  }
 ],
 "metadata": {
  "colab": {
   "collapsed_sections": [
    "QTeDv83CaIz1"
   ],
   "name": "object_localizer+훈련_neckline_crop+filtering_FAISS",
   "provenance": []
  },
  "kernelspec": {
   "display_name": "Python 3",
   "language": "python",
   "name": "python3"
  },
  "language_info": {
   "codemirror_mode": {
    "name": "ipython",
    "version": 3
   },
   "file_extension": ".py",
   "mimetype": "text/x-python",
   "name": "python",
   "nbconvert_exporter": "python",
   "pygments_lexer": "ipython3",
   "version": "3.6.5"
  },
  "widgets": {
   "application/vnd.jupyter.widget-state+json": {
    "067ea01f50c84034b8352d2de3dc51eb": {
     "model_module": "@jupyter-widgets/controls",
     "model_name": "DescriptionStyleModel",
     "state": {
      "_model_module": "@jupyter-widgets/controls",
      "_model_module_version": "1.5.0",
      "_model_name": "DescriptionStyleModel",
      "_view_count": null,
      "_view_module": "@jupyter-widgets/base",
      "_view_module_version": "1.2.0",
      "_view_name": "StyleView",
      "description_width": ""
     }
    },
    "1257060b2c444dcfb920e6b5ab6b6eea": {
     "model_module": "@jupyter-widgets/controls",
     "model_name": "HBoxModel",
     "state": {
      "_dom_classes": [],
      "_model_module": "@jupyter-widgets/controls",
      "_model_module_version": "1.5.0",
      "_model_name": "HBoxModel",
      "_view_count": null,
      "_view_module": "@jupyter-widgets/controls",
      "_view_module_version": "1.5.0",
      "_view_name": "HBoxView",
      "box_style": "",
      "children": [
       "IPY_MODEL_8633e3a1d9c8496c8340ad041eb1c901",
       "IPY_MODEL_69a3455e4ed24394aaf248f3c9df1c8b"
      ],
      "layout": "IPY_MODEL_8950d2fd3f3a4b88b60c0ba7fb6c8701"
     }
    },
    "141b482fa1264a569834d51285872131": {
     "model_module": "@jupyter-widgets/base",
     "model_name": "LayoutModel",
     "state": {
      "_model_module": "@jupyter-widgets/base",
      "_model_module_version": "1.2.0",
      "_model_name": "LayoutModel",
      "_view_count": null,
      "_view_module": "@jupyter-widgets/base",
      "_view_module_version": "1.2.0",
      "_view_name": "LayoutView",
      "align_content": null,
      "align_items": null,
      "align_self": null,
      "border": null,
      "bottom": null,
      "display": null,
      "flex": null,
      "flex_flow": null,
      "grid_area": null,
      "grid_auto_columns": null,
      "grid_auto_flow": null,
      "grid_auto_rows": null,
      "grid_column": null,
      "grid_gap": null,
      "grid_row": null,
      "grid_template_areas": null,
      "grid_template_columns": null,
      "grid_template_rows": null,
      "height": null,
      "justify_content": null,
      "justify_items": null,
      "left": null,
      "margin": null,
      "max_height": null,
      "max_width": null,
      "min_height": null,
      "min_width": null,
      "object_fit": null,
      "object_position": null,
      "order": null,
      "overflow": null,
      "overflow_x": null,
      "overflow_y": null,
      "padding": null,
      "right": null,
      "top": null,
      "visibility": null,
      "width": null
     }
    },
    "14983af5908444a7ab3309493d2c815e": {
     "model_module": "@jupyter-widgets/controls",
     "model_name": "HBoxModel",
     "state": {
      "_dom_classes": [],
      "_model_module": "@jupyter-widgets/controls",
      "_model_module_version": "1.5.0",
      "_model_name": "HBoxModel",
      "_view_count": null,
      "_view_module": "@jupyter-widgets/controls",
      "_view_module_version": "1.5.0",
      "_view_name": "HBoxView",
      "box_style": "",
      "children": [
       "IPY_MODEL_e939f59ba54e4b028b67130920253f0d",
       "IPY_MODEL_ec810c380afe4a0d867be92c2c8d1966"
      ],
      "layout": "IPY_MODEL_1611492494ba4d9ba30e245df4c7f5c9"
     }
    },
    "1611492494ba4d9ba30e245df4c7f5c9": {
     "model_module": "@jupyter-widgets/base",
     "model_name": "LayoutModel",
     "state": {
      "_model_module": "@jupyter-widgets/base",
      "_model_module_version": "1.2.0",
      "_model_name": "LayoutModel",
      "_view_count": null,
      "_view_module": "@jupyter-widgets/base",
      "_view_module_version": "1.2.0",
      "_view_name": "LayoutView",
      "align_content": null,
      "align_items": null,
      "align_self": null,
      "border": null,
      "bottom": null,
      "display": null,
      "flex": null,
      "flex_flow": null,
      "grid_area": null,
      "grid_auto_columns": null,
      "grid_auto_flow": null,
      "grid_auto_rows": null,
      "grid_column": null,
      "grid_gap": null,
      "grid_row": null,
      "grid_template_areas": null,
      "grid_template_columns": null,
      "grid_template_rows": null,
      "height": null,
      "justify_content": null,
      "justify_items": null,
      "left": null,
      "margin": null,
      "max_height": null,
      "max_width": null,
      "min_height": null,
      "min_width": null,
      "object_fit": null,
      "object_position": null,
      "order": null,
      "overflow": null,
      "overflow_x": null,
      "overflow_y": null,
      "padding": null,
      "right": null,
      "top": null,
      "visibility": null,
      "width": null
     }
    },
    "173c0cef123148c2b6a156c3dd5ecea8": {
     "model_module": "@jupyter-widgets/controls",
     "model_name": "HTMLModel",
     "state": {
      "_dom_classes": [],
      "_model_module": "@jupyter-widgets/controls",
      "_model_module_version": "1.5.0",
      "_model_name": "HTMLModel",
      "_view_count": null,
      "_view_module": "@jupyter-widgets/controls",
      "_view_module_version": "1.5.0",
      "_view_name": "HTMLView",
      "description": "",
      "description_tooltip": null,
      "layout": "IPY_MODEL_8427f4f550f44949bc6d2bde745fdde9",
      "placeholder": "​",
      "style": "IPY_MODEL_067ea01f50c84034b8352d2de3dc51eb",
      "value": " 124/? [00:47&lt;00:00,  2.63it/s]"
     }
    },
    "1fd8e07a8bcb4468a2ac260d454398cf": {
     "model_module": "@jupyter-widgets/controls",
     "model_name": "HBoxModel",
     "state": {
      "_dom_classes": [],
      "_model_module": "@jupyter-widgets/controls",
      "_model_module_version": "1.5.0",
      "_model_name": "HBoxModel",
      "_view_count": null,
      "_view_module": "@jupyter-widgets/controls",
      "_view_module_version": "1.5.0",
      "_view_name": "HBoxView",
      "box_style": "",
      "children": [
       "IPY_MODEL_9cc7e9315ac74f98b766fb60bbe2f26f",
       "IPY_MODEL_5a8273072bf549569846d2fdd02c1284"
      ],
      "layout": "IPY_MODEL_3aeb388a551d4fc7b1cee94d8461d9ce"
     }
    },
    "2cc9ee2a3b564cf2b82ab48b4bf7aec6": {
     "model_module": "@jupyter-widgets/controls",
     "model_name": "ProgressStyleModel",
     "state": {
      "_model_module": "@jupyter-widgets/controls",
      "_model_module_version": "1.5.0",
      "_model_name": "ProgressStyleModel",
      "_view_count": null,
      "_view_module": "@jupyter-widgets/base",
      "_view_module_version": "1.2.0",
      "_view_name": "StyleView",
      "bar_color": null,
      "description_width": "initial"
     }
    },
    "31aa8c4ff98a4ed7b15bfa27a0b71d5c": {
     "model_module": "@jupyter-widgets/base",
     "model_name": "LayoutModel",
     "state": {
      "_model_module": "@jupyter-widgets/base",
      "_model_module_version": "1.2.0",
      "_model_name": "LayoutModel",
      "_view_count": null,
      "_view_module": "@jupyter-widgets/base",
      "_view_module_version": "1.2.0",
      "_view_name": "LayoutView",
      "align_content": null,
      "align_items": null,
      "align_self": null,
      "border": null,
      "bottom": null,
      "display": null,
      "flex": null,
      "flex_flow": null,
      "grid_area": null,
      "grid_auto_columns": null,
      "grid_auto_flow": null,
      "grid_auto_rows": null,
      "grid_column": null,
      "grid_gap": null,
      "grid_row": null,
      "grid_template_areas": null,
      "grid_template_columns": null,
      "grid_template_rows": null,
      "height": null,
      "justify_content": null,
      "justify_items": null,
      "left": null,
      "margin": null,
      "max_height": null,
      "max_width": null,
      "min_height": null,
      "min_width": null,
      "object_fit": null,
      "object_position": null,
      "order": null,
      "overflow": null,
      "overflow_x": null,
      "overflow_y": null,
      "padding": null,
      "right": null,
      "top": null,
      "visibility": null,
      "width": null
     }
    },
    "341b1d4b55ac4e53987c6454a56d3d1b": {
     "model_module": "@jupyter-widgets/base",
     "model_name": "LayoutModel",
     "state": {
      "_model_module": "@jupyter-widgets/base",
      "_model_module_version": "1.2.0",
      "_model_name": "LayoutModel",
      "_view_count": null,
      "_view_module": "@jupyter-widgets/base",
      "_view_module_version": "1.2.0",
      "_view_name": "LayoutView",
      "align_content": null,
      "align_items": null,
      "align_self": null,
      "border": null,
      "bottom": null,
      "display": null,
      "flex": null,
      "flex_flow": null,
      "grid_area": null,
      "grid_auto_columns": null,
      "grid_auto_flow": null,
      "grid_auto_rows": null,
      "grid_column": null,
      "grid_gap": null,
      "grid_row": null,
      "grid_template_areas": null,
      "grid_template_columns": null,
      "grid_template_rows": null,
      "height": null,
      "justify_content": null,
      "justify_items": null,
      "left": null,
      "margin": null,
      "max_height": null,
      "max_width": null,
      "min_height": null,
      "min_width": null,
      "object_fit": null,
      "object_position": null,
      "order": null,
      "overflow": null,
      "overflow_x": null,
      "overflow_y": null,
      "padding": null,
      "right": null,
      "top": null,
      "visibility": null,
      "width": null
     }
    },
    "347edcc728ac4cd4a187d7753b27e3c3": {
     "model_module": "@jupyter-widgets/controls",
     "model_name": "ProgressStyleModel",
     "state": {
      "_model_module": "@jupyter-widgets/controls",
      "_model_module_version": "1.5.0",
      "_model_name": "ProgressStyleModel",
      "_view_count": null,
      "_view_module": "@jupyter-widgets/base",
      "_view_module_version": "1.2.0",
      "_view_name": "StyleView",
      "bar_color": null,
      "description_width": "initial"
     }
    },
    "360ae45ff8e14234b0e45623c91f7cbf": {
     "model_module": "@jupyter-widgets/base",
     "model_name": "LayoutModel",
     "state": {
      "_model_module": "@jupyter-widgets/base",
      "_model_module_version": "1.2.0",
      "_model_name": "LayoutModel",
      "_view_count": null,
      "_view_module": "@jupyter-widgets/base",
      "_view_module_version": "1.2.0",
      "_view_name": "LayoutView",
      "align_content": null,
      "align_items": null,
      "align_self": null,
      "border": null,
      "bottom": null,
      "display": null,
      "flex": null,
      "flex_flow": null,
      "grid_area": null,
      "grid_auto_columns": null,
      "grid_auto_flow": null,
      "grid_auto_rows": null,
      "grid_column": null,
      "grid_gap": null,
      "grid_row": null,
      "grid_template_areas": null,
      "grid_template_columns": null,
      "grid_template_rows": null,
      "height": null,
      "justify_content": null,
      "justify_items": null,
      "left": null,
      "margin": null,
      "max_height": null,
      "max_width": null,
      "min_height": null,
      "min_width": null,
      "object_fit": null,
      "object_position": null,
      "order": null,
      "overflow": null,
      "overflow_x": null,
      "overflow_y": null,
      "padding": null,
      "right": null,
      "top": null,
      "visibility": null,
      "width": null
     }
    },
    "3a0b242893f243feb927ec11f7e70c98": {
     "model_module": "@jupyter-widgets/controls",
     "model_name": "DescriptionStyleModel",
     "state": {
      "_model_module": "@jupyter-widgets/controls",
      "_model_module_version": "1.5.0",
      "_model_name": "DescriptionStyleModel",
      "_view_count": null,
      "_view_module": "@jupyter-widgets/base",
      "_view_module_version": "1.2.0",
      "_view_name": "StyleView",
      "description_width": ""
     }
    },
    "3aeb388a551d4fc7b1cee94d8461d9ce": {
     "model_module": "@jupyter-widgets/base",
     "model_name": "LayoutModel",
     "state": {
      "_model_module": "@jupyter-widgets/base",
      "_model_module_version": "1.2.0",
      "_model_name": "LayoutModel",
      "_view_count": null,
      "_view_module": "@jupyter-widgets/base",
      "_view_module_version": "1.2.0",
      "_view_name": "LayoutView",
      "align_content": null,
      "align_items": null,
      "align_self": null,
      "border": null,
      "bottom": null,
      "display": null,
      "flex": null,
      "flex_flow": null,
      "grid_area": null,
      "grid_auto_columns": null,
      "grid_auto_flow": null,
      "grid_auto_rows": null,
      "grid_column": null,
      "grid_gap": null,
      "grid_row": null,
      "grid_template_areas": null,
      "grid_template_columns": null,
      "grid_template_rows": null,
      "height": null,
      "justify_content": null,
      "justify_items": null,
      "left": null,
      "margin": null,
      "max_height": null,
      "max_width": null,
      "min_height": null,
      "min_width": null,
      "object_fit": null,
      "object_position": null,
      "order": null,
      "overflow": null,
      "overflow_x": null,
      "overflow_y": null,
      "padding": null,
      "right": null,
      "top": null,
      "visibility": null,
      "width": null
     }
    },
    "3bd84617724945c795dc29e4189caf72": {
     "model_module": "@jupyter-widgets/base",
     "model_name": "LayoutModel",
     "state": {
      "_model_module": "@jupyter-widgets/base",
      "_model_module_version": "1.2.0",
      "_model_name": "LayoutModel",
      "_view_count": null,
      "_view_module": "@jupyter-widgets/base",
      "_view_module_version": "1.2.0",
      "_view_name": "LayoutView",
      "align_content": null,
      "align_items": null,
      "align_self": null,
      "border": null,
      "bottom": null,
      "display": null,
      "flex": null,
      "flex_flow": null,
      "grid_area": null,
      "grid_auto_columns": null,
      "grid_auto_flow": null,
      "grid_auto_rows": null,
      "grid_column": null,
      "grid_gap": null,
      "grid_row": null,
      "grid_template_areas": null,
      "grid_template_columns": null,
      "grid_template_rows": null,
      "height": null,
      "justify_content": null,
      "justify_items": null,
      "left": null,
      "margin": null,
      "max_height": null,
      "max_width": null,
      "min_height": null,
      "min_width": null,
      "object_fit": null,
      "object_position": null,
      "order": null,
      "overflow": null,
      "overflow_x": null,
      "overflow_y": null,
      "padding": null,
      "right": null,
      "top": null,
      "visibility": null,
      "width": null
     }
    },
    "46a75ab0575b4254a2fa3d63ae47cf17": {
     "model_module": "@jupyter-widgets/controls",
     "model_name": "DescriptionStyleModel",
     "state": {
      "_model_module": "@jupyter-widgets/controls",
      "_model_module_version": "1.5.0",
      "_model_name": "DescriptionStyleModel",
      "_view_count": null,
      "_view_module": "@jupyter-widgets/base",
      "_view_module_version": "1.2.0",
      "_view_name": "StyleView",
      "description_width": ""
     }
    },
    "47294ef485264a9d99fe062225ec137d": {
     "model_module": "@jupyter-widgets/base",
     "model_name": "LayoutModel",
     "state": {
      "_model_module": "@jupyter-widgets/base",
      "_model_module_version": "1.2.0",
      "_model_name": "LayoutModel",
      "_view_count": null,
      "_view_module": "@jupyter-widgets/base",
      "_view_module_version": "1.2.0",
      "_view_name": "LayoutView",
      "align_content": null,
      "align_items": null,
      "align_self": null,
      "border": null,
      "bottom": null,
      "display": null,
      "flex": null,
      "flex_flow": null,
      "grid_area": null,
      "grid_auto_columns": null,
      "grid_auto_flow": null,
      "grid_auto_rows": null,
      "grid_column": null,
      "grid_gap": null,
      "grid_row": null,
      "grid_template_areas": null,
      "grid_template_columns": null,
      "grid_template_rows": null,
      "height": null,
      "justify_content": null,
      "justify_items": null,
      "left": null,
      "margin": null,
      "max_height": null,
      "max_width": null,
      "min_height": null,
      "min_width": null,
      "object_fit": null,
      "object_position": null,
      "order": null,
      "overflow": null,
      "overflow_x": null,
      "overflow_y": null,
      "padding": null,
      "right": null,
      "top": null,
      "visibility": null,
      "width": null
     }
    },
    "4cf7464d177a49f180ffdf8bbcaa555f": {
     "model_module": "@jupyter-widgets/base",
     "model_name": "LayoutModel",
     "state": {
      "_model_module": "@jupyter-widgets/base",
      "_model_module_version": "1.2.0",
      "_model_name": "LayoutModel",
      "_view_count": null,
      "_view_module": "@jupyter-widgets/base",
      "_view_module_version": "1.2.0",
      "_view_name": "LayoutView",
      "align_content": null,
      "align_items": null,
      "align_self": null,
      "border": null,
      "bottom": null,
      "display": null,
      "flex": null,
      "flex_flow": null,
      "grid_area": null,
      "grid_auto_columns": null,
      "grid_auto_flow": null,
      "grid_auto_rows": null,
      "grid_column": null,
      "grid_gap": null,
      "grid_row": null,
      "grid_template_areas": null,
      "grid_template_columns": null,
      "grid_template_rows": null,
      "height": null,
      "justify_content": null,
      "justify_items": null,
      "left": null,
      "margin": null,
      "max_height": null,
      "max_width": null,
      "min_height": null,
      "min_width": null,
      "object_fit": null,
      "object_position": null,
      "order": null,
      "overflow": null,
      "overflow_x": null,
      "overflow_y": null,
      "padding": null,
      "right": null,
      "top": null,
      "visibility": null,
      "width": null
     }
    },
    "4d45f6c7446f463f931280a9cfa45f75": {
     "model_module": "@jupyter-widgets/controls",
     "model_name": "ProgressStyleModel",
     "state": {
      "_model_module": "@jupyter-widgets/controls",
      "_model_module_version": "1.5.0",
      "_model_name": "ProgressStyleModel",
      "_view_count": null,
      "_view_module": "@jupyter-widgets/base",
      "_view_module_version": "1.2.0",
      "_view_name": "StyleView",
      "bar_color": null,
      "description_width": "initial"
     }
    },
    "5a8273072bf549569846d2fdd02c1284": {
     "model_module": "@jupyter-widgets/controls",
     "model_name": "HTMLModel",
     "state": {
      "_dom_classes": [],
      "_model_module": "@jupyter-widgets/controls",
      "_model_module_version": "1.5.0",
      "_model_name": "HTMLModel",
      "_view_count": null,
      "_view_module": "@jupyter-widgets/controls",
      "_view_module_version": "1.5.0",
      "_view_name": "HTMLView",
      "description": "",
      "description_tooltip": null,
      "layout": "IPY_MODEL_4cf7464d177a49f180ffdf8bbcaa555f",
      "placeholder": "​",
      "style": "IPY_MODEL_6cb4d81079c143d29e72307692ba0b35",
      "value": " 459/? [02:22&lt;00:00,  3.23it/s]"
     }
    },
    "69a3455e4ed24394aaf248f3c9df1c8b": {
     "model_module": "@jupyter-widgets/controls",
     "model_name": "HTMLModel",
     "state": {
      "_dom_classes": [],
      "_model_module": "@jupyter-widgets/controls",
      "_model_module_version": "1.5.0",
      "_model_name": "HTMLModel",
      "_view_count": null,
      "_view_module": "@jupyter-widgets/controls",
      "_view_module_version": "1.5.0",
      "_view_name": "HTMLView",
      "description": "",
      "description_tooltip": null,
      "layout": "IPY_MODEL_84d9f036af73447f8e92ce74a9c960eb",
      "placeholder": "​",
      "style": "IPY_MODEL_3a0b242893f243feb927ec11f7e70c98",
      "value": " 459/459 [1:58:51&lt;00:00, 15.54s/it]"
     }
    },
    "6c319d8fe1134c46aa5e607503732590": {
     "model_module": "@jupyter-widgets/controls",
     "model_name": "HTMLModel",
     "state": {
      "_dom_classes": [],
      "_model_module": "@jupyter-widgets/controls",
      "_model_module_version": "1.5.0",
      "_model_name": "HTMLModel",
      "_view_count": null,
      "_view_module": "@jupyter-widgets/controls",
      "_view_module_version": "1.5.0",
      "_view_name": "HTMLView",
      "description": "",
      "description_tooltip": null,
      "layout": "IPY_MODEL_31aa8c4ff98a4ed7b15bfa27a0b71d5c",
      "placeholder": "​",
      "style": "IPY_MODEL_46a75ab0575b4254a2fa3d63ae47cf17",
      "value": " 124/124 [06:25&lt;00:00,  3.11s/it]"
     }
    },
    "6cb4d81079c143d29e72307692ba0b35": {
     "model_module": "@jupyter-widgets/controls",
     "model_name": "DescriptionStyleModel",
     "state": {
      "_model_module": "@jupyter-widgets/controls",
      "_model_module_version": "1.5.0",
      "_model_name": "DescriptionStyleModel",
      "_view_count": null,
      "_view_module": "@jupyter-widgets/base",
      "_view_module_version": "1.2.0",
      "_view_name": "StyleView",
      "description_width": ""
     }
    },
    "8427f4f550f44949bc6d2bde745fdde9": {
     "model_module": "@jupyter-widgets/base",
     "model_name": "LayoutModel",
     "state": {
      "_model_module": "@jupyter-widgets/base",
      "_model_module_version": "1.2.0",
      "_model_name": "LayoutModel",
      "_view_count": null,
      "_view_module": "@jupyter-widgets/base",
      "_view_module_version": "1.2.0",
      "_view_name": "LayoutView",
      "align_content": null,
      "align_items": null,
      "align_self": null,
      "border": null,
      "bottom": null,
      "display": null,
      "flex": null,
      "flex_flow": null,
      "grid_area": null,
      "grid_auto_columns": null,
      "grid_auto_flow": null,
      "grid_auto_rows": null,
      "grid_column": null,
      "grid_gap": null,
      "grid_row": null,
      "grid_template_areas": null,
      "grid_template_columns": null,
      "grid_template_rows": null,
      "height": null,
      "justify_content": null,
      "justify_items": null,
      "left": null,
      "margin": null,
      "max_height": null,
      "max_width": null,
      "min_height": null,
      "min_width": null,
      "object_fit": null,
      "object_position": null,
      "order": null,
      "overflow": null,
      "overflow_x": null,
      "overflow_y": null,
      "padding": null,
      "right": null,
      "top": null,
      "visibility": null,
      "width": null
     }
    },
    "84d9f036af73447f8e92ce74a9c960eb": {
     "model_module": "@jupyter-widgets/base",
     "model_name": "LayoutModel",
     "state": {
      "_model_module": "@jupyter-widgets/base",
      "_model_module_version": "1.2.0",
      "_model_name": "LayoutModel",
      "_view_count": null,
      "_view_module": "@jupyter-widgets/base",
      "_view_module_version": "1.2.0",
      "_view_name": "LayoutView",
      "align_content": null,
      "align_items": null,
      "align_self": null,
      "border": null,
      "bottom": null,
      "display": null,
      "flex": null,
      "flex_flow": null,
      "grid_area": null,
      "grid_auto_columns": null,
      "grid_auto_flow": null,
      "grid_auto_rows": null,
      "grid_column": null,
      "grid_gap": null,
      "grid_row": null,
      "grid_template_areas": null,
      "grid_template_columns": null,
      "grid_template_rows": null,
      "height": null,
      "justify_content": null,
      "justify_items": null,
      "left": null,
      "margin": null,
      "max_height": null,
      "max_width": null,
      "min_height": null,
      "min_width": null,
      "object_fit": null,
      "object_position": null,
      "order": null,
      "overflow": null,
      "overflow_x": null,
      "overflow_y": null,
      "padding": null,
      "right": null,
      "top": null,
      "visibility": null,
      "width": null
     }
    },
    "8633e3a1d9c8496c8340ad041eb1c901": {
     "model_module": "@jupyter-widgets/controls",
     "model_name": "FloatProgressModel",
     "state": {
      "_dom_classes": [],
      "_model_module": "@jupyter-widgets/controls",
      "_model_module_version": "1.5.0",
      "_model_name": "FloatProgressModel",
      "_view_count": null,
      "_view_module": "@jupyter-widgets/controls",
      "_view_module_version": "1.5.0",
      "_view_name": "ProgressView",
      "bar_style": "success",
      "description": "100%",
      "description_tooltip": null,
      "layout": "IPY_MODEL_3bd84617724945c795dc29e4189caf72",
      "max": 459,
      "min": 0,
      "orientation": "horizontal",
      "style": "IPY_MODEL_4d45f6c7446f463f931280a9cfa45f75",
      "value": 459
     }
    },
    "8950d2fd3f3a4b88b60c0ba7fb6c8701": {
     "model_module": "@jupyter-widgets/base",
     "model_name": "LayoutModel",
     "state": {
      "_model_module": "@jupyter-widgets/base",
      "_model_module_version": "1.2.0",
      "_model_name": "LayoutModel",
      "_view_count": null,
      "_view_module": "@jupyter-widgets/base",
      "_view_module_version": "1.2.0",
      "_view_name": "LayoutView",
      "align_content": null,
      "align_items": null,
      "align_self": null,
      "border": null,
      "bottom": null,
      "display": null,
      "flex": null,
      "flex_flow": null,
      "grid_area": null,
      "grid_auto_columns": null,
      "grid_auto_flow": null,
      "grid_auto_rows": null,
      "grid_column": null,
      "grid_gap": null,
      "grid_row": null,
      "grid_template_areas": null,
      "grid_template_columns": null,
      "grid_template_rows": null,
      "height": null,
      "justify_content": null,
      "justify_items": null,
      "left": null,
      "margin": null,
      "max_height": null,
      "max_width": null,
      "min_height": null,
      "min_width": null,
      "object_fit": null,
      "object_position": null,
      "order": null,
      "overflow": null,
      "overflow_x": null,
      "overflow_y": null,
      "padding": null,
      "right": null,
      "top": null,
      "visibility": null,
      "width": null
     }
    },
    "8ad7e01055884a458ceddc2455b012ec": {
     "model_module": "@jupyter-widgets/base",
     "model_name": "LayoutModel",
     "state": {
      "_model_module": "@jupyter-widgets/base",
      "_model_module_version": "1.2.0",
      "_model_name": "LayoutModel",
      "_view_count": null,
      "_view_module": "@jupyter-widgets/base",
      "_view_module_version": "1.2.0",
      "_view_name": "LayoutView",
      "align_content": null,
      "align_items": null,
      "align_self": null,
      "border": null,
      "bottom": null,
      "display": null,
      "flex": null,
      "flex_flow": null,
      "grid_area": null,
      "grid_auto_columns": null,
      "grid_auto_flow": null,
      "grid_auto_rows": null,
      "grid_column": null,
      "grid_gap": null,
      "grid_row": null,
      "grid_template_areas": null,
      "grid_template_columns": null,
      "grid_template_rows": null,
      "height": null,
      "justify_content": null,
      "justify_items": null,
      "left": null,
      "margin": null,
      "max_height": null,
      "max_width": null,
      "min_height": null,
      "min_width": null,
      "object_fit": null,
      "object_position": null,
      "order": null,
      "overflow": null,
      "overflow_x": null,
      "overflow_y": null,
      "padding": null,
      "right": null,
      "top": null,
      "visibility": null,
      "width": null
     }
    },
    "9cc7e9315ac74f98b766fb60bbe2f26f": {
     "model_module": "@jupyter-widgets/controls",
     "model_name": "FloatProgressModel",
     "state": {
      "_dom_classes": [],
      "_model_module": "@jupyter-widgets/controls",
      "_model_module_version": "1.5.0",
      "_model_name": "FloatProgressModel",
      "_view_count": null,
      "_view_module": "@jupyter-widgets/controls",
      "_view_module_version": "1.5.0",
      "_view_name": "ProgressView",
      "bar_style": "success",
      "description": "",
      "description_tooltip": null,
      "layout": "IPY_MODEL_8ad7e01055884a458ceddc2455b012ec",
      "max": 1,
      "min": 0,
      "orientation": "horizontal",
      "style": "IPY_MODEL_2cc9ee2a3b564cf2b82ab48b4bf7aec6",
      "value": 1
     }
    },
    "a8ee27e8418c4e12bffbab4d5fab1fcc": {
     "model_module": "@jupyter-widgets/controls",
     "model_name": "DescriptionStyleModel",
     "state": {
      "_model_module": "@jupyter-widgets/controls",
      "_model_module_version": "1.5.0",
      "_model_name": "DescriptionStyleModel",
      "_view_count": null,
      "_view_module": "@jupyter-widgets/base",
      "_view_module_version": "1.2.0",
      "_view_name": "StyleView",
      "description_width": ""
     }
    },
    "b08b7fb0ac6445db9a95af1f55a24b00": {
     "model_module": "@jupyter-widgets/base",
     "model_name": "LayoutModel",
     "state": {
      "_model_module": "@jupyter-widgets/base",
      "_model_module_version": "1.2.0",
      "_model_name": "LayoutModel",
      "_view_count": null,
      "_view_module": "@jupyter-widgets/base",
      "_view_module_version": "1.2.0",
      "_view_name": "LayoutView",
      "align_content": null,
      "align_items": null,
      "align_self": null,
      "border": null,
      "bottom": null,
      "display": null,
      "flex": null,
      "flex_flow": null,
      "grid_area": null,
      "grid_auto_columns": null,
      "grid_auto_flow": null,
      "grid_auto_rows": null,
      "grid_column": null,
      "grid_gap": null,
      "grid_row": null,
      "grid_template_areas": null,
      "grid_template_columns": null,
      "grid_template_rows": null,
      "height": null,
      "justify_content": null,
      "justify_items": null,
      "left": null,
      "margin": null,
      "max_height": null,
      "max_width": null,
      "min_height": null,
      "min_width": null,
      "object_fit": null,
      "object_position": null,
      "order": null,
      "overflow": null,
      "overflow_x": null,
      "overflow_y": null,
      "padding": null,
      "right": null,
      "top": null,
      "visibility": null,
      "width": null
     }
    },
    "c225535911324fd78243d14c1e9169f1": {
     "model_module": "@jupyter-widgets/controls",
     "model_name": "FloatProgressModel",
     "state": {
      "_dom_classes": [],
      "_model_module": "@jupyter-widgets/controls",
      "_model_module_version": "1.5.0",
      "_model_name": "FloatProgressModel",
      "_view_count": null,
      "_view_module": "@jupyter-widgets/controls",
      "_view_module_version": "1.5.0",
      "_view_name": "ProgressView",
      "bar_style": "success",
      "description": "",
      "description_tooltip": null,
      "layout": "IPY_MODEL_fe1e20f7c7394cf28d3cc277afe160da",
      "max": 1,
      "min": 0,
      "orientation": "horizontal",
      "style": "IPY_MODEL_f12731ff7bbc4174a4ef8edf7d067f0c",
      "value": 1
     }
    },
    "e263c95e0efc4bc3aac31e5d8af86b79": {
     "model_module": "@jupyter-widgets/controls",
     "model_name": "HBoxModel",
     "state": {
      "_dom_classes": [],
      "_model_module": "@jupyter-widgets/controls",
      "_model_module_version": "1.5.0",
      "_model_name": "HBoxModel",
      "_view_count": null,
      "_view_module": "@jupyter-widgets/controls",
      "_view_module_version": "1.5.0",
      "_view_name": "HBoxView",
      "box_style": "",
      "children": [
       "IPY_MODEL_ef4684ef021e429692a9ebab30256570",
       "IPY_MODEL_6c319d8fe1134c46aa5e607503732590"
      ],
      "layout": "IPY_MODEL_141b482fa1264a569834d51285872131"
     }
    },
    "e939f59ba54e4b028b67130920253f0d": {
     "model_module": "@jupyter-widgets/controls",
     "model_name": "FloatProgressModel",
     "state": {
      "_dom_classes": [],
      "_model_module": "@jupyter-widgets/controls",
      "_model_module_version": "1.5.0",
      "_model_name": "FloatProgressModel",
      "_view_count": null,
      "_view_module": "@jupyter-widgets/controls",
      "_view_module_version": "1.5.0",
      "_view_name": "ProgressView",
      "bar_style": "success",
      "description": "100%",
      "description_tooltip": null,
      "layout": "IPY_MODEL_341b1d4b55ac4e53987c6454a56d3d1b",
      "max": 617,
      "min": 0,
      "orientation": "horizontal",
      "style": "IPY_MODEL_ec816fc5926b450bb8b88d8d3565f354",
      "value": 617
     }
    },
    "e9c831fb2a8b4669bfe9ecfb9f813d14": {
     "model_module": "@jupyter-widgets/controls",
     "model_name": "HBoxModel",
     "state": {
      "_dom_classes": [],
      "_model_module": "@jupyter-widgets/controls",
      "_model_module_version": "1.5.0",
      "_model_name": "HBoxModel",
      "_view_count": null,
      "_view_module": "@jupyter-widgets/controls",
      "_view_module_version": "1.5.0",
      "_view_name": "HBoxView",
      "box_style": "",
      "children": [
       "IPY_MODEL_c225535911324fd78243d14c1e9169f1",
       "IPY_MODEL_173c0cef123148c2b6a156c3dd5ecea8"
      ],
      "layout": "IPY_MODEL_47294ef485264a9d99fe062225ec137d"
     }
    },
    "ec810c380afe4a0d867be92c2c8d1966": {
     "model_module": "@jupyter-widgets/controls",
     "model_name": "HTMLModel",
     "state": {
      "_dom_classes": [],
      "_model_module": "@jupyter-widgets/controls",
      "_model_module_version": "1.5.0",
      "_model_name": "HTMLModel",
      "_view_count": null,
      "_view_module": "@jupyter-widgets/controls",
      "_view_module_version": "1.5.0",
      "_view_name": "HTMLView",
      "description": "",
      "description_tooltip": null,
      "layout": "IPY_MODEL_360ae45ff8e14234b0e45623c91f7cbf",
      "placeholder": "​",
      "style": "IPY_MODEL_a8ee27e8418c4e12bffbab4d5fab1fcc",
      "value": " 617/617 [04:35&lt;00:00,  2.24it/s]"
     }
    },
    "ec816fc5926b450bb8b88d8d3565f354": {
     "model_module": "@jupyter-widgets/controls",
     "model_name": "ProgressStyleModel",
     "state": {
      "_model_module": "@jupyter-widgets/controls",
      "_model_module_version": "1.5.0",
      "_model_name": "ProgressStyleModel",
      "_view_count": null,
      "_view_module": "@jupyter-widgets/base",
      "_view_module_version": "1.2.0",
      "_view_name": "StyleView",
      "bar_color": null,
      "description_width": "initial"
     }
    },
    "ef4684ef021e429692a9ebab30256570": {
     "model_module": "@jupyter-widgets/controls",
     "model_name": "FloatProgressModel",
     "state": {
      "_dom_classes": [],
      "_model_module": "@jupyter-widgets/controls",
      "_model_module_version": "1.5.0",
      "_model_name": "FloatProgressModel",
      "_view_count": null,
      "_view_module": "@jupyter-widgets/controls",
      "_view_module_version": "1.5.0",
      "_view_name": "ProgressView",
      "bar_style": "success",
      "description": "100%",
      "description_tooltip": null,
      "layout": "IPY_MODEL_b08b7fb0ac6445db9a95af1f55a24b00",
      "max": 124,
      "min": 0,
      "orientation": "horizontal",
      "style": "IPY_MODEL_347edcc728ac4cd4a187d7753b27e3c3",
      "value": 124
     }
    },
    "f12731ff7bbc4174a4ef8edf7d067f0c": {
     "model_module": "@jupyter-widgets/controls",
     "model_name": "ProgressStyleModel",
     "state": {
      "_model_module": "@jupyter-widgets/controls",
      "_model_module_version": "1.5.0",
      "_model_name": "ProgressStyleModel",
      "_view_count": null,
      "_view_module": "@jupyter-widgets/base",
      "_view_module_version": "1.2.0",
      "_view_name": "StyleView",
      "bar_color": null,
      "description_width": "initial"
     }
    },
    "fe1e20f7c7394cf28d3cc277afe160da": {
     "model_module": "@jupyter-widgets/base",
     "model_name": "LayoutModel",
     "state": {
      "_model_module": "@jupyter-widgets/base",
      "_model_module_version": "1.2.0",
      "_model_name": "LayoutModel",
      "_view_count": null,
      "_view_module": "@jupyter-widgets/base",
      "_view_module_version": "1.2.0",
      "_view_name": "LayoutView",
      "align_content": null,
      "align_items": null,
      "align_self": null,
      "border": null,
      "bottom": null,
      "display": null,
      "flex": null,
      "flex_flow": null,
      "grid_area": null,
      "grid_auto_columns": null,
      "grid_auto_flow": null,
      "grid_auto_rows": null,
      "grid_column": null,
      "grid_gap": null,
      "grid_row": null,
      "grid_template_areas": null,
      "grid_template_columns": null,
      "grid_template_rows": null,
      "height": null,
      "justify_content": null,
      "justify_items": null,
      "left": null,
      "margin": null,
      "max_height": null,
      "max_width": null,
      "min_height": null,
      "min_width": null,
      "object_fit": null,
      "object_position": null,
      "order": null,
      "overflow": null,
      "overflow_x": null,
      "overflow_y": null,
      "padding": null,
      "right": null,
      "top": null,
      "visibility": null,
      "width": null
     }
    }
   }
  }
 },
 "nbformat": 4,
 "nbformat_minor": 1
}
