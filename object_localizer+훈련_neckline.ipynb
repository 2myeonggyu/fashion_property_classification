{
 "cells": [
  {
   "cell_type": "markdown",
   "metadata": {
    "colab_type": "text",
    "id": "SON6mQEjSfwx"
   },
   "source": [
    "# Readme\n",
    "- 원본 이미지에서, crop(hub-localizer) -> classification 한번에 작업(localizer 1.14 이용했었다.)"
   ]
  },
  {
   "cell_type": "markdown",
   "metadata": {
    "colab_type": "text",
    "id": "E41ii2J0_DmX"
   },
   "source": [
    "# 넥라인 데이터"
   ]
  },
  {
   "cell_type": "code",
   "execution_count": null,
   "metadata": {
    "colab": {},
    "colab_type": "code",
    "id": "-8ffBf-jaoGZ"
   },
   "outputs": [],
   "source": [
    "!pip uninstall tensorflow\n",
    "#!pip install tensorflow-gpu==1.14\n",
    "!pip install tensorflow-gpu==1.14"
   ]
  },
  {
   "cell_type": "code",
   "execution_count": null,
   "metadata": {
    "colab": {},
    "colab_type": "code",
    "id": "qGHvu_cgM23X"
   },
   "outputs": [],
   "source": [
    "from tqdm import tqdm\n",
    "import numpy as np\n",
    "\n",
    "import os\n",
    "import glob\n",
    "import zipfile\n",
    "\n",
    "#from PIL import Image # PIL은 조금 무거운것 같다\n",
    "import cv2 # (주의)imshow 할때는 google에서 제공하는 lib 써야한다(아래 Lib)\n",
    "from google.colab.patches import cv2_imshow\n",
    "\n",
    "import matplotlib.pyplot as plt\n",
    "\n",
    "import pandas as pd"
   ]
  },
  {
   "cell_type": "markdown",
   "metadata": {
    "colab_type": "text",
    "id": "lawKkA5opfBm"
   },
   "source": [
    "\n",
    "\n",
    "---\n",
    "\n",
    "\n",
    "\n",
    "---\n",
    "\n"
   ]
  },
  {
   "cell_type": "markdown",
   "metadata": {
    "colab_type": "text",
    "id": "dsmtx3i6pgD0"
   },
   "source": [
    "# 1. 데이터"
   ]
  },
  {
   "cell_type": "code",
   "execution_count": null,
   "metadata": {
    "colab": {},
    "colab_type": "code",
    "id": "HuS3XWYTIMid"
   },
   "outputs": [],
   "source": [
    "### 이미지 - 구글 드라이브에 있는것 활용(압축해제 후 활용) ###\n",
    "\n",
    "import zipfile\n",
    "\n",
    "path_to_zip_file = 'ver1_round+square+v.zip' # 구글 드라이브에 저장된 zip 파일 경로\n",
    "save_path = 'img'\n",
    "\n",
    "with zipfile.ZipFile(path_to_zip_file, 'r') as zip_ref:\n",
    "    zip_ref.extractall(save_path)"
   ]
  },
  {
   "cell_type": "code",
   "execution_count": null,
   "metadata": {
    "colab": {
     "base_uri": "https://localhost:8080/",
     "height": 68
    },
    "colab_type": "code",
    "id": "sov5F1_CcJpD",
    "outputId": "4d3af6a8-3200-479b-8dc8-68e85360f3d1"
   },
   "outputs": [
    {
     "data": {
      "text/plain": [
       "['img/ver1_round+square+v/round',\n",
       " 'img/ver1_round+square+v/square',\n",
       " 'img/ver1_round+square+v/v']"
      ]
     },
     "execution_count": 5,
     "metadata": {
      "tags": []
     },
     "output_type": "execute_result"
    }
   ],
   "source": [
    "glob.glob('img/ver1_round+square+v/*')"
   ]
  },
  {
   "cell_type": "code",
   "execution_count": null,
   "metadata": {
    "colab": {},
    "colab_type": "code",
    "id": "wifmPHcvchHb"
   },
   "outputs": [],
   "source": [
    "# img 폴더에 class 명으로 jpg 저장\n",
    "\n",
    "import shutil\n",
    "\n",
    "for class_path in glob.glob('img/ver1_round+square+v/*'):\n",
    "  #print(class_path.split('/')[-1])\n",
    "  class_name = class_path.split('/')[-1]\n",
    "  class_len = len(glob.glob(class_path+'/*'))\n",
    "  \n",
    "  if class_name == 'round':\n",
    "    for i, file_path in enumerate(glob.glob(class_path+'/*')):\n",
    "      shutil.copy( file_path , 'img/{}_{}.jpg'.format(class_name, i))\n",
    "  \n",
    "  if class_name == 'square':\n",
    "    for j, file_path in enumerate(glob.glob(class_path+'/*')):\n",
    "      shutil.copy( file_path , 'img/{}_{}.jpg'.format(class_name, j))\n",
    "    \n",
    "  if class_name == 'v':\n",
    "    for k, file_path in enumerate(glob.glob(class_path+'/*')):\n",
    "      shutil.copy( file_path , 'img/{}_{}.jpg'.format(class_name, k))\n",
    "  \n",
    "  #for file_path in class_path:\n",
    "  #  shutil"
   ]
  },
  {
   "cell_type": "code",
   "execution_count": null,
   "metadata": {
    "colab": {
     "base_uri": "https://localhost:8080/",
     "height": 34
    },
    "colab_type": "code",
    "id": "D_ltSs_Njhz6",
    "outputId": "a2a9094e-2868-4114-d071-3f639e75dac9"
   },
   "outputs": [
    {
     "data": {
      "text/plain": [
       "750"
      ]
     },
     "execution_count": 7,
     "metadata": {
      "tags": []
     },
     "output_type": "execute_result"
    }
   ],
   "source": [
    "len(glob.glob('img/*.jpg'))"
   ]
  },
  {
   "cell_type": "code",
   "execution_count": null,
   "metadata": {
    "colab": {},
    "colab_type": "code",
    "id": "-7NnTCzYuOya"
   },
   "outputs": [],
   "source": [
    "### 이런식으로, 각각의 class마다 다른 경로에 있을때에도 flow_from_directory로 간단하게 활용할 수 있다.\n",
    "# create generator\n",
    "#image_generator = ImageDataGenerator(rescale=1/255, \n",
    "#                                     rotation_range=40,\n",
    "#                                     horizontal_flip=True,\n",
    "#                                     vertical_flip=True,\n",
    "#                                     validation_split=0.3)\n",
    "\n",
    " \n",
    "\n",
    "#train_data_generator = image_generator.flow_from_directory(batch_size=32,\n",
    "#                                                 directory='neckline',\n",
    "#                                                 shuffle=True,\n",
    "#                                                 target_size=(224, 224), \n",
    "#                                                 subset=\"training\",\n",
    "#                                                 class_mode='categorical')\n",
    "\n",
    " \n",
    "\n",
    "#val_data_generator = image_generator.flow_from_directory(batch_size=32,\n",
    "#                                                 directory='neckline',\n",
    "#                                                 shuffle=True,\n",
    "#                                                 target_size=(224, 224), \n",
    "#                                                 subset=\"validation\",\n",
    "#                                                 class_mode='categorical')"
   ]
  },
  {
   "cell_type": "code",
   "execution_count": null,
   "metadata": {
    "colab": {},
    "colab_type": "code",
    "id": "M9d2IjlsuOwq"
   },
   "outputs": [],
   "source": []
  },
  {
   "cell_type": "markdown",
   "metadata": {
    "colab_type": "text",
    "id": "E00Kcm9HuQGH"
   },
   "source": [
    "\n",
    "\n",
    "---\n",
    "\n",
    "\n",
    "\n",
    "---\n",
    "\n"
   ]
  },
  {
   "cell_type": "markdown",
   "metadata": {
    "colab_type": "text",
    "id": "siP99i8NMF_D"
   },
   "source": [
    "## - 파일명으로 데이터 기초 파악"
   ]
  },
  {
   "cell_type": "code",
   "execution_count": null,
   "metadata": {
    "colab": {
     "base_uri": "https://localhost:8080/",
     "height": 34
    },
    "colab_type": "code",
    "id": "1T7Nl6m7qR0i",
    "outputId": "cb208311-23d3-43eb-8636-0c083d0ca34e"
   },
   "outputs": [
    {
     "name": "stdout",
     "output_type": "stream",
     "text": [
      "750\n"
     ]
    }
   ],
   "source": [
    "# 몇개의 이미지가 있는가?\n",
    "\n",
    "# train\n",
    "neckline_list = [l.split('/')[1] for l in glob.glob('img/*.jpg')]\n",
    "print(len( neckline_list ) )\n",
    "\n"
   ]
  },
  {
   "cell_type": "markdown",
   "metadata": {
    "colab_type": "text",
    "id": "PNROSl3uqR0m"
   },
   "source": [
    "- 이미지 데이터 기초통계"
   ]
  },
  {
   "cell_type": "code",
   "execution_count": null,
   "metadata": {
    "colab": {
     "base_uri": "https://localhost:8080/",
     "height": 173
    },
    "colab_type": "code",
    "id": "FtIuWRS4qR0r",
    "outputId": "1f5391b5-dd5d-4fdf-f814-91419951773c"
   },
   "outputs": [
    {
     "data": {
      "text/html": [
       "<div>\n",
       "<style scoped>\n",
       "    .dataframe tbody tr th:only-of-type {\n",
       "        vertical-align: middle;\n",
       "    }\n",
       "\n",
       "    .dataframe tbody tr th {\n",
       "        vertical-align: top;\n",
       "    }\n",
       "\n",
       "    .dataframe thead th {\n",
       "        text-align: right;\n",
       "    }\n",
       "</style>\n",
       "<table border=\"1\" class=\"dataframe\">\n",
       "  <thead>\n",
       "    <tr style=\"text-align: right;\">\n",
       "      <th></th>\n",
       "      <th>prod</th>\n",
       "    </tr>\n",
       "    <tr>\n",
       "      <th>label</th>\n",
       "      <th></th>\n",
       "    </tr>\n",
       "  </thead>\n",
       "  <tbody>\n",
       "    <tr>\n",
       "      <th>round</th>\n",
       "      <td>221</td>\n",
       "    </tr>\n",
       "    <tr>\n",
       "      <th>square</th>\n",
       "      <td>294</td>\n",
       "    </tr>\n",
       "    <tr>\n",
       "      <th>v</th>\n",
       "      <td>235</td>\n",
       "    </tr>\n",
       "  </tbody>\n",
       "</table>\n",
       "</div>"
      ],
      "text/plain": [
       "        prod\n",
       "label       \n",
       "round    221\n",
       "square   294\n",
       "v        235"
      ]
     },
     "execution_count": 13,
     "metadata": {
      "tags": []
     },
     "output_type": "execute_result"
    }
   ],
   "source": [
    "# Train 데이터\n",
    "label = [l.split('_')[0] for l in neckline_list]\n",
    "neckline_df = pd.DataFrame({'prod' : neckline_list, 'label' : label})\n",
    "\n",
    "neckline_df.groupby('label').count()"
   ]
  },
  {
   "cell_type": "markdown",
   "metadata": {
    "colab_type": "text",
    "id": "Gf6qiOcSqR0t"
   },
   "source": [
    "\n",
    "\n",
    "---\n",
    "\n"
   ]
  },
  {
   "cell_type": "markdown",
   "metadata": {
    "colab_type": "text",
    "id": "qeOffg2wqR0u"
   },
   "source": [
    "- label encoding : 한글을 matplotlib 에서 보여주는건 시간이 좀 걸려"
   ]
  },
  {
   "cell_type": "code",
   "execution_count": null,
   "metadata": {
    "colab": {
     "base_uri": "https://localhost:8080/",
     "height": 221
    },
    "colab_type": "code",
    "id": "FmOGtWsfqR0u",
    "outputId": "a6eb6930-fd9c-4815-e966-076578cfe5b5"
   },
   "outputs": [
    {
     "data": {
      "text/plain": [
       "0      square\n",
       "1      square\n",
       "2           v\n",
       "3           v\n",
       "4           v\n",
       "        ...  \n",
       "745    square\n",
       "746         v\n",
       "747    square\n",
       "748         v\n",
       "749     round\n",
       "Name: label, Length: 750, dtype: object"
      ]
     },
     "execution_count": 14,
     "metadata": {
      "tags": []
     },
     "output_type": "execute_result"
    }
   ],
   "source": [
    "neckline_df['label']"
   ]
  },
  {
   "cell_type": "code",
   "execution_count": null,
   "metadata": {
    "colab": {},
    "colab_type": "code",
    "id": "w2UCauTeqR0w"
   },
   "outputs": [],
   "source": [
    "from sklearn import preprocessing\n",
    "le = preprocessing.LabelEncoder()\n",
    "\n",
    "le_result = le.fit_transform( neckline_df['label'] )"
   ]
  },
  {
   "cell_type": "code",
   "execution_count": null,
   "metadata": {
    "colab": {},
    "colab_type": "code",
    "id": "zpcan65BqR0y"
   },
   "outputs": [],
   "source": [
    "neckline_df['le_label'] = le_result"
   ]
  },
  {
   "cell_type": "code",
   "execution_count": null,
   "metadata": {
    "colab": {
     "base_uri": "https://localhost:8080/",
     "height": 142
    },
    "colab_type": "code",
    "id": "o_fSBPmsqR00",
    "outputId": "7d9d918b-0720-4bb0-b451-587325d454dc"
   },
   "outputs": [
    {
     "data": {
      "text/html": [
       "<div>\n",
       "<style scoped>\n",
       "    .dataframe tbody tr th:only-of-type {\n",
       "        vertical-align: middle;\n",
       "    }\n",
       "\n",
       "    .dataframe tbody tr th {\n",
       "        vertical-align: top;\n",
       "    }\n",
       "\n",
       "    .dataframe thead th {\n",
       "        text-align: right;\n",
       "    }\n",
       "</style>\n",
       "<table border=\"1\" class=\"dataframe\">\n",
       "  <thead>\n",
       "    <tr style=\"text-align: right;\">\n",
       "      <th></th>\n",
       "      <th>prod</th>\n",
       "      <th>label</th>\n",
       "      <th>le_label</th>\n",
       "    </tr>\n",
       "  </thead>\n",
       "  <tbody>\n",
       "    <tr>\n",
       "      <th>0</th>\n",
       "      <td>square_245.jpg</td>\n",
       "      <td>square</td>\n",
       "      <td>1</td>\n",
       "    </tr>\n",
       "    <tr>\n",
       "      <th>1</th>\n",
       "      <td>square_213.jpg</td>\n",
       "      <td>square</td>\n",
       "      <td>1</td>\n",
       "    </tr>\n",
       "    <tr>\n",
       "      <th>2</th>\n",
       "      <td>v_154.jpg</td>\n",
       "      <td>v</td>\n",
       "      <td>2</td>\n",
       "    </tr>\n",
       "  </tbody>\n",
       "</table>\n",
       "</div>"
      ],
      "text/plain": [
       "             prod   label  le_label\n",
       "0  square_245.jpg  square         1\n",
       "1  square_213.jpg  square         1\n",
       "2       v_154.jpg       v         2"
      ]
     },
     "execution_count": 17,
     "metadata": {
      "tags": []
     },
     "output_type": "execute_result"
    }
   ],
   "source": [
    "neckline_df.head(3)"
   ]
  },
  {
   "cell_type": "code",
   "execution_count": null,
   "metadata": {
    "colab": {
     "base_uri": "https://localhost:8080/",
     "height": 102
    },
    "colab_type": "code",
    "id": "QJBAlT1zqR02",
    "outputId": "2d436c0a-41ed-4665-d10e-9eeb3b0c86be"
   },
   "outputs": [
    {
     "data": {
      "text/plain": [
       "label\n",
       "round     [0]\n",
       "square    [1]\n",
       "v         [2]\n",
       "Name: le_label, dtype: object"
      ]
     },
     "execution_count": 18,
     "metadata": {
      "tags": []
     },
     "output_type": "execute_result"
    }
   ],
   "source": [
    "neckline_df[['label' , 'le_label']].groupby('label')['le_label'].unique()"
   ]
  },
  {
   "cell_type": "code",
   "execution_count": null,
   "metadata": {
    "colab": {},
    "colab_type": "code",
    "id": "C2fDL33xAzPO"
   },
   "outputs": [],
   "source": []
  },
  {
   "cell_type": "markdown",
   "metadata": {
    "colab_type": "text",
    "id": "TCIjXSsSpTu5"
   },
   "source": [
    "\n",
    "\n",
    "---\n",
    "\n",
    "\n",
    "\n",
    "---\n",
    "\n"
   ]
  },
  {
   "cell_type": "markdown",
   "metadata": {
    "colab_type": "text",
    "id": "-RrLntAJpVEU"
   },
   "source": [
    "# 1.1 img 데이터 load"
   ]
  },
  {
   "cell_type": "code",
   "execution_count": null,
   "metadata": {
    "colab": {},
    "colab_type": "code",
    "id": "GgJ7Ga-wu7yN"
   },
   "outputs": [],
   "source": [
    "\n",
    "\n",
    "# class에 해당하는 img_path 불러온다\n",
    "def get_class_img_path(class_int, is_train = True):\n",
    "  \n",
    "    class_dict = {\n",
    "      0: ['round'], \n",
    "      1: ['square'],\n",
    "      2: ['v']\n",
    "    }\n",
    "\n",
    "    class_img_path = []\n",
    "\n",
    "    if is_train:\n",
    "        file_path = 'img/*.jpg'\n",
    "      \n",
    "        # read file_path per class\n",
    "        for path in glob.glob(file_path):\n",
    "            if path.split('/')[1].split('_')[0] in class_dict[class_int]:\n",
    "                class_img_path.append(path)\n",
    "\n",
    "    else:\n",
    "        file_path = 'test_image/*.jpg'\n",
    "      \n",
    "        # read file_path per class - test일 경우에는 [1]인자에 label 들어있다\n",
    "        for path in glob.glob(file_path):\n",
    "            if path.split('/')[1].split('_')[1] in class_dict[class_int]:\n",
    "                class_img_path.append(path)\n",
    "\n",
    "    \n",
    "    \n",
    "    return class_img_path\n",
    "\n",
    "\n",
    "\n",
    "# 이미지를 불러온다 - 위메프 이미지 460*460 -> 192*192로 변환(object localizer에서 192*192받는다)\n",
    "def read_img_class(img_path):\n",
    "    \n",
    "\n",
    "    img = cv2.imread(img_path) # array 형태\n",
    "    # 정사각 (192, 192) - tf.hub localizer input size\n",
    "    resize_img = cv2.resize(img, dsize=(192,192)  ,interpolation=cv2.INTER_AREA) # 축소일때는 interpolation값 : INTER_AREA\n",
    "        \n",
    "    return resize_img"
   ]
  },
  {
   "cell_type": "code",
   "execution_count": null,
   "metadata": {
    "colab": {
     "base_uri": "https://localhost:8080/",
     "height": 315,
     "referenced_widgets": [
      "77cbc20977a24ba5bc12c9497f52798b",
      "688af9aad3214f489fcf24faff3fe049",
      "2863dfce80964085aea2c810293657dd",
      "3b0f92715dc7451dbb28348e9f9304d0",
      "c00d5a9a827f43858b8dda0cce88e62a",
      "8ec32902154346789272c95ff3a129ef",
      "35d1172699fa46d79a8819e24024a963",
      "111064a7476e4567a71f166b44397601",
      "671251a6e1cf4d068d009beb428db2e2",
      "47566d1a7e7342e6a9e77d0c53f6be47",
      "74f2197f4cd44152b7ccb9d61ae3509f",
      "04c96061ccbb485c87da832fa75921c7",
      "028c6dfe0ea94db884c7a4fc0de0094d",
      "22bf4e9c02cf4d10bcb8091f6ff68acf",
      "0f2ebf056b8c4641850730d7611b0925",
      "b1b1458cd3744ee0ad0068916d5e9237",
      "42e4142f94b549fb978384c7b990ba0c",
      "692c6962431f477495ee707477b665b0",
      "ca51c1e749e54538a56fe359e9c3cfc7",
      "441ea32f05004a68be6327a9adec64fa",
      "1adae3ab16db4963be73fd06f2c13ba2",
      "bd1e343371ac4321a95c9bc536563cad",
      "0ef21bc48e524cbf89d74e673d9ca7fd",
      "93b4024a77854e24b9d4a47cf9e979ca",
      "d42a8031245b44a494eb2b95cdc8c8ef",
      "8c7066e7f174483a9b6b33a05e948ed5",
      "ba8c4d9f0dcd40eab7441d851352ad12",
      "59751d1051744154b68d87144900b99f",
      "9e84ff661e684724aaf0ee5c48a66d11",
      "682c1e6536234ae1ab78ada2f69042fb",
      "6d3793e4d4f14f828385ab7a623ae34e",
      "039e7bc961ec4f739c5f61f3361003b1"
     ]
    },
    "colab_type": "code",
    "id": "1EO0rxmclQfn",
    "outputId": "1c983e9c-9314-4584-a751-d1acc70ba2bf"
   },
   "outputs": [
    {
     "name": "stderr",
     "output_type": "stream",
     "text": [
      "/usr/local/lib/python3.6/dist-packages/ipykernel_launcher.py:10: TqdmDeprecationWarning: This function will be removed in tqdm==5.0.0\n",
      "Please use `tqdm.notebook.tqdm` instead of `tqdm.tqdm_notebook`\n",
      "  # Remove the CWD from sys.path while we load stuff.\n"
     ]
    },
    {
     "data": {
      "application/vnd.jupyter.widget-view+json": {
       "model_id": "77cbc20977a24ba5bc12c9497f52798b",
       "version_major": 2,
       "version_minor": 0
      },
      "text/plain": [
       "HBox(children=(FloatProgress(value=0.0, max=3.0), HTML(value='')))"
      ]
     },
     "metadata": {
      "tags": []
     },
     "output_type": "display_data"
    },
    {
     "name": "stderr",
     "output_type": "stream",
     "text": [
      "/usr/local/lib/python3.6/dist-packages/ipykernel_launcher.py:16: TqdmDeprecationWarning: This function will be removed in tqdm==5.0.0\n",
      "Please use `tqdm.notebook.tqdm` instead of `tqdm.tqdm_notebook`\n",
      "  app.launch_new_instance()\n"
     ]
    },
    {
     "data": {
      "application/vnd.jupyter.widget-view+json": {
       "model_id": "671251a6e1cf4d068d009beb428db2e2",
       "version_major": 2,
       "version_minor": 0
      },
      "text/plain": [
       "HBox(children=(FloatProgress(value=1.0, bar_style='info', max=1.0), HTML(value='')))"
      ]
     },
     "metadata": {
      "tags": []
     },
     "output_type": "display_data"
    },
    {
     "name": "stdout",
     "output_type": "stream",
     "text": [
      "\n"
     ]
    },
    {
     "data": {
      "application/vnd.jupyter.widget-view+json": {
       "model_id": "42e4142f94b549fb978384c7b990ba0c",
       "version_major": 2,
       "version_minor": 0
      },
      "text/plain": [
       "HBox(children=(FloatProgress(value=1.0, bar_style='info', max=1.0), HTML(value='')))"
      ]
     },
     "metadata": {
      "tags": []
     },
     "output_type": "display_data"
    },
    {
     "name": "stdout",
     "output_type": "stream",
     "text": [
      "\n"
     ]
    },
    {
     "data": {
      "application/vnd.jupyter.widget-view+json": {
       "model_id": "d42a8031245b44a494eb2b95cdc8c8ef",
       "version_major": 2,
       "version_minor": 0
      },
      "text/plain": [
       "HBox(children=(FloatProgress(value=1.0, bar_style='info', max=1.0), HTML(value='')))"
      ]
     },
     "metadata": {
      "tags": []
     },
     "output_type": "display_data"
    },
    {
     "name": "stdout",
     "output_type": "stream",
     "text": [
      "\n",
      "\n"
     ]
    }
   ],
   "source": [
    "# load <train> image - with tqdm\n",
    "\n",
    "from tqdm import tnrange, tqdm_notebook\n",
    "\n",
    "image_per_class = {}\n",
    "path_per_class = {}\n",
    "\n",
    "n_class = 3\n",
    "\n",
    "for i in tqdm_notebook(range(n_class)):\n",
    "    # init\n",
    "    image_per_class[i] = []\n",
    "    path_per_class[i] = []\n",
    "    \n",
    "    # append class image\n",
    "    for j, path in tqdm_notebook(enumerate(get_class_img_path(class_int = i))):\n",
    "      \n",
    "        ### *** img read 에러나는 경우 제외 ###\n",
    "        try:\n",
    "            # class 이미지 추가\n",
    "            image_per_class[i].append( read_img_class(path) )\n",
    "            # class 이미지 경로 추가\n",
    "            path_per_class[i].append( path )\n",
    "        except:\n",
    "            pass\n",
    "    # convert to numpy array & scaling\n",
    "    image_per_class[i] = np.array( image_per_class[i] )/255.0\n",
    "  "
   ]
  },
  {
   "cell_type": "markdown",
   "metadata": {
    "colab_type": "text",
    "id": "QHAIcL5zMJF4"
   },
   "source": [
    "\n",
    "\n",
    "---\n",
    "\n",
    "\n",
    "\n",
    "---\n",
    "\n"
   ]
  },
  {
   "cell_type": "markdown",
   "metadata": {
    "colab_type": "text",
    "id": "l4AJU8E3bACi"
   },
   "source": [
    "# 2. (테스트성) 모델 import(localizer) & 테스트성으로 localized 이미지 확인\n",
    "- train/test 데이터셋 모두 확인 "
   ]
  },
  {
   "cell_type": "code",
   "execution_count": null,
   "metadata": {
    "colab": {},
    "colab_type": "code",
    "id": "43ryud6xuOuC"
   },
   "outputs": [],
   "source": [
    "import tensorflow as tf\n",
    "import tensorflow_hub as hub\n",
    "\n",
    "from PIL import Image\n",
    "import numpy as np\n",
    "\n",
    "HUB_PATH = \"https://tfhub.dev/google/object_detection/mobile_object_localizer_v1/1\"\n",
    "\n",
    "#------------------------------\n",
    "## STEP 1 : Object localiaztion\n",
    "\n",
    "#------------------------------\n",
    "# define graph\n",
    "\n",
    "module = hub.Module(HUB_PATH)  # 1.14 에서 사용 - hub.module()\n",
    "#module = hub.load(HUB_PATH) # 2.0 에서 사용 \n",
    "\n",
    "height, width = hub.get_expected_image_size(module)\n",
    "#height, width = (192,192) # tf 2.0에서\n",
    "\n",
    "input_images = tf.placeholder(tf.uint8, shape=[None, None, None, 3], name='input_images')\n",
    "input_images_float = tf.image.convert_image_dtype(input_images, dtype=tf.float32)\n",
    "\n",
    "input_images_float = tf.image.resize_bilinear(\n",
    "        input_images_float,\n",
    "        [height, width],\n",
    "        align_corners=False,\n",
    "        name=None\n",
    "    )\n",
    "\n",
    "preds = module(input_images_float, signature=\"default\", as_dict=True)\n",
    "\n",
    "# make Session\n",
    "sess = tf.Session()\n",
    "sess.run(tf.global_variables_initializer())\n",
    "\n",
    "\n",
    "status = {\n",
    "    'sess' : sess,\n",
    "    'size' : (width, height),\n",
    "    'input_images_tensor': input_images_float,\n",
    "    'pred_tensor': preds\n",
    "}"
   ]
  },
  {
   "cell_type": "code",
   "execution_count": null,
   "metadata": {
    "colab": {},
    "colab_type": "code",
    "id": "mq48eWm3d0eK"
   },
   "outputs": [],
   "source": [
    "# 배치성으로 작업하려면 필요\n",
    "class BatchImageGenerator():\n",
    "    def __init__(self, items, batch_size):\n",
    "        self.size = len(items)\n",
    "        self.batch_size = batch_size\n",
    "\n",
    "        self.data = items\n",
    " \n",
    "    def __iter__(self):\n",
    "        self.index = 0\n",
    "        return self\n",
    " \n",
    "    def __next__(self):\n",
    "\n",
    "        if self.index >= int(self.size / self.batch_size):\n",
    "            raise StopIteration\n",
    " \n",
    "        batch_data = self.data[self.index*self.batch_size:(self.index+1)*self.batch_size]\n",
    "        self.index += 1\n",
    "\n",
    "        return batch_data\n"
   ]
  },
  {
   "cell_type": "code",
   "execution_count": null,
   "metadata": {
    "colab": {},
    "colab_type": "code",
    "id": "m8GaOT1iBwxl"
   },
   "outputs": [],
   "source": [
    "# get_origin_bbox\n",
    "\n",
    "def get_origin_bbox(img, bbox):\n",
    "    hegiht, width = img.shape[0], img.shape[1]\n",
    "\n",
    "    y_min, x_min, y_max, x_max = bbox\n",
    "\n",
    "    y_min = int(y_min * hegiht)\n",
    "    y_max = int(y_max * hegiht)\n",
    "    x_min = int(x_min * width)\n",
    "    x_max = int(x_max * width)\n",
    "\n",
    "    coord = (y_min, x_min, y_max, x_max)\n",
    "\n",
    "    return coord"
   ]
  },
  {
   "cell_type": "code",
   "execution_count": null,
   "metadata": {
    "colab": {},
    "colab_type": "code",
    "id": "8wq_sNxYBvw6"
   },
   "outputs": [],
   "source": [
    "# 0602_새로 시도해볼 ver : crop한 이미지 그대로 centering\n",
    "\n",
    "\n",
    "def get_crop_img(img, bbox, neckline = False):\n",
    "    # img : numpy_array\n",
    "    # bbox : list [1,1,1,1]\n",
    "    img = img[:, :, [2, 1, 0]] # bgr -> rgb 변환!\n",
    "    \n",
    "    background = np.zeros_like(img)\n",
    "\n",
    "    size = img.shape[0]\n",
    "\n",
    "    y_min, x_min, y_max, x_max = bbox\n",
    "    ### 45%의 상위 이미지만 네크라인 이미지로 활용 ###\n",
    "    if neckline == True:\n",
    "      alpha = (y_max-y_min)*0.45\n",
    "      y_max = np.int(y_min + alpha)\n",
    "\n",
    "    roi = img[y_min:y_max, x_min:x_max]\n",
    "\n",
    "    roi_height = roi.shape[0]\n",
    "    roi_width = roi.shape[1]\n",
    "\n",
    "    #roi = Image.fromarray(np.uint8(roi))\n",
    "\n",
    "    roi_size = max(roi_height, roi_width)\n",
    "\n",
    "\n",
    "    if roi_height == roi_size:\n",
    "        check = 'height'\n",
    "        re_height = size\n",
    "        re_width = int(size * roi_width / roi_height)\n",
    "\n",
    "    else:\n",
    "        check = 'width'\n",
    "        re_height = int(size * roi_height / roi_width)\n",
    "        re_width = size\n",
    "\n",
    "    # 변경 #\n",
    "    resize_roi = cv2.resize(roi, dsize=(re_width,re_height)  ,interpolation=cv2.INTER_AREA) # 여기 바꿨다 - roi = Image.fromarray(np.uint8(roi)) 바뀌면서 수정한거야\n",
    "    np_roi = np.array(resize_roi , dtype=np.uint8) # 형도 지정해주었다\n",
    "    ###\n",
    "    \n",
    "    re_roi_height = np_roi.shape[0]\n",
    "    re_roi_width = np_roi.shape[1]\n",
    "\n",
    "    roi_y_coord = int(re_roi_height / 2)\n",
    "    roi_x_coord = int(re_roi_width / 2)\n",
    "\n",
    "    center = int(size / 2)\n",
    "\n",
    "    if check == 'height':\n",
    "        start = center - roi_x_coord\n",
    "        end = start + re_roi_width\n",
    "\n",
    "        background[:, start:end] = np_roi\n",
    "\n",
    "    else:\n",
    "        start = center - roi_y_coord\n",
    "        end = start + re_roi_height\n",
    "\n",
    "        background[start:end, :] = np_roi\n",
    "\n",
    "    background = background.astype(np.uint8) # 한번 더 형 지정\n",
    "    return background"
   ]
  },
  {
   "cell_type": "code",
   "execution_count": null,
   "metadata": {
    "colab": {
     "base_uri": "https://localhost:8080/",
     "height": 34
    },
    "colab_type": "code",
    "id": "6zsjEo5_2rtH",
    "outputId": "3a2145fa-72d3-49bb-effb-5dc533eaac35"
   },
   "outputs": [
    {
     "data": {
      "text/plain": [
       "3"
      ]
     },
     "execution_count": 18,
     "metadata": {
      "tags": []
     },
     "output_type": "execute_result"
    }
   ],
   "source": [
    "len(image_per_class)"
   ]
  },
  {
   "cell_type": "code",
   "execution_count": null,
   "metadata": {
    "colab": {
     "base_uri": "https://localhost:8080/",
     "height": 68
    },
    "colab_type": "code",
    "id": "JuJzn5562rqa",
    "outputId": "ee929f20-56dd-4b51-cccc-1335c3ac60cb"
   },
   "outputs": [
    {
     "name": "stdout",
     "output_type": "stream",
     "text": [
      "class_0 : (221, 192, 192, 3)\n",
      "class_1 : (294, 192, 192, 3)\n",
      "class_2 : (235, 192, 192, 3)\n"
     ]
    }
   ],
   "source": [
    "for i in range(3):\n",
    "  print( 'class_{} :'.format(i), image_per_class[i].shape)"
   ]
  },
  {
   "cell_type": "code",
   "execution_count": null,
   "metadata": {},
   "outputs": [],
   "source": []
  },
  {
   "cell_type": "markdown",
   "metadata": {
    "colab_type": "text",
    "id": "YAoNy-PlGOZN"
   },
   "source": [
    "### - class 마다 crop작업 해본다"
   ]
  },
  {
   "cell_type": "code",
   "execution_count": null,
   "metadata": {
    "colab": {},
    "colab_type": "code",
    "id": "YfFJcnhiet_5"
   },
   "outputs": [],
   "source": [
    "CLS_SCORE = 0.2\n",
    "\n",
    "# call graph info\n",
    "sess = status['sess']\n",
    "input_images_tensor = status['input_images_tensor']\n",
    "pred_tensor = status['pred_tensor']\n",
    "\n",
    "# do localization process\n",
    "#batch_data_generator = BatchImageGenerator(class_0_img, 16)\n",
    "\n",
    "\n",
    "##### define dict #####\n",
    "crop_img_list_class = {}\n",
    "crop_img_scores = {}\n",
    "\n",
    "for k in range(3):\n",
    "  ##### initialize_dict #####\n",
    "  crop_img_list_class[k] = {}\n",
    "  crop_img_scores[k] = {}\n",
    "\n",
    "  ##### image_per_class에서 이미지 불러 crop #####  \n",
    "  for i,img_scaling in enumerate( image_per_class[k] ):\n",
    "    ##### initialize_list #####\n",
    "    crop_img_list_class[k][i] = []\n",
    "    crop_img_scores[k][i] = []\n",
    "    ######\n",
    "\n",
    "    origin_img = img_scaling*255\n",
    "    #arr_img = [ resize_img(item['img']) for item in batch_data]\n",
    "    #arr_img = np.array(arr_img)\n",
    "\n",
    "    # make crop_items\n",
    "    preds = sess.run(pred_tensor, feed_dict={input_images_tensor: img_scaling.reshape(1,192,192,3) })\n",
    "\n",
    "    detection_boxes = preds['detection_boxes']\n",
    "    detection_scores = preds['detection_scores']\n",
    "\n",
    "    # for loop : img -> crop_img_items\n",
    "    criterion = detection_scores > CLS_SCORE\n",
    "    bboxes = detection_boxes[criterion]\n",
    "    scores = detection_scores[criterion]\n",
    "    \n",
    "    ## bbox가 하나도 없으면 건너뛰기\n",
    "    if len(bboxes) == 0:\n",
    "      continue\n",
    "    \n",
    "\n",
    "    \n",
    "    ### bbox들의 면적 계산해서, 가장 큰 bbox만 남기는 전략\n",
    "    #max_bbox_index = np.argmax( [(bbox[2]-bbox[0])*(bbox[3]-bbox[1]) for bbox in list(bboxes)] )\n",
    "    #bbox = bboxes[max_bbox_index]\n",
    "    \n",
    "    for scores, bbox in zip(scores, bboxes):\n",
    "      # crop 작업\n",
    "      origin_bbox = get_origin_bbox(origin_img, bbox)\n",
    "      crop_img = get_crop_img(origin_img, origin_bbox) # non-max suppersion 변경 해야 함. origin_bbox -> bbox\n",
    "      crop_img_list_class[k][i].append(crop_img)\n",
    "      crop_img_scores[k][i].append(scores)\n",
    "\n",
    "    #print(len(crop_img_list_class0[i]))"
   ]
  },
  {
   "cell_type": "code",
   "execution_count": null,
   "metadata": {
    "colab": {
     "base_uri": "https://localhost:8080/",
     "height": 1000
    },
    "colab_type": "code",
    "id": "QMKEEcLfBhGE",
    "outputId": "b3ce9680-8837-47fc-8dc5-fe5ee849e926"
   },
   "outputs": [
    {
     "name": "stdout",
     "output_type": "stream",
     "text": [
      "1 : 2\n",
      "2 : 4\n",
      "3 : 3\n",
      "4 : 3\n",
      "7 : 2\n",
      "8 : 2\n",
      "9 : 2\n",
      "10 : 3\n",
      "12 : 2\n",
      "13 : 2\n",
      "15 : 3\n",
      "16 : 2\n",
      "17 : 2\n",
      "18 : 2\n",
      "19 : 3\n",
      "20 : 2\n",
      "24 : 3\n",
      "25 : 2\n",
      "26 : 3\n",
      "29 : 2\n",
      "30 : 2\n",
      "32 : 2\n",
      "35 : 2\n",
      "37 : 2\n",
      "39 : 3\n",
      "43 : 2\n",
      "44 : 6\n",
      "45 : 2\n",
      "46 : 2\n",
      "47 : 3\n",
      "52 : 5\n",
      "53 : 4\n",
      "54 : 2\n",
      "56 : 2\n",
      "59 : 2\n",
      "61 : 3\n",
      "62 : 3\n",
      "63 : 3\n",
      "64 : 4\n",
      "65 : 2\n",
      "67 : 2\n",
      "68 : 2\n",
      "70 : 2\n",
      "71 : 2\n",
      "73 : 5\n",
      "74 : 2\n",
      "78 : 3\n",
      "80 : 2\n",
      "82 : 2\n",
      "84 : 2\n",
      "85 : 2\n",
      "89 : 3\n",
      "90 : 2\n",
      "93 : 3\n",
      "96 : 2\n",
      "100 : 5\n",
      "101 : 2\n",
      "102 : 2\n",
      "103 : 2\n",
      "107 : 2\n",
      "108 : 2\n",
      "109 : 2\n",
      "111 : 2\n",
      "112 : 2\n",
      "116 : 5\n",
      "118 : 4\n",
      "119 : 3\n",
      "120 : 2\n",
      "121 : 2\n",
      "123 : 4\n",
      "124 : 3\n",
      "125 : 2\n",
      "126 : 2\n",
      "127 : 2\n",
      "129 : 3\n",
      "131 : 2\n",
      "134 : 3\n",
      "135 : 4\n",
      "139 : 4\n",
      "143 : 3\n",
      "145 : 3\n",
      "147 : 2\n",
      "149 : 2\n",
      "153 : 2\n",
      "154 : 2\n",
      "155 : 3\n",
      "156 : 2\n",
      "159 : 6\n",
      "163 : 2\n",
      "167 : 2\n",
      "168 : 2\n",
      "169 : 2\n",
      "172 : 4\n",
      "173 : 2\n",
      "174 : 5\n",
      "176 : 2\n",
      "181 : 3\n",
      "182 : 2\n",
      "183 : 2\n",
      "184 : 2\n",
      "185 : 2\n",
      "186 : 2\n",
      "187 : 2\n",
      "189 : 3\n",
      "191 : 2\n",
      "193 : 3\n",
      "194 : 2\n",
      "197 : 2\n",
      "198 : 3\n",
      "202 : 2\n",
      "204 : 4\n",
      "207 : 3\n",
      "208 : 3\n",
      "210 : 4\n",
      "211 : 2\n",
      "212 : 2\n",
      "213 : 2\n",
      "214 : 2\n",
      "216 : 2\n",
      "217 : 2\n",
      "219 : 3\n"
     ]
    }
   ],
   "source": [
    "class_0_index_list = list( crop_img_list_class[0].keys() )\n",
    "\n",
    "sss_gt_1 = 0\n",
    "\n",
    "for i in class_0_index_list:\n",
    "  if len( crop_img_list_class[0][i] ) > 1:\n",
    "    print( i, ':', len( crop_img_list_class[0][i] ) )\n",
    "    sss_gt_1 += 1"
   ]
  },
  {
   "cell_type": "code",
   "execution_count": null,
   "metadata": {
    "colab": {
     "base_uri": "https://localhost:8080/",
     "height": 34
    },
    "colab_type": "code",
    "id": "QDJXromHDdzJ",
    "outputId": "83bdfadf-2a68-490c-e8a7-78c3c229e83d"
   },
   "outputs": [
    {
     "data": {
      "text/plain": [
       "0.5475113122171946"
      ]
     },
     "execution_count": 166,
     "metadata": {
      "tags": []
     },
     "output_type": "execute_result"
    }
   ],
   "source": [
    "sss_gt_1/len(class_0_index_list) # 1개보다 많은 crop_img 비율"
   ]
  },
  {
   "cell_type": "code",
   "execution_count": null,
   "metadata": {
    "colab": {},
    "colab_type": "code",
    "id": "7PVsr8X2IJHI"
   },
   "outputs": [],
   "source": []
  },
  {
   "cell_type": "code",
   "execution_count": null,
   "metadata": {
    "colab": {
     "base_uri": "https://localhost:8080/",
     "height": 286
    },
    "colab_type": "code",
    "id": "9kVnJiNQIK94",
    "outputId": "6c399cfd-1da5-47df-9f0a-73d882d5cac8"
   },
   "outputs": [
    {
     "data": {
      "text/plain": [
       "<matplotlib.image.AxesImage at 0x7f22ffd06b38>"
      ]
     },
     "execution_count": 125,
     "metadata": {
      "tags": []
     },
     "output_type": "execute_result"
    },
    {
     "data": {
      "image/png": "[encoded data removed]",
      "text/plain": [
       "<Figure size 432x288 with 1 Axes>"
      ]
     },
     "metadata": {
      "needs_background": "light",
      "tags": []
     },
     "output_type": "display_data"
    }
   ],
   "source": [
    "plt.imshow( image_per_class[0][1][:,:,[2,1,0]] )"
   ]
  },
  {
   "cell_type": "code",
   "execution_count": null,
   "metadata": {
    "colab": {
     "base_uri": "https://localhost:8080/",
     "height": 34
    },
    "colab_type": "code",
    "id": "U4zrlGs1IK97",
    "outputId": "e5639b2d-2013-4e0f-ccc2-847181547fd3"
   },
   "outputs": [
    {
     "data": {
      "text/plain": [
       "[0.9774842, 0.474874]"
      ]
     },
     "execution_count": 126,
     "metadata": {
      "tags": []
     },
     "output_type": "execute_result"
    }
   ],
   "source": [
    "# [class][image_index]\n",
    "\n",
    "crop_img_scores[0][1]  # 2개의 crop 이미지 나올거야"
   ]
  },
  {
   "cell_type": "code",
   "execution_count": null,
   "metadata": {
    "colab": {
     "base_uri": "https://localhost:8080/",
     "height": 34
    },
    "colab_type": "code",
    "id": "GAofLIZSIK9-",
    "outputId": "76d3f5a7-35ad-40a1-d625-3829f9382196"
   },
   "outputs": [
    {
     "data": {
      "text/plain": [
       "97"
      ]
     },
     "execution_count": 112,
     "metadata": {
      "tags": []
     },
     "output_type": "execute_result"
    }
   ],
   "source": [
    "int(0.9774842*100)"
   ]
  },
  {
   "cell_type": "code",
   "execution_count": null,
   "metadata": {
    "colab": {
     "base_uri": "https://localhost:8080/",
     "height": 303
    },
    "colab_type": "code",
    "id": "4MszfJ5GIK-A",
    "outputId": "311f7be3-0d09-4c80-acd0-588218b83af3"
   },
   "outputs": [
    {
     "name": "stdout",
     "output_type": "stream",
     "text": [
      "0.9774842\n"
     ]
    },
    {
     "data": {
      "text/plain": [
       "<matplotlib.image.AxesImage at 0x7f22ffc61ef0>"
      ]
     },
     "execution_count": 127,
     "metadata": {
      "tags": []
     },
     "output_type": "execute_result"
    },
    {
     "data": {
      "image/png": "[encoded data removed]",
      "text/plain": [
       "<Figure size 432x288 with 1 Axes>"
      ]
     },
     "metadata": {
      "needs_background": "light",
      "tags": []
     },
     "output_type": "display_data"
    }
   ],
   "source": [
    "index_k = 0\n",
    "\n",
    "print( crop_img_scores[0][1][index_k] )\n",
    "plt.imshow( crop_img_list_class[0][1][index_k] )"
   ]
  },
  {
   "cell_type": "code",
   "execution_count": null,
   "metadata": {
    "colab": {
     "base_uri": "https://localhost:8080/",
     "height": 303
    },
    "colab_type": "code",
    "id": "bBIj7keNIK-C",
    "outputId": "dadeb38e-7680-4786-ec1c-539c54681900"
   },
   "outputs": [
    {
     "name": "stdout",
     "output_type": "stream",
     "text": [
      "0.474874\n"
     ]
    },
    {
     "data": {
      "text/plain": [
       "<matplotlib.image.AxesImage at 0x7f22ffc42c18>"
      ]
     },
     "execution_count": 128,
     "metadata": {
      "tags": []
     },
     "output_type": "execute_result"
    },
    {
     "data": {
      "image/png": "[encoded data removed]",
      "text/plain": [
       "<Figure size 432x288 with 1 Axes>"
      ]
     },
     "metadata": {
      "needs_background": "light",
      "tags": []
     },
     "output_type": "display_data"
    }
   ],
   "source": [
    "index_k = 1\n",
    "\n",
    "print( crop_img_scores[0][1][index_k] )\n",
    "plt.imshow( crop_img_list_class[0][1][index_k] )"
   ]
  },
  {
   "cell_type": "code",
   "execution_count": null,
   "metadata": {
    "colab": {},
    "colab_type": "code",
    "id": "FxfY19e4ISsl"
   },
   "outputs": [],
   "source": []
  },
  {
   "cell_type": "code",
   "execution_count": null,
   "metadata": {
    "colab": {},
    "colab_type": "code",
    "id": "WtyN9xeGIJE3"
   },
   "outputs": [],
   "source": []
  },
  {
   "cell_type": "code",
   "execution_count": null,
   "metadata": {
    "colab": {},
    "colab_type": "code",
    "id": "6esB91ikIJCO"
   },
   "outputs": [],
   "source": []
  },
  {
   "cell_type": "code",
   "execution_count": null,
   "metadata": {
    "colab": {
     "base_uri": "https://localhost:8080/",
     "height": 286
    },
    "colab_type": "code",
    "id": "6ysLhNVkAVks",
    "outputId": "db8f1c93-aebe-4b25-a400-3aeda4b221b3"
   },
   "outputs": [
    {
     "data": {
      "text/plain": [
       "<matplotlib.image.AxesImage at 0x7f230044dcc0>"
      ]
     },
     "execution_count": 115,
     "metadata": {
      "tags": []
     },
     "output_type": "execute_result"
    },
    {
     "data": {
      "image/png": "[encoded data removed]",
      "text/plain": [
       "<Figure size 432x288 with 1 Axes>"
      ]
     },
     "metadata": {
      "needs_background": "light",
      "tags": []
     },
     "output_type": "display_data"
    }
   ],
   "source": [
    "plt.imshow( image_per_class[0][2][:,:,[2,1,0]] )"
   ]
  },
  {
   "cell_type": "code",
   "execution_count": null,
   "metadata": {
    "colab": {
     "base_uri": "https://localhost:8080/",
     "height": 34
    },
    "colab_type": "code",
    "id": "TOyMGqTSBXWe",
    "outputId": "c11d5bcc-0aaf-42cc-99ee-0e45bfb39fc8"
   },
   "outputs": [
    {
     "data": {
      "text/plain": [
       "[0.89049447, 0.7403716, 0.51939577, 0.38873133]"
      ]
     },
     "execution_count": 116,
     "metadata": {
      "tags": []
     },
     "output_type": "execute_result"
    }
   ],
   "source": [
    "# [class][image_index]\n",
    "\n",
    "crop_img_scores[0][2]  # 2개의 crop 이미지 나올거야"
   ]
  },
  {
   "cell_type": "code",
   "execution_count": null,
   "metadata": {
    "colab": {
     "base_uri": "https://localhost:8080/",
     "height": 34
    },
    "colab_type": "code",
    "id": "t2NHGzC8Grss",
    "outputId": "76d3f5a7-35ad-40a1-d625-3829f9382196"
   },
   "outputs": [
    {
     "data": {
      "text/plain": [
       "97"
      ]
     },
     "execution_count": 112,
     "metadata": {
      "tags": []
     },
     "output_type": "execute_result"
    }
   ],
   "source": [
    "int(0.9774842*100)"
   ]
  },
  {
   "cell_type": "code",
   "execution_count": null,
   "metadata": {
    "colab": {
     "base_uri": "https://localhost:8080/",
     "height": 303
    },
    "colab_type": "code",
    "id": "UPoMN4UOB_wr",
    "outputId": "25c1ba82-d14e-49e4-cf85-696e030c1612"
   },
   "outputs": [
    {
     "name": "stdout",
     "output_type": "stream",
     "text": [
      "0.89049447\n"
     ]
    },
    {
     "data": {
      "text/plain": [
       "<matplotlib.image.AxesImage at 0x7f22ffe8c908>"
      ]
     },
     "execution_count": 121,
     "metadata": {
      "tags": []
     },
     "output_type": "execute_result"
    },
    {
     "data": {
      "image/png": "[encoded data removed]",
      "text/plain": [
       "<Figure size 432x288 with 1 Axes>"
      ]
     },
     "metadata": {
      "needs_background": "light",
      "tags": []
     },
     "output_type": "display_data"
    }
   ],
   "source": [
    "index_k = 0\n",
    "\n",
    "print( crop_img_scores[0][2][index_k] )\n",
    "plt.imshow( crop_img_list_class[0][2][index_k] )"
   ]
  },
  {
   "cell_type": "code",
   "execution_count": null,
   "metadata": {
    "colab": {
     "base_uri": "https://localhost:8080/",
     "height": 303
    },
    "colab_type": "code",
    "id": "QgdP4haZBXcz",
    "outputId": "8b48c369-335a-4b57-f568-ca7021fd2286"
   },
   "outputs": [
    {
     "name": "stdout",
     "output_type": "stream",
     "text": [
      "0.7403716\n"
     ]
    },
    {
     "data": {
      "text/plain": [
       "<matplotlib.image.AxesImage at 0x7f22ffde9a20>"
      ]
     },
     "execution_count": 122,
     "metadata": {
      "tags": []
     },
     "output_type": "execute_result"
    },
    {
     "data": {
      "image/png": "[encoded data removed]",
      "text/plain": [
       "<Figure size 432x288 with 1 Axes>"
      ]
     },
     "metadata": {
      "needs_background": "light",
      "tags": []
     },
     "output_type": "display_data"
    }
   ],
   "source": [
    "index_k = 1\n",
    "\n",
    "print( crop_img_scores[0][2][index_k] )\n",
    "plt.imshow( crop_img_list_class[0][2][index_k] )"
   ]
  },
  {
   "cell_type": "code",
   "execution_count": null,
   "metadata": {
    "colab": {
     "base_uri": "https://localhost:8080/",
     "height": 303
    },
    "colab_type": "code",
    "id": "DBWsoplcCnv2",
    "outputId": "648cafa1-6ddb-40f3-ef3a-19b029b0f89c"
   },
   "outputs": [
    {
     "name": "stdout",
     "output_type": "stream",
     "text": [
      "0.51939577\n"
     ]
    },
    {
     "data": {
      "text/plain": [
       "<matplotlib.image.AxesImage at 0x7f22ffdc5b38>"
      ]
     },
     "execution_count": 123,
     "metadata": {
      "tags": []
     },
     "output_type": "execute_result"
    },
    {
     "data": {
      "image/png": "[encoded data removed]",
      "text/plain": [
       "<Figure size 432x288 with 1 Axes>"
      ]
     },
     "metadata": {
      "needs_background": "light",
      "tags": []
     },
     "output_type": "display_data"
    }
   ],
   "source": [
    "index_k = 2\n",
    "\n",
    "print( crop_img_scores[0][2][index_k] )\n",
    "plt.imshow( crop_img_list_class[0][2][index_k] )"
   ]
  },
  {
   "cell_type": "code",
   "execution_count": null,
   "metadata": {
    "colab": {
     "base_uri": "https://localhost:8080/",
     "height": 303
    },
    "colab_type": "code",
    "id": "DhEb2axuCnqZ",
    "outputId": "6e327179-1550-442b-abc9-b0f8065fe363"
   },
   "outputs": [
    {
     "name": "stdout",
     "output_type": "stream",
     "text": [
      "0.38873133\n"
     ]
    },
    {
     "data": {
      "text/plain": [
       "<matplotlib.image.AxesImage at 0x7f22ffd26c50>"
      ]
     },
     "execution_count": 124,
     "metadata": {
      "tags": []
     },
     "output_type": "execute_result"
    },
    {
     "data": {
      "image/png": "[encoded data removed]",
      "text/plain": [
       "<Figure size 432x288 with 1 Axes>"
      ]
     },
     "metadata": {
      "needs_background": "light",
      "tags": []
     },
     "output_type": "display_data"
    }
   ],
   "source": [
    "index_k = 3\n",
    "\n",
    "print( crop_img_scores[0][2][index_k] )\n",
    "plt.imshow( crop_img_list_class[0][2][index_k] )"
   ]
  },
  {
   "cell_type": "code",
   "execution_count": null,
   "metadata": {
    "colab": {},
    "colab_type": "code",
    "id": "7sLYW2D4AVij"
   },
   "outputs": [],
   "source": []
  },
  {
   "cell_type": "code",
   "execution_count": null,
   "metadata": {
    "colab": {},
    "colab_type": "code",
    "id": "9RcYfiKFAVgS"
   },
   "outputs": [],
   "source": []
  },
  {
   "cell_type": "code",
   "execution_count": null,
   "metadata": {
    "colab": {},
    "colab_type": "code",
    "id": "XCYTN_2pAVdp"
   },
   "outputs": [],
   "source": []
  },
  {
   "cell_type": "code",
   "execution_count": null,
   "metadata": {
    "colab": {},
    "colab_type": "code",
    "id": "49golcaii2Pm"
   },
   "outputs": [],
   "source": [
    "##### 원본 이미지 저장 #####\n",
    "\n",
    "folder_path_0 = 'crop_img/class_0/'\n",
    "folder_path_1 = 'crop_img/class_1/'\n",
    "folder_path_2 = 'crop_img/class_2/'\n",
    "\n",
    "for j in range(3):\n",
    "  if j == 0:\n",
    "    folder_path = folder_path_0\n",
    "  elif j == 1:\n",
    "    folder_path = folder_path_1\n",
    "  else:\n",
    "    folder_path = folder_path_2\n",
    "\n",
    "  for i in range(len(image_per_class[j])):\n",
    "    cv2.imwrite( folder_path+'class{}_i_{}.png'.format( j,i ),   image_per_class[j][i]*255 )"
   ]
  },
  {
   "cell_type": "code",
   "execution_count": null,
   "metadata": {
    "colab": {},
    "colab_type": "code",
    "id": "s28TEFHAEuv-"
   },
   "outputs": [],
   "source": [
    "### crop_img 저장 : class_0\n",
    "\n",
    "folder_path = 'crop_img/class_0/'\n",
    "\n",
    "for k, v in crop_img_list_class[0].items(): # class[0] 에서 각각의 이미지 index:v 에 대해,\n",
    "  for i,array in enumerate(v): # 각각의 이미지에서 crop된 images\n",
    "    cv2.imwrite( folder_path+'class0_i_{}_k_{}_score_{}.png'.format(k, i, int(100*crop_img_scores[0][k][i]) ),   \n",
    "                crop_img_list_class[0][k][i][:,:,[2,1,0]] ) # cv2를 이용해서 저장하므로, 다시 BGR로 돌려야한다"
   ]
  },
  {
   "cell_type": "code",
   "execution_count": null,
   "metadata": {
    "colab": {},
    "colab_type": "code",
    "id": "YX5-kfyyOhwn"
   },
   "outputs": [],
   "source": [
    "### crop_img 저장 : class_1\n",
    "\n",
    "folder_path = 'crop_img/class_1/'\n",
    "\n",
    "for k, v in crop_img_list_class[1].items(): # class[0] 에서 각각의 이미지 index:v 에 대해,\n",
    "  for i,array in enumerate(v): # 각각의 이미지에서 crop된 images\n",
    "    cv2.imwrite( folder_path+'class1_i_{}_k_{}_score_{}.png'.format(k, i, int(100*crop_img_scores[1][k][i]) ),   \n",
    "                crop_img_list_class[1][k][i][:,:,[2,1,0]] ) # cv2를 이용해서 저장하므로, 다시 BGR로 돌려야한다"
   ]
  },
  {
   "cell_type": "code",
   "execution_count": null,
   "metadata": {
    "colab": {},
    "colab_type": "code",
    "id": "NTQdMCphOhut"
   },
   "outputs": [],
   "source": [
    "### crop_img 저장 : class_2\n",
    "\n",
    "folder_path = 'crop_img/class_2/'\n",
    "\n",
    "for k, v in crop_img_list_class[2].items(): # class[0] 에서 각각의 이미지 index:v 에 대해,\n",
    "  for i,array in enumerate(v): # 각각의 이미지에서 crop된 images\n",
    "    cv2.imwrite( folder_path+'class2_i_{}_k_{}_score_{}.png'.format(k, i, int(100*crop_img_scores[2][k][i]) ),   \n",
    "                crop_img_list_class[2][k][i][:,:,[2,1,0]] ) # cv2를 이용해서 저장하므로, 다시 BGR로 돌려야한다"
   ]
  },
  {
   "cell_type": "code",
   "execution_count": null,
   "metadata": {
    "colab": {},
    "colab_type": "code",
    "id": "njDyU0KxO9j5"
   },
   "outputs": [],
   "source": []
  },
  {
   "cell_type": "code",
   "execution_count": null,
   "metadata": {
    "colab": {},
    "colab_type": "code",
    "id": "pu36V4ryOhsE"
   },
   "outputs": [],
   "source": []
  },
  {
   "cell_type": "markdown",
   "metadata": {
    "colab_type": "text",
    "id": "tosfw02ndzVi"
   },
   "source": [
    "# # 가장 큰 하나의 crop_img에 대해서 neckline(상위 45%정도?) 잡아보기\n",
    "- 면적이 가장 큰 이미지 하나에 대해서만"
   ]
  },
  {
   "cell_type": "code",
   "execution_count": null,
   "metadata": {
    "colab": {},
    "colab_type": "code",
    "id": "Tf7XOgJA320r"
   },
   "outputs": [],
   "source": [
    "CLS_SCORE = 0.4\n",
    "\n",
    "# call graph info\n",
    "sess = status['sess']\n",
    "input_images_tensor = status['input_images_tensor']\n",
    "pred_tensor = status['pred_tensor']\n",
    "\n",
    "# do localization process\n",
    "#batch_data_generator = BatchImageGenerator(class_0_img, 16)\n",
    "\n",
    "\n",
    "##### define dict #####\n",
    "crop_img_list_class_neck = {}\n",
    "crop_img_scores_neck = {}\n",
    "\n",
    "for k in range(3):\n",
    "  ##### initialize_dict #####\n",
    "  crop_img_list_class_neck[k] = {}\n",
    "  crop_img_scores_neck[k] = {}\n",
    " \n",
    "  ##### image_per_class에서 이미지 불러 crop #####  \n",
    "  for i,img_scaling in enumerate( image_per_class[k] ):\n",
    "    ##### initialize_list #####\n",
    "    crop_img_list_class_neck[k][i] = []\n",
    "    crop_img_scores_neck[k][i] = []\n",
    "    ######\n",
    "\n",
    "    origin_img = img_scaling*255\n",
    "    #arr_img = [ resize_img(item['img']) for item in batch_data]\n",
    "    #arr_img = np.array(arr_img)\n",
    "\n",
    "    # make crop_items\n",
    "    preds = sess.run(pred_tensor, feed_dict={input_images_tensor: img_scaling.reshape(1,192,192,3) })\n",
    "\n",
    "    detection_boxes = preds['detection_boxes']\n",
    "    detection_scores = preds['detection_scores']\n",
    "\n",
    "    # for loop : img -> crop_img_items\n",
    "    criterion = detection_scores > CLS_SCORE\n",
    "    bboxes = detection_boxes[criterion]\n",
    "    scores = detection_scores[criterion]\n",
    "    \n",
    "    ## bbox가 하나도 없으면 건너뛰기\n",
    "    if len(bboxes) == 0:\n",
    "      continue\n",
    "    \n",
    "\n",
    "    \n",
    "    ### bbox들의 면적 계산해서, 가장 큰 bbox만 남기는 전략\n",
    "    max_bbox_index = np.argmax( [(bbox[2]-bbox[0])*(bbox[3]-bbox[1]) for bbox in list(bboxes)] )\n",
    "    bbox = bboxes[max_bbox_index]\n",
    "    \n",
    "    #for scores, bbox in zip(scores, bboxes):\n",
    "      # crop 작업\n",
    "    origin_bbox = get_origin_bbox(origin_img, bbox)\n",
    "    crop_img = get_crop_img(origin_img, origin_bbox, neckline=True) # non-max suppersion 변경 해야 함. origin_bbox -> bbox\n",
    "    crop_img_list_class_neck[k][i].append(crop_img)\n",
    "    crop_img_scores_neck[k][i].append(scores)\n",
    "\n",
    "    #print(len(crop_img_list_class0[i]))"
   ]
  },
  {
   "cell_type": "code",
   "execution_count": null,
   "metadata": {
    "colab": {
     "base_uri": "https://localhost:8080/",
     "height": 34
    },
    "colab_type": "code",
    "id": "QdnxSe9BeF6k",
    "outputId": "a509d275-38aa-4a4f-b5f8-5d103b8e11de"
   },
   "outputs": [
    {
     "data": {
      "text/plain": [
       "221"
      ]
     },
     "execution_count": 194,
     "metadata": {
      "tags": []
     },
     "output_type": "execute_result"
    }
   ],
   "source": [
    "len(crop_img_list_class_neck[0] )"
   ]
  },
  {
   "cell_type": "code",
   "execution_count": null,
   "metadata": {
    "colab": {
     "base_uri": "https://localhost:8080/",
     "height": 34
    },
    "colab_type": "code",
    "id": "SFMCNekzrmzF",
    "outputId": "b45c745f-0c71-489e-94fe-15527cdf3e6d"
   },
   "outputs": [
    {
     "data": {
      "text/plain": [
       "(192, 192, 3)"
      ]
     },
     "execution_count": 36,
     "metadata": {
      "tags": []
     },
     "output_type": "execute_result"
    }
   ],
   "source": [
    "crop_img_list_class_neck[0][0][0].shape"
   ]
  },
  {
   "cell_type": "code",
   "execution_count": null,
   "metadata": {
    "colab": {},
    "colab_type": "code",
    "id": "MmGHcmDoeF4f"
   },
   "outputs": [],
   "source": [
    "# CLS : 0.2\n",
    "for i in range(len(crop_img_list_class_neck[0]) ):\n",
    "  cv2_imshow( crop_img_list_class_neck[0][i][0][:,:,[2,1,0]] )"
   ]
  },
  {
   "cell_type": "code",
   "execution_count": null,
   "metadata": {
    "colab": {},
    "colab_type": "code",
    "id": "6jGdU6idfvpx"
   },
   "outputs": [],
   "source": [
    "# CLS : 0.4\n",
    "for i in range(len(crop_img_list_class_neck[0]) ):\n",
    "  cv2_imshow( crop_img_list_class_neck[0][i][0][:,:,[2,1,0]] )"
   ]
  },
  {
   "cell_type": "code",
   "execution_count": null,
   "metadata": {
    "colab": {},
    "colab_type": "code",
    "id": "K0bmeAWdsGhr"
   },
   "outputs": [],
   "source": [
    "### crop_img 저장 : class_0\n",
    "\n",
    "folder_path_0 = 'crop_neckline/class_0/'\n",
    "folder_path_1 = 'crop_neckline/class_1/'\n",
    "folder_path_2 = 'crop_neckline/class_2/'\n",
    "\n",
    "for class_ind in range(3):\n",
    "  if class_ind == 0:\n",
    "    folder_path = folder_path_0\n",
    "  elif class_ind == 1:\n",
    "    folder_path = folder_path_1\n",
    "  else:\n",
    "    folder_path = folder_path_2\n",
    "\n",
    "  for image_ind in range(len(crop_img_list_class_neck[class_ind]) ):\n",
    "    if len(crop_img_list_class_neck[class_ind][image_ind] ) > 0: # 해당 image_ind에서 crop이미지 없을 수 있다.\n",
    "      cv2.imwrite( folder_path+'class_{}_{}.jpg'.format( class_ind, image_ind ),   \n",
    "                  crop_img_list_class_neck[class_ind][image_ind][0][:,:,[2,1,0]] ) # cv2를 이용해서 저장하므로, 다시 BGR로"
   ]
  },
  {
   "cell_type": "code",
   "execution_count": null,
   "metadata": {
    "colab": {},
    "colab_type": "code",
    "id": "v07KR6HM64gG"
   },
   "outputs": [],
   "source": []
  },
  {
   "cell_type": "code",
   "execution_count": null,
   "metadata": {
    "colab": {},
    "colab_type": "code",
    "id": "9crtsJuL64dY"
   },
   "outputs": [],
   "source": []
  },
  {
   "cell_type": "markdown",
   "metadata": {
    "colab_type": "text",
    "id": "8o-yNDGbKznm"
   },
   "source": [
    "\n",
    "\n",
    "---\n",
    "\n",
    "\n",
    "\n",
    "---\n",
    "\n",
    "\n",
    "\n",
    "---\n",
    "\n"
   ]
  },
  {
   "cell_type": "markdown",
   "metadata": {
    "colab_type": "text",
    "id": "cpijpmk_K0zU"
   },
   "source": [
    "# 3. 훈련 & 평가"
   ]
  },
  {
   "cell_type": "markdown",
   "metadata": {
    "colab_type": "text",
    "id": "6WQBFMqdATfi"
   },
   "source": [
    "## Input Data 준비\n",
    "- 데이터 프레이 활용\n",
    "> - img_path / bbox / status(label)"
   ]
  },
  {
   "cell_type": "code",
   "execution_count": null,
   "metadata": {
    "colab": {},
    "colab_type": "code",
    "id": "LzqtkLpVTL1M"
   },
   "outputs": [],
   "source": [
    "# get_localizer_model_bbox : bbox 얻도록 메소드 만들자\n",
    "\n",
    "def get_localizer_model_bbox(class_int, is_train = True):\n",
    "  \n",
    "    # image_per_class 는 dict형태\n",
    "    if is_train:\n",
    "        image_class = image_per_class\n",
    "    else:\n",
    "        image_class = test_image_per_class\n",
    "    \n",
    "    CLS_SCORE = 0.4\n",
    "\n",
    "    # call graph info\n",
    "    sess = status['sess']\n",
    "    input_images_tensor = status['input_images_tensor']\n",
    "    pred_tensor = status['pred_tensor']\n",
    "\n",
    "    # do localization process\n",
    "    #batch_data_generator = BatchImageGenerator(class_0_img, 16)\n",
    "\n",
    "    # origin_bbox_dict 으로 bbox 저장한다\n",
    "    origin_bbox_dict = {}\n",
    "\n",
    "    for i,img_scaling in enumerate( image_class[class_int] ):\n",
    "\n",
    "        origin_img = img_scaling*255\n",
    "\n",
    "        ##### localizer #####\n",
    "        preds = sess.run(pred_tensor, feed_dict={input_images_tensor: img_scaling.reshape(1,192,192,3) })\n",
    "        #####################\n",
    "\n",
    "        detection_boxes = preds['detection_boxes']\n",
    "        detection_scores = preds['detection_scores']\n",
    "\n",
    "\n",
    "        # for loop : img -> crop_img_items\n",
    "        criterion = detection_scores > CLS_SCORE\n",
    "        bboxes = detection_boxes[criterion]\n",
    "\n",
    "        ## bbox가 하나도 없으면 건너뛰기\n",
    "        if len(bboxes) == 0:\n",
    "            continue\n",
    "    \n",
    "\n",
    "    \n",
    "        # bbox들의 면적 계산해서, 가장 큰 bbox만 남기는 전략\n",
    "        max_bbox_index = np.argmax( [(bbox[2]-bbox[0])*(bbox[3]-bbox[1]) for bbox in list(bboxes)] )\n",
    "        bbox = bboxes[max_bbox_index]\n",
    "        # origin-bbox 얻기\n",
    "        origin_bbox = get_origin_bbox(origin_img, bbox)\n",
    "        origin_bbox_dict[i] = origin_bbox\n",
    "    \n",
    "    return origin_bbox_dict"
   ]
  },
  {
   "cell_type": "code",
   "execution_count": null,
   "metadata": {
    "colab": {
     "base_uri": "https://localhost:8080/",
     "height": 315,
     "referenced_widgets": [
      "0d8b6884e8ba40aba803b0ccb87f6704",
      "08e6bce40b88499fb3ff1c3184015c5b",
      "6d4f49648bef4175b91652321625cabe",
      "5aa7b3e443a24c48b8fe5690c053fc92",
      "d2c18d6ebc7f49f49e1ce28298c04751",
      "5e2ba66b13d74804af7861b302b86394",
      "d4df2fa2282b45abb10ebf4bdb8a6cee",
      "a21bf14f2bd1486388edccab741eb067",
      "7134e363b8744a35b484cb73ac9cacd8",
      "021be75e99de4010b766e952dee89c6a",
      "30cd230accc04089a56597dd5bd62913",
      "e44050ab0f684a0a8c5a835cab842c9f",
      "8c197e648b0447648f8d994cc261bde9",
      "800644b8565d439b9fe7f94de686de2d",
      "4aaa8e222a5c492a9d0517146e7c48e0",
      "c37869a54e3743afa7f22c8be61c1644",
      "2ac0c4726eac4471a5f5a4399e665023",
      "f0a3746691a5439b837a9b41d74bd6bb",
      "79492fe22e604a34a22d387f7126d925",
      "467c62538b39414dbcba791499dc1a79",
      "5401ba8008764bf69d57f26d033ec278",
      "2c9e4cead8584f5dabbd35cbb5ef52e1",
      "91d08234a14a40b39a38d2b360651229",
      "2b1afa1d705d48b392fdef0252bce442",
      "79a745fdd4f940268f800452df067cb7",
      "090748b37e2246b39983ec6c47c1d1a2",
      "8434b6e9541e42b4a358393de0093079",
      "f5e6848b9d774d3bb0823c68cae70f05",
      "0f8c11954ab94346ae3503101af47db1",
      "d9b992aefacc49d5bfeb27cb4b986fea",
      "f0f62993ae84489087b747ecbb70d696",
      "502f380c6b82431ea12b8f5bf434267f"
     ]
    },
    "colab_type": "code",
    "id": "F84lzOwHrKdK",
    "outputId": "dcdcc78f-64d5-4829-92b3-9286c8c096b7"
   },
   "outputs": [
    {
     "name": "stderr",
     "output_type": "stream",
     "text": [
      "/usr/local/lib/python3.6/dist-packages/ipykernel_launcher.py:8: TqdmDeprecationWarning: This function will be removed in tqdm==5.0.0\n",
      "Please use `tqdm.notebook.tqdm` instead of `tqdm.tqdm_notebook`\n",
      "  \n"
     ]
    },
    {
     "data": {
      "application/vnd.jupyter.widget-view+json": {
       "model_id": "0d8b6884e8ba40aba803b0ccb87f6704",
       "version_major": 2,
       "version_minor": 0
      },
      "text/plain": [
       "HBox(children=(FloatProgress(value=0.0, max=3.0), HTML(value='')))"
      ]
     },
     "metadata": {
      "tags": []
     },
     "output_type": "display_data"
    },
    {
     "name": "stderr",
     "output_type": "stream",
     "text": [
      "/usr/local/lib/python3.6/dist-packages/ipykernel_launcher.py:15: TqdmDeprecationWarning: This function will be removed in tqdm==5.0.0\n",
      "Please use `tqdm.notebook.tqdm` instead of `tqdm.tqdm_notebook`\n",
      "  from ipykernel import kernelapp as app\n"
     ]
    },
    {
     "data": {
      "application/vnd.jupyter.widget-view+json": {
       "model_id": "7134e363b8744a35b484cb73ac9cacd8",
       "version_major": 2,
       "version_minor": 0
      },
      "text/plain": [
       "HBox(children=(FloatProgress(value=0.0, max=221.0), HTML(value='')))"
      ]
     },
     "metadata": {
      "tags": []
     },
     "output_type": "display_data"
    },
    {
     "name": "stdout",
     "output_type": "stream",
     "text": [
      "\n"
     ]
    },
    {
     "data": {
      "application/vnd.jupyter.widget-view+json": {
       "model_id": "2ac0c4726eac4471a5f5a4399e665023",
       "version_major": 2,
       "version_minor": 0
      },
      "text/plain": [
       "HBox(children=(FloatProgress(value=0.0, max=292.0), HTML(value='')))"
      ]
     },
     "metadata": {
      "tags": []
     },
     "output_type": "display_data"
    },
    {
     "name": "stdout",
     "output_type": "stream",
     "text": [
      "\n"
     ]
    },
    {
     "data": {
      "application/vnd.jupyter.widget-view+json": {
       "model_id": "79a745fdd4f940268f800452df067cb7",
       "version_major": 2,
       "version_minor": 0
      },
      "text/plain": [
       "HBox(children=(FloatProgress(value=0.0, max=235.0), HTML(value='')))"
      ]
     },
     "metadata": {
      "tags": []
     },
     "output_type": "display_data"
    },
    {
     "name": "stdout",
     "output_type": "stream",
     "text": [
      "\n",
      "\n"
     ]
    }
   ],
   "source": [
    "### for train - get bbox / path / status ###\n",
    "\n",
    "total_path = []\n",
    "total_bbox = []\n",
    "total_status = []\n",
    "\n",
    "### class 17 에 대해서 - path/bbox 얻는 작업 ###\n",
    "for i in tqdm_notebook(range(3)):\n",
    "  \n",
    "    class_int_ = i\n",
    "  \n",
    "    class_bbox = get_localizer_model_bbox( class_int = class_int_ ) # 명시된 class에 대한 bbox -(dict형태)\n",
    "    class_path = path_per_class[i] # path_per_class(dict)에서 해당 class list만 뽑아온다\n",
    "  \n",
    "    for k, bbox in tqdm_notebook(class_bbox.items()):\n",
    "        total_path.append( class_path[k] ) # bbox 얻은 객체만 path 추가\n",
    "        total_bbox.append( bbox )\n",
    "        total_status.append( i )"
   ]
  },
  {
   "cell_type": "code",
   "execution_count": null,
   "metadata": {
    "colab": {
     "base_uri": "https://localhost:8080/",
     "height": 68
    },
    "colab_type": "code",
    "id": "rLZ5Q_Iyt2Zw",
    "outputId": "c8829ac7-d3d3-4a4e-a1a4-9c4345858a86"
   },
   "outputs": [
    {
     "name": "stdout",
     "output_type": "stream",
     "text": [
      "748\n",
      "748\n",
      "748\n"
     ]
    }
   ],
   "source": [
    "print(len(total_path))\n",
    "print(len(total_bbox))\n",
    "print(len(total_status))"
   ]
  },
  {
   "cell_type": "code",
   "execution_count": null,
   "metadata": {
    "colab": {
     "base_uri": "https://localhost:8080/",
     "height": 204
    },
    "colab_type": "code",
    "id": "uDY6nmE7HCxL",
    "outputId": "1197e072-1225-4f63-ea63-e762ce9b2c3b"
   },
   "outputs": [
    {
     "data": {
      "text/html": [
       "<div>\n",
       "<style scoped>\n",
       "    .dataframe tbody tr th:only-of-type {\n",
       "        vertical-align: middle;\n",
       "    }\n",
       "\n",
       "    .dataframe tbody tr th {\n",
       "        vertical-align: top;\n",
       "    }\n",
       "\n",
       "    .dataframe thead th {\n",
       "        text-align: right;\n",
       "    }\n",
       "</style>\n",
       "<table border=\"1\" class=\"dataframe\">\n",
       "  <thead>\n",
       "    <tr style=\"text-align: right;\">\n",
       "      <th></th>\n",
       "      <th>filename</th>\n",
       "      <th>bbox</th>\n",
       "      <th>status</th>\n",
       "    </tr>\n",
       "  </thead>\n",
       "  <tbody>\n",
       "    <tr>\n",
       "      <th>0</th>\n",
       "      <td>img/round_116.jpg</td>\n",
       "      <td>(7, 37, 180, 159)</td>\n",
       "      <td>0</td>\n",
       "    </tr>\n",
       "    <tr>\n",
       "      <th>1</th>\n",
       "      <td>img/round_158.jpg</td>\n",
       "      <td>(1, 48, 177, 178)</td>\n",
       "      <td>0</td>\n",
       "    </tr>\n",
       "    <tr>\n",
       "      <th>2</th>\n",
       "      <td>img/round_22.jpg</td>\n",
       "      <td>(35, 58, 174, 149)</td>\n",
       "      <td>0</td>\n",
       "    </tr>\n",
       "    <tr>\n",
       "      <th>3</th>\n",
       "      <td>img/round_17.jpg</td>\n",
       "      <td>(1, 53, 189, 146)</td>\n",
       "      <td>0</td>\n",
       "    </tr>\n",
       "    <tr>\n",
       "      <th>4</th>\n",
       "      <td>img/round_54.jpg</td>\n",
       "      <td>(5, 57, 185, 132)</td>\n",
       "      <td>0</td>\n",
       "    </tr>\n",
       "  </tbody>\n",
       "</table>\n",
       "</div>"
      ],
      "text/plain": [
       "            filename                bbox  status\n",
       "0  img/round_116.jpg   (7, 37, 180, 159)       0\n",
       "1  img/round_158.jpg   (1, 48, 177, 178)       0\n",
       "2   img/round_22.jpg  (35, 58, 174, 149)       0\n",
       "3   img/round_17.jpg   (1, 53, 189, 146)       0\n",
       "4   img/round_54.jpg   (5, 57, 185, 132)       0"
      ]
     },
     "execution_count": 98,
     "metadata": {
      "tags": []
     },
     "output_type": "execute_result"
    }
   ],
   "source": [
    "## dataframe 만들기\n",
    "\n",
    "df = pd.DataFrame({'filename':total_path, 'bbox':total_bbox, 'status':total_status})\n",
    "\n",
    "df.head()"
   ]
  },
  {
   "cell_type": "code",
   "execution_count": null,
   "metadata": {
    "colab": {
     "base_uri": "https://localhost:8080/",
     "height": 187
    },
    "colab_type": "code",
    "id": "Q4wC_v_ICQx4",
    "outputId": "7f8e0b38-9e77-4330-d370-1ae4c9b0973f"
   },
   "outputs": [
    {
     "name": "stdout",
     "output_type": "stream",
     "text": [
      "<class 'pandas.core.frame.DataFrame'>\n",
      "RangeIndex: 3559 entries, 0 to 3558\n",
      "Data columns (total 3 columns):\n",
      " #   Column    Non-Null Count  Dtype \n",
      "---  ------    --------------  ----- \n",
      " 0   filename  3559 non-null   object\n",
      " 1   bbox      3559 non-null   object\n",
      " 2   status    3559 non-null   int64 \n",
      "dtypes: int64(1), object(2)\n",
      "memory usage: 83.5+ KB\n"
     ]
    }
   ],
   "source": [
    "df.info()"
   ]
  },
  {
   "cell_type": "markdown",
   "metadata": {},
   "source": []
  },
  {
   "cell_type": "markdown",
   "metadata": {
    "colab_type": "text",
    "id": "uWPK6D3js6Pe"
   },
   "source": [
    "## # 불러와서 이용하자"
   ]
  },
  {
   "cell_type": "code",
   "execution_count": null,
   "metadata": {
    "colab": {},
    "colab_type": "code",
    "id": "Ztw4-GrKrJNP"
   },
   "outputs": [],
   "source": [
    "### 저장해서 이용하자 - tuple이 str로 변환되는 문제 : https://www.reddit.com/r/learnpython/comments/44dpgd/convert_pandas_dataframe_column_from_str_to_tuple/\n",
    "import ast\n",
    "\n",
    "#df.to_csv('gnecklinebbox_status_0619.csv', index=False)\n",
    "df = pd.read_csv('necklinebbox_status_0619.csv',   converters={\"bbox\": ast.literal_eval} ) # "
   ]
  },
  {
   "cell_type": "code",
   "execution_count": null,
   "metadata": {
    "colab": {
     "base_uri": "https://localhost:8080/",
     "height": 34
    },
    "colab_type": "code",
    "id": "S9ISYd7xmJwf",
    "outputId": "0d1882dd-c909-43c3-ae0e-553ac9dff25b"
   },
   "outputs": [
    {
     "data": {
      "text/plain": [
       "748"
      ]
     },
     "execution_count": 12,
     "metadata": {
      "tags": []
     },
     "output_type": "execute_result"
    }
   ],
   "source": [
    "len(df)"
   ]
  },
  {
   "cell_type": "code",
   "execution_count": null,
   "metadata": {
    "colab": {
     "base_uri": "https://localhost:8080/",
     "height": 102
    },
    "colab_type": "code",
    "id": "aR2J1YKVmf6T",
    "outputId": "25057622-ba6b-44bf-d621-c59b9494ef46"
   },
   "outputs": [
    {
     "data": {
      "text/plain": [
       "status\n",
       "0    221\n",
       "1    292\n",
       "2    235\n",
       "dtype: int64"
      ]
     },
     "execution_count": 14,
     "metadata": {
      "tags": []
     },
     "output_type": "execute_result"
    }
   ],
   "source": [
    "df.groupby('status').size()"
   ]
  },
  {
   "cell_type": "code",
   "execution_count": null,
   "metadata": {
    "colab": {},
    "colab_type": "code",
    "id": "LEixaM9RI-Gf"
   },
   "outputs": [],
   "source": [
    "# split dataframe / train(0.8), test(0.2)\n",
    "total_data_count = len(df)\n",
    "train_index = np.random.choice(len(df), int(0.8*len(df)), replace=False )\n",
    "\n",
    "\n",
    "df_train = df[ df.index.isin(train_index)].reset_index(drop=True)\n",
    "df_valid = df[~df.index.isin(train_index)].reset_index(drop=True)"
   ]
  },
  {
   "cell_type": "code",
   "execution_count": null,
   "metadata": {
    "colab": {
     "base_uri": "https://localhost:8080/",
     "height": 34
    },
    "colab_type": "code",
    "id": "mER1AztIzZwB",
    "outputId": "2c4d884e-70ea-4897-e640-bd66438f197e"
   },
   "outputs": [
    {
     "name": "stdout",
     "output_type": "stream",
     "text": [
      "598 150\n"
     ]
    }
   ],
   "source": [
    "print(len(df_train), len(df_valid) )"
   ]
  },
  {
   "cell_type": "markdown",
   "metadata": {
    "colab_type": "text",
    "id": "dHF93QsXdgbl"
   },
   "source": [
    "## # 훈련셋만 균형지게 만들기"
   ]
  },
  {
   "cell_type": "code",
   "execution_count": null,
   "metadata": {
    "colab": {},
    "colab_type": "code",
    "id": "L2iPMH2Xl8te"
   },
   "outputs": [],
   "source": [
    "# equal-sized 데이터 만들기\n",
    "\n",
    "def make_equal_size(df, class_name=None):\n",
    "  if not class_name:\n",
    "    class_name = 'status'\n",
    "  top_class = df[class_name].value_counts().index[0]\n",
    "  size = df[df[class_name] == top_class].shape[0]\n",
    "\n",
    "  df_equal_size = pd.DataFrame()\n",
    "  for class_key, grp in df.groupby(class_name):\n",
    "    if class_key == top_class:\n",
    "      df_equal_size = pd.concat([df_equal_size, grp], axis=0)\n",
    "    else:\n",
    "      equal_sampled = grp.sample(n = size, replace=True)\n",
    "      df_equal_size = pd.concat([df_equal_size, equal_sampled], axis=0)\n",
    "  \n",
    "  df_equal_size = df_equal_size.reset_index(drop=True)\n",
    "  return df_equal_size"
   ]
  },
  {
   "cell_type": "code",
   "execution_count": null,
   "metadata": {
    "colab": {},
    "colab_type": "code",
    "id": "4ifRYenDmC_3"
   },
   "outputs": [],
   "source": [
    "# 불균형 데이터 맞춰준다\n",
    "df_train = make_equal_size(df = df_train)"
   ]
  },
  {
   "cell_type": "code",
   "execution_count": null,
   "metadata": {
    "colab": {
     "base_uri": "https://localhost:8080/",
     "height": 102
    },
    "colab_type": "code",
    "id": "fzxsO6k0dfHj",
    "outputId": "50043e64-aa68-4c94-d684-42d7d54b1c9c"
   },
   "outputs": [
    {
     "data": {
      "text/plain": [
       "status\n",
       "0    234\n",
       "1    234\n",
       "2    234\n",
       "dtype: int64"
      ]
     },
     "execution_count": 19,
     "metadata": {
      "tags": []
     },
     "output_type": "execute_result"
    }
   ],
   "source": [
    "df_train.groupby('status').size()"
   ]
  },
  {
   "cell_type": "markdown",
   "metadata": {
    "colab": {},
    "colab_type": "code",
    "id": "Ex1I4aP_dfCv"
   },
   "source": [
    "---"
   ]
  },
  {
   "cell_type": "markdown",
   "metadata": {
    "colab_type": "text",
    "id": "A4Oiiw6NuiHH"
   },
   "source": [
    "## # using generator"
   ]
  },
  {
   "cell_type": "code",
   "execution_count": null,
   "metadata": {
    "colab": {},
    "colab_type": "code",
    "id": "WVIh6F_6oCSf"
   },
   "outputs": [],
   "source": [
    "from tensorflow.keras.utils import Sequence\n",
    "\n",
    "#------------------------------------------------------\n",
    "# CropDataset\n",
    "class CropDataset(Sequence):\n",
    "    #---------------------------------------------\n",
    "    # constructor\n",
    "    def __init__(self, df, batch_size=16, target_size=(192,192), mode='train', shuffle=True, aug=False):\n",
    "\n",
    "        self.len_df = len(df)\n",
    "        self.batch_size = batch_size\n",
    "        self.target_size = target_size\n",
    "        self.shuffle = shuffle\n",
    "\n",
    "        if mode == 'train' and aug == True:\n",
    "            self.aug = True\n",
    "        else:\n",
    "            self.aug = False\n",
    "\n",
    "        self.file_list = df['filename'].tolist()\n",
    "        self.bbox_list = df['bbox'].tolist()\n",
    "\n",
    "        self.label_list = df['status'].tolist()\n",
    "\n",
    "        self.on_epoch_end()\n",
    "\n",
    "    def on_epoch_end(self):\n",
    "        self.indexes = np.arange(len(self.file_list))\n",
    "        if self.shuffle:\n",
    "            np.random.shuffle(self.indexes)\n",
    "\n",
    "    def __len__(self):\n",
    "        return int(np.floor(self.len_df) / self.batch_size)\n",
    "\n",
    "    def __data_generation(self, indexes):\n",
    "\n",
    "        X = np.empty((self.batch_size, *self.target_size, 3))\n",
    "        y = np.empty((self.batch_size), dtype=int)\n",
    "\n",
    "        # Generate data\n",
    "        for i, idx in enumerate(indexes):\n",
    "\n",
    "            file_name = self.file_list[idx]\n",
    "            # img_path 경로를 추가.\n",
    "            img_path = file_name\n",
    "\n",
    "            img = self._read_img(img_path)\n",
    "            bbox = self.bbox_list[idx]\n",
    "            label = self.label_list[idx]\n",
    "\n",
    "            crop_img = self._get_crop_img(img, bbox)\n",
    "            # crop_img = self._get_crop_img2(img, bbox)\n",
    "            resized_crop_img = self._resize_img(crop_img)\n",
    "\n",
    "            # normalization\n",
    "            resized_crop_img = resized_crop_img / 255.\n",
    "\n",
    "            # data augmentation\n",
    "            if self.aug:\n",
    "                resized_crop_img = self._get_augmentated_img(resized_crop_img)\n",
    "\n",
    "            X[i, ] = resized_crop_img\n",
    "            y[i, ] = label\n",
    "\n",
    "        return X, y\n",
    "\n",
    "    def __getitem__(self, index):\n",
    "        # Generate one batch of data\n",
    "        indexes = self.indexes[index*self.batch_size:(index+1)*self.batch_size]\n",
    "\n",
    "        # Generate data\n",
    "        X, y = self.__data_generation(indexes)\n",
    "\n",
    "        return X, y\n",
    "\n",
    "    def _get_crop_img(self, img, bbox):\n",
    "        # img : numpy_array\n",
    "        # bbox : list [1,1,1,1]\n",
    "        background = np.zeros_like(img)\n",
    "\n",
    "        size = img.shape[0]\n",
    "\n",
    "        y_min, x_min, y_max, x_max = bbox\n",
    "        # 30%의 상위 이미지만 네크라인 이미지로 활용\n",
    "        alpha = (y_max-y_min)*0.5\n",
    "        y_max = np.int(y_min + alpha)\n",
    "\n",
    "\n",
    "        roi = img[y_min:y_max, x_min:x_max]\n",
    "\n",
    "        roi_height = roi.shape[0]\n",
    "        roi_width = roi.shape[1]\n",
    "\n",
    "        #roi = Image.fromarray(np.uint8(roi))\n",
    "\n",
    "        roi_size = max(roi_height, roi_width)\n",
    "\n",
    "\n",
    "        if roi_height == roi_size:\n",
    "            check = 'height'\n",
    "            re_height = size\n",
    "            re_width = int(size * roi_width / roi_height)\n",
    "        else:\n",
    "            check = 'width'\n",
    "            re_height = int(size * roi_height / roi_width)\n",
    "            re_width = size\n",
    "\n",
    "        resize_roi = cv2.resize(roi, dsize=(re_width,re_height)  ,interpolation=cv2.INTER_AREA) # 여기 바꿨다 - roi = Image.fromarray(np.uint8(roi)) 바뀌면서 수정한거야\n",
    "        np_roi = np.array(resize_roi , dtype=np.uint8) # 형도 지정해주었다\n",
    "\n",
    "        re_roi_height = np_roi.shape[0]\n",
    "        re_roi_width = np_roi.shape[1]\n",
    "\n",
    "        roi_y_coord = int(re_roi_height/2)\n",
    "        roi_x_coord = int(re_roi_width/2)\n",
    "\n",
    "        center = int(size / 2)\n",
    "\n",
    "        if check == 'height':\n",
    "            background[:, (center-roi_x_coord):(center-roi_x_coord+re_roi_width)] = np_roi\n",
    "        else:\n",
    "            background[(center-roi_y_coord):(center-roi_y_coord+re_roi_height), :] = np_roi\n",
    "        \n",
    "        background = background.astype(np.uint8) # 한번 더 형 지정\n",
    "\n",
    "        return background\n",
    "\n",
    "    def _read_img(self, img_path):\n",
    "        \n",
    "        img = cv2.imread(img_path) # array 형태\n",
    "        cv2_resize_img = cv2.resize(img, dsize=(192,192)  ,interpolation=cv2.INTER_AREA)\n",
    "        \n",
    "        return cv2_resize_img\n",
    "\n",
    "    def _resize_img(self, img):\n",
    "  \n",
    "        # img resize\n",
    "        resize_img = cv2.resize(img, dsize=(192,192)  ,interpolation=cv2.INTER_AREA)\n",
    "\n",
    "        np_img = np.array(resize_img)\n",
    "\n",
    "        return np_img\n",
    "\n",
    "\n",
    "\n",
    "\n",
    "    def _get_augmentated_img(self, img,\n",
    "                              rotation_range= 10,\n",
    "                              width_shift_range= 0.05,\n",
    "                              height_shift_range= 0.05,\n",
    "                              shear_intensity = False,\n",
    "                              zoom_range= (1, 1), #(0.9, 1.1),\n",
    "                              horizontal_flip=True,\n",
    "                              vertical_flip=True\n",
    "                              ):\n",
    "\n",
    "\n",
    "        if rotation_range:\n",
    "            img = tf.keras.preprocessing.image.random_rotation(img, rg = rotation_range, row_axis=0, col_axis=1, channel_axis=2, fill_mode = 'constant', cval=0.0)\n",
    "\n",
    "        if width_shift_range:\n",
    "            img = tf.keras.preprocessing.image.random_shift(img, wrg = width_shift_range, hrg = 0, row_axis=0, col_axis=1, channel_axis=2, fill_mode = 'constant', cval=0.0)\n",
    "\n",
    "        if height_shift_range:\n",
    "            img = tf.keras.preprocessing.image.random_shift(img, wrg = 0, hrg = height_shift_range, row_axis=0, col_axis=1, channel_axis=2, fill_mode = 'constant', cval=0.0)\n",
    "\n",
    "\n",
    "        if shear_intensity:\n",
    "            img = tf.keras.preprocessing.image.random_shear(img, intensity=shear_intensity, row_axis=0, col_axis=1, channel_axis=2, fill_mode = 'constant', cval=0.0)\n",
    "\n",
    "        if zoom_range:\n",
    "            img = tf.keras.preprocessing.image.random_zoom(img, zoom_range=zoom_range, row_axis=0, col_axis=1, channel_axis=2, fill_mode = 'constant', cval=0.0)\n",
    "\n",
    "        if vertical_flip:\n",
    "          vertical_flip_bool = np.random.choice( [True, False] )\n",
    "          if vertical_flip_bool == True:\n",
    "            img = tf.image.flip_up_down( img )\n",
    "\n",
    "        #\n",
    "        if horizontal_flip:\n",
    "          horizontal_flip_bool = np.random.choice([True, False])\n",
    "          if horizontal_flip_bool == True:\n",
    "            img = tf.image.flip_left_right(img)\n",
    "\n",
    "        return img\n"
   ]
  },
  {
   "cell_type": "code",
   "execution_count": null,
   "metadata": {
    "colab": {
     "base_uri": "https://localhost:8080/",
     "height": 34
    },
    "colab_type": "code",
    "id": "6ZaNdCHjLteS",
    "outputId": "28788177-d3df-41b2-e422-8cd0df9bc004"
   },
   "outputs": [
    {
     "data": {
      "text/plain": [
       "(192, 192, 3)"
      ]
     },
     "execution_count": 186,
     "metadata": {
      "tags": []
     },
     "output_type": "execute_result"
    }
   ],
   "source": [
    "val_data_generator[0][0][0].shape"
   ]
  },
  {
   "cell_type": "code",
   "execution_count": null,
   "metadata": {
    "colab": {
     "base_uri": "https://localhost:8080/",
     "height": 286
    },
    "colab_type": "code",
    "id": "CP-Z_Aq_L0cP",
    "outputId": "d10fa4b4-b874-4b34-9cb0-9645aec95bb9"
   },
   "outputs": [
    {
     "data": {
      "text/plain": [
       "<matplotlib.image.AxesImage at 0x7fe5c3cac518>"
      ]
     },
     "execution_count": 22,
     "metadata": {
      "tags": []
     },
     "output_type": "execute_result"
    },
    {
     "data": {
      "image/png": "[encoded data removed]",
      "text/plain": [
       "<Figure size 432x288 with 1 Axes>"
      ]
     },
     "metadata": {
      "needs_background": "light",
      "tags": []
     },
     "output_type": "display_data"
    }
   ],
   "source": [
    "plt.imshow( val_data_generator[0][0][0][:,:,[2,1,0]] )"
   ]
  },
  {
   "cell_type": "code",
   "execution_count": null,
   "metadata": {
    "colab": {},
    "colab_type": "code",
    "id": "PgdGOiqUetQW"
   },
   "outputs": [],
   "source": [
    "# parameter for training\n",
    "BATCH_SIZE = 64\n",
    "IMG_WIDTH = 192\n",
    "AUG = True\n",
    "\n",
    "# make train generator\n",
    "train_data_generator = CropDataset(df = df_train,\n",
    "                                    batch_size=BATCH_SIZE,\n",
    "                                    target_size=(IMG_WIDTH, IMG_WIDTH),\n",
    "                                    mode='train',\n",
    "                                    shuffle=True,\n",
    "                                    aug=AUG)\n",
    "\n",
    "# make val generator\n",
    "val_data_generator = CropDataset(df = df_valid,\n",
    "                                  batch_size = len(df_valid),\n",
    "                                  #batch_size = BATCH_SIZE,\n",
    "                                  target_size=(IMG_WIDTH, IMG_WIDTH),\n",
    "                                  mode='val',\n",
    "                                  shuffle=False,\n",
    "                                  aug=False)"
   ]
  },
  {
   "cell_type": "code",
   "execution_count": null,
   "metadata": {
    "colab": {},
    "colab_type": "code",
    "id": "vw-HSs3WnETc"
   },
   "outputs": [],
   "source": [
    "#test_data_generator = CropDataset(df = df_test_sample,\n",
    "#                                  batch_size = len(df_test_sample),\n",
    "#                                  target_size = (IMG_WIDTH, IMG_WIDTH),\n",
    "#                                  mode = 'test',\n",
    "#                                  shuffle=False,\n",
    "#                                  aug=False                                  \n",
    "#                                  )"
   ]
  },
  {
   "cell_type": "markdown",
   "metadata": {
    "colab_type": "text",
    "id": "n8lXEGsNetQc"
   },
   "source": [
    "## Training 실행"
   ]
  },
  {
   "cell_type": "code",
   "execution_count": null,
   "metadata": {
    "colab": {},
    "colab_type": "code",
    "id": "OcK9XsnqetQc"
   },
   "outputs": [],
   "source": [
    "from tensorflow.keras.layers import Conv2D, MaxPooling2D, Flatten, Dense, BatchNormalization, Dropout, Activation, GlobalAveragePooling2D\n",
    "from tensorflow.keras.models import Sequential\n",
    "from tensorflow.keras.optimizers import Adam,RMSprop, SGD\n",
    "\n",
    "input_shape = (IMG_WIDTH, IMG_WIDTH, 3)\n",
    "METRICS = ['accuracy']\n",
    "LOSS_FUNC = 'sparse_categorical_crossentropy'\n",
    "NUM_CLASS = 3\n",
    "\n",
    "# OPTIMIZER_FUNC = 'sgd'\n",
    "# OPTIMIZER_FUNC = 'rmsprop'\n",
    "OPTIMIZER_FUNC = 'adam'\n",
    "\n",
    "# define model\n",
    "model = Sequential([\n",
    "    Conv2D(16, kernel_size=(3,3), padding='same', activation='relu', input_shape = input_shape),\n",
    "    MaxPooling2D(pool_size=(2,2)), # 112\n",
    "    \n",
    "\n",
    "    Conv2D(32, kernel_size=(3,3), padding='same', activation='relu'),\n",
    "    BatchNormalization(),\n",
    "    MaxPooling2D(pool_size=(2,2)), # 56\n",
    "\n",
    "    Conv2D(64, kernel_size=(3,3), padding='same', activation='relu'),\n",
    "    BatchNormalization(),\n",
    "    MaxPooling2D(pool_size=(2,2)), # 28\n",
    "\n",
    "    Conv2D(128, kernel_size=(3,3), padding='same', activation='relu'),\n",
    "    BatchNormalization(),\n",
    "    MaxPooling2D(pool_size=(2,2)), # 14\n",
    "\n",
    "    Flatten(),\n",
    "    Dropout(0.5),\n",
    "\n",
    "    Dense(256, activation='relu'),\n",
    "    Dropout(0.5),\n",
    "    Dense(NUM_CLASS, activation='softmax')\n",
    "])\n",
    "\n",
    "# compile model\n",
    "model.compile(\n",
    "    loss=LOSS_FUNC,\n",
    "    optimizer=OPTIMIZER_FUNC,\n",
    "    metrics=METRICS\n",
    ")"
   ]
  },
  {
   "cell_type": "code",
   "execution_count": null,
   "metadata": {
    "colab": {},
    "colab_type": "code",
    "id": "e9XOF2sZBif3"
   },
   "outputs": [],
   "source": [
    "from tensorflow.keras.layers import Conv2D, MaxPooling2D, Flatten, Dense, BatchNormalization, Dropout, Activation, GlobalAveragePooling2D\n",
    "from tensorflow.keras.models import Sequential\n",
    "from tensorflow.keras.optimizers import Adam,RMSprop, SGD\n",
    "\n",
    "input_shape = (IMG_WIDTH, IMG_WIDTH, 3)\n",
    "METRICS = ['accuracy']\n",
    "LOSS_FUNC = 'sparse_categorical_crossentropy'\n",
    "NUM_CLASS = 17\n",
    "\n",
    "# OPTIMIZER_FUNC = 'sgd'\n",
    "# OPTIMIZER_FUNC = 'rmsprop'\n",
    "OPTIMIZER_FUNC = 'adam'\n",
    "\n",
    "# define model\n",
    "model2 = Sequential([\n",
    "    Conv2D(16, kernel_size=(3,3), padding='same', activation='relu', input_shape = input_shape),\n",
    "    #BatchNormalization(),\n",
    "    Dropout(0.2),\n",
    "    MaxPooling2D(pool_size=(2,2)), # 112\n",
    "    \n",
    "\n",
    "    Conv2D(16, kernel_size=(3,3), padding='same', activation='relu'),\n",
    "    #BatchNormalization(),\n",
    "    MaxPooling2D(pool_size=(2,2)), # 56\n",
    "\n",
    "    Conv2D(16, kernel_size=(3,3), padding='same', activation='relu'),\n",
    "    #BatchNormalization(),\n",
    "    MaxPooling2D(pool_size=(2,2)), # 28\n",
    "\n",
    "    Conv2D(16, kernel_size=(3,3), padding='same', activation='relu'),\n",
    "    #BatchNormalization(),\n",
    "    Dropout(0.2),\n",
    "    MaxPooling2D(pool_size=(2,2)), # 14\n",
    "    \n",
    "    \n",
    "    Flatten(),\n",
    "    #Dropout(0.5),\n",
    "\n",
    "    Dense(512, activation='relu'),\n",
    "    #Dropout(0.5),\n",
    "    Dense(NUM_CLASS, activation='softmax')\n",
    "])\n",
    "\n",
    "# compile model\n",
    "model2.compile(\n",
    "    loss=LOSS_FUNC,\n",
    "    optimizer=OPTIMIZER_FUNC,\n",
    "    metrics=METRICS\n",
    ")"
   ]
  },
  {
   "cell_type": "code",
   "execution_count": null,
   "metadata": {
    "colab": {
     "base_uri": "https://localhost:8080/",
     "height": 697
    },
    "colab_type": "code",
    "id": "6X5INGwletQe",
    "outputId": "75f61520-d59e-4d52-af9e-c01ecbf1a22c"
   },
   "outputs": [
    {
     "name": "stdout",
     "output_type": "stream",
     "text": [
      "Model: \"sequential_1\"\n",
      "_________________________________________________________________\n",
      "Layer (type)                 Output Shape              Param #   \n",
      "=================================================================\n",
      "conv2d_4 (Conv2D)            (None, 192, 192, 16)      448       \n",
      "_________________________________________________________________\n",
      "max_pooling2d_4 (MaxPooling2 (None, 96, 96, 16)        0         \n",
      "_________________________________________________________________\n",
      "conv2d_5 (Conv2D)            (None, 96, 96, 32)        4640      \n",
      "_________________________________________________________________\n",
      "batch_normalization_3 (Batch (None, 96, 96, 32)        128       \n",
      "_________________________________________________________________\n",
      "max_pooling2d_5 (MaxPooling2 (None, 48, 48, 32)        0         \n",
      "_________________________________________________________________\n",
      "conv2d_6 (Conv2D)            (None, 48, 48, 64)        18496     \n",
      "_________________________________________________________________\n",
      "batch_normalization_4 (Batch (None, 48, 48, 64)        256       \n",
      "_________________________________________________________________\n",
      "max_pooling2d_6 (MaxPooling2 (None, 24, 24, 64)        0         \n",
      "_________________________________________________________________\n",
      "conv2d_7 (Conv2D)            (None, 24, 24, 128)       73856     \n",
      "_________________________________________________________________\n",
      "batch_normalization_5 (Batch (None, 24, 24, 128)       512       \n",
      "_________________________________________________________________\n",
      "max_pooling2d_7 (MaxPooling2 (None, 12, 12, 128)       0         \n",
      "_________________________________________________________________\n",
      "flatten_1 (Flatten)          (None, 18432)             0         \n",
      "_________________________________________________________________\n",
      "dropout_2 (Dropout)          (None, 18432)             0         \n",
      "_________________________________________________________________\n",
      "dense_2 (Dense)              (None, 256)               4718848   \n",
      "_________________________________________________________________\n",
      "dropout_3 (Dropout)          (None, 256)               0         \n",
      "_________________________________________________________________\n",
      "dense_3 (Dense)              (None, 3)                 771       \n",
      "=================================================================\n",
      "Total params: 4,817,955\n",
      "Trainable params: 4,817,507\n",
      "Non-trainable params: 448\n",
      "_________________________________________________________________\n"
     ]
    }
   ],
   "source": [
    "# model summary\n",
    "model.summary()"
   ]
  },
  {
   "cell_type": "code",
   "execution_count": null,
   "metadata": {
    "colab": {
     "base_uri": "https://localhost:8080/",
     "height": 595
    },
    "colab_type": "code",
    "id": "y9yb9XCABlnJ",
    "outputId": "32601cbc-2b3b-4082-e2f8-5f00aebbbaf3"
   },
   "outputs": [
    {
     "name": "stdout",
     "output_type": "stream",
     "text": [
      "Model: \"sequential_2\"\n",
      "_________________________________________________________________\n",
      "Layer (type)                 Output Shape              Param #   \n",
      "=================================================================\n",
      "conv2d_8 (Conv2D)            (None, 192, 192, 16)      448       \n",
      "_________________________________________________________________\n",
      "dropout_4 (Dropout)          (None, 192, 192, 16)      0         \n",
      "_________________________________________________________________\n",
      "max_pooling2d_8 (MaxPooling2 (None, 96, 96, 16)        0         \n",
      "_________________________________________________________________\n",
      "conv2d_9 (Conv2D)            (None, 96, 96, 16)        2320      \n",
      "_________________________________________________________________\n",
      "max_pooling2d_9 (MaxPooling2 (None, 48, 48, 16)        0         \n",
      "_________________________________________________________________\n",
      "conv2d_10 (Conv2D)           (None, 48, 48, 16)        2320      \n",
      "_________________________________________________________________\n",
      "max_pooling2d_10 (MaxPooling (None, 24, 24, 16)        0         \n",
      "_________________________________________________________________\n",
      "conv2d_11 (Conv2D)           (None, 24, 24, 16)        2320      \n",
      "_________________________________________________________________\n",
      "dropout_5 (Dropout)          (None, 24, 24, 16)        0         \n",
      "_________________________________________________________________\n",
      "max_pooling2d_11 (MaxPooling (None, 12, 12, 16)        0         \n",
      "_________________________________________________________________\n",
      "flatten_2 (Flatten)          (None, 2304)              0         \n",
      "_________________________________________________________________\n",
      "dense_4 (Dense)              (None, 512)               1180160   \n",
      "_________________________________________________________________\n",
      "dense_5 (Dense)              (None, 17)                8721      \n",
      "=================================================================\n",
      "Total params: 1,196,289\n",
      "Trainable params: 1,196,289\n",
      "Non-trainable params: 0\n",
      "_________________________________________________________________\n"
     ]
    }
   ],
   "source": [
    "model2.summary()"
   ]
  },
  {
   "cell_type": "code",
   "execution_count": null,
   "metadata": {
    "colab": {
     "base_uri": "https://localhost:8080/",
     "height": 34
    },
    "colab_type": "code",
    "id": "c9dRvVhnolh_",
    "outputId": "cb9f1aa9-ff85-40ac-d9bf-d37368128d77"
   },
   "outputs": [
    {
     "name": "stderr",
     "output_type": "stream",
     "text": [
      "mkdir: cannot create directory ‘logs’: File exists\n"
     ]
    }
   ],
   "source": [
    "%%bash\n",
    "mkdir logs"
   ]
  },
  {
   "cell_type": "code",
   "execution_count": null,
   "metadata": {
    "colab": {
     "base_uri": "https://localhost:8080/",
     "height": 34
    },
    "colab_type": "code",
    "id": "XUNFRz-0owJt",
    "outputId": "539e24d7-ce08-4dfe-99d9-75a5d3828e59"
   },
   "outputs": [
    {
     "name": "stderr",
     "output_type": "stream",
     "text": [
      "mkdir: cannot create directory ‘logs/fit’: File exists\n"
     ]
    }
   ],
   "source": [
    "%%bash\n",
    "mkdir logs/fit"
   ]
  },
  {
   "cell_type": "code",
   "execution_count": null,
   "metadata": {
    "colab": {
     "base_uri": "https://localhost:8080/",
     "height": 34
    },
    "colab_type": "code",
    "id": "V_nPcYdCort-",
    "outputId": "22751bd2-3efe-4833-f6c2-49c169ce16b5"
   },
   "outputs": [
    {
     "data": {
      "text/plain": [
       "['logs/fit']"
      ]
     },
     "execution_count": 139,
     "metadata": {
      "tags": []
     },
     "output_type": "execute_result"
    }
   ],
   "source": [
    "glob.glob('logs/*')"
   ]
  },
  {
   "cell_type": "code",
   "execution_count": null,
   "metadata": {
    "colab": {},
    "colab_type": "code",
    "id": "TV4XU74FoZdA"
   },
   "outputs": [],
   "source": [
    "import datetime\n",
    "import tensorflow as tf\n",
    "\n",
    "log_dir = \"logs/fit/\" + datetime.datetime.now().strftime(\"%Y%m%d-%H%M%S\")\n",
    "tensorboard_callback = tf.keras.callbacks.TensorBoard(log_dir=log_dir, histogram_freq=1)"
   ]
  },
  {
   "cell_type": "code",
   "execution_count": null,
   "metadata": {
    "colab": {
     "base_uri": "https://localhost:8080/",
     "height": 357
    },
    "colab_type": "code",
    "id": "yUPSb0keo_nr",
    "outputId": "bee377fe-dc21-4680-c5f4-3bd92fedc672"
   },
   "outputs": [
    {
     "name": "stdout",
     "output_type": "stream",
     "text": [
      "Fri Jun 19 04:14:55 2020       \n",
      "+-----------------------------------------------------------------------------+\n",
      "| NVIDIA-SMI 450.36.06    Driver Version: 418.67       CUDA Version: 10.1     |\n",
      "|-------------------------------+----------------------+----------------------+\n",
      "| GPU  Name        Persistence-M| Bus-Id        Disp.A | Volatile Uncorr. ECC |\n",
      "| Fan  Temp  Perf  Pwr:Usage/Cap|         Memory-Usage | GPU-Util  Compute M. |\n",
      "|                               |                      |               MIG M. |\n",
      "|===============================+======================+======================|\n",
      "|   0  Tesla T4            Off  | 00000000:00:04.0 Off |                    0 |\n",
      "| N/A   75C    P0    35W /  70W |   4823MiB / 15079MiB |      0%      Default |\n",
      "|                               |                      |                 ERR! |\n",
      "+-------------------------------+----------------------+----------------------+\n",
      "                                                                               \n",
      "+-----------------------------------------------------------------------------+\n",
      "| Processes:                                                                  |\n",
      "|  GPU   GI   CI        PID   Type   Process name                  GPU Memory |\n",
      "|        ID   ID                                                   Usage      |\n",
      "|=============================================================================|\n",
      "|  No running processes found                                                 |\n",
      "+-----------------------------------------------------------------------------+\n"
     ]
    }
   ],
   "source": [
    "!nvidia-smi"
   ]
  },
  {
   "cell_type": "code",
   "execution_count": null,
   "metadata": {
    "colab": {},
    "colab_type": "code",
    "id": "58XlY11ppcfh"
   },
   "outputs": [],
   "source": [
    "%load_ext tensorboard"
   ]
  },
  {
   "cell_type": "code",
   "execution_count": null,
   "metadata": {
    "colab": {
     "base_uri": "https://localhost:8080/",
     "height": 1000
    },
    "colab_type": "code",
    "id": "xVZewF5VBqgB",
    "outputId": "778ce88e-3db7-4371-f272-1e9989eed801"
   },
   "outputs": [
    {
     "name": "stdout",
     "output_type": "stream",
     "text": [
      "Epoch 1/100\n",
      "10/10 [==============================] - 16s 2s/step - loss: 1.4749 - accuracy: 0.3469 - val_loss: 1.0980 - val_accuracy: 0.3933\n",
      "Epoch 2/100\n",
      "10/10 [==============================] - 16s 2s/step - loss: 1.0988 - accuracy: 0.4000 - val_loss: 1.1073 - val_accuracy: 0.5267\n",
      "Epoch 3/100\n",
      "10/10 [==============================] - 16s 2s/step - loss: 1.0723 - accuracy: 0.4422 - val_loss: 1.0672 - val_accuracy: 0.5000\n",
      "Epoch 4/100\n",
      "10/10 [==============================] - 16s 2s/step - loss: 1.0465 - accuracy: 0.4906 - val_loss: 1.0846 - val_accuracy: 0.3867\n",
      "Epoch 5/100\n",
      "10/10 [==============================] - 16s 2s/step - loss: 1.0497 - accuracy: 0.4594 - val_loss: 1.0468 - val_accuracy: 0.5400\n",
      "Epoch 6/100\n",
      "10/10 [==============================] - 16s 2s/step - loss: 1.0160 - accuracy: 0.4625 - val_loss: 1.0012 - val_accuracy: 0.5733\n",
      "Epoch 7/100\n",
      "10/10 [==============================] - 16s 2s/step - loss: 1.0346 - accuracy: 0.4906 - val_loss: 0.9891 - val_accuracy: 0.5533\n",
      "Epoch 8/100\n",
      "10/10 [==============================] - 16s 2s/step - loss: 1.0187 - accuracy: 0.4844 - val_loss: 1.0301 - val_accuracy: 0.5133\n",
      "Epoch 9/100\n",
      "10/10 [==============================] - 16s 2s/step - loss: 1.0000 - accuracy: 0.4906 - val_loss: 1.0160 - val_accuracy: 0.5667\n",
      "Epoch 10/100\n",
      "10/10 [==============================] - 16s 2s/step - loss: 0.9711 - accuracy: 0.5359 - val_loss: 0.9888 - val_accuracy: 0.5867\n",
      "Epoch 11/100\n",
      "10/10 [==============================] - 16s 2s/step - loss: 0.9598 - accuracy: 0.5281 - val_loss: 0.9615 - val_accuracy: 0.5733\n",
      "Epoch 12/100\n",
      "10/10 [==============================] - 16s 2s/step - loss: 0.9393 - accuracy: 0.5625 - val_loss: 0.9662 - val_accuracy: 0.5800\n",
      "Epoch 13/100\n",
      "10/10 [==============================] - 16s 2s/step - loss: 0.9443 - accuracy: 0.5391 - val_loss: 0.9920 - val_accuracy: 0.5533\n",
      "Epoch 14/100\n",
      "10/10 [==============================] - 16s 2s/step - loss: 0.9252 - accuracy: 0.5688 - val_loss: 0.9561 - val_accuracy: 0.6067\n",
      "Epoch 15/100\n",
      "10/10 [==============================] - 16s 2s/step - loss: 0.9506 - accuracy: 0.5437 - val_loss: 0.9383 - val_accuracy: 0.6133\n",
      "Epoch 16/100\n",
      "10/10 [==============================] - 16s 2s/step - loss: 0.9205 - accuracy: 0.5422 - val_loss: 0.9805 - val_accuracy: 0.5800\n",
      "Epoch 17/100\n",
      "10/10 [==============================] - 16s 2s/step - loss: 0.8984 - accuracy: 0.5797 - val_loss: 0.9310 - val_accuracy: 0.5667\n",
      "Epoch 18/100\n",
      "10/10 [==============================] - 16s 2s/step - loss: 0.9272 - accuracy: 0.5609 - val_loss: 0.9495 - val_accuracy: 0.5600\n",
      "Epoch 19/100\n",
      "10/10 [==============================] - 16s 2s/step - loss: 0.9265 - accuracy: 0.5625 - val_loss: 0.9710 - val_accuracy: 0.5933\n",
      "Epoch 20/100\n",
      "10/10 [==============================] - 16s 2s/step - loss: 0.9086 - accuracy: 0.5672 - val_loss: 0.9137 - val_accuracy: 0.6000\n",
      "Epoch 21/100\n",
      "10/10 [==============================] - 16s 2s/step - loss: 0.9090 - accuracy: 0.5766 - val_loss: 0.8991 - val_accuracy: 0.6133\n",
      "Epoch 22/100\n",
      "10/10 [==============================] - 16s 2s/step - loss: 0.8713 - accuracy: 0.5984 - val_loss: 0.9184 - val_accuracy: 0.5800\n",
      "Epoch 23/100\n",
      "10/10 [==============================] - 16s 2s/step - loss: 0.8602 - accuracy: 0.6031 - val_loss: 0.9177 - val_accuracy: 0.6067\n",
      "Epoch 24/100\n",
      "10/10 [==============================] - 16s 2s/step - loss: 0.8914 - accuracy: 0.5844 - val_loss: 0.8872 - val_accuracy: 0.6267\n",
      "Epoch 25/100\n",
      "10/10 [==============================] - 16s 2s/step - loss: 0.8727 - accuracy: 0.5906 - val_loss: 0.9147 - val_accuracy: 0.5867\n",
      "Epoch 26/100\n",
      "10/10 [==============================] - 16s 2s/step - loss: 0.8891 - accuracy: 0.5625 - val_loss: 0.9062 - val_accuracy: 0.6267\n",
      "Epoch 27/100\n",
      "10/10 [==============================] - 16s 2s/step - loss: 0.8483 - accuracy: 0.6031 - val_loss: 0.8914 - val_accuracy: 0.6133\n",
      "Epoch 28/100\n",
      "10/10 [==============================] - 16s 2s/step - loss: 0.8378 - accuracy: 0.6094 - val_loss: 0.8713 - val_accuracy: 0.5933\n",
      "Epoch 29/100\n",
      "10/10 [==============================] - 16s 2s/step - loss: 0.8351 - accuracy: 0.5984 - val_loss: 0.8770 - val_accuracy: 0.6267\n",
      "Epoch 30/100\n",
      "10/10 [==============================] - 16s 2s/step - loss: 0.8267 - accuracy: 0.6281 - val_loss: 0.8545 - val_accuracy: 0.6333\n",
      "Epoch 31/100\n",
      "10/10 [==============================] - 16s 2s/step - loss: 0.8198 - accuracy: 0.6297 - val_loss: 0.8517 - val_accuracy: 0.6400\n",
      "Epoch 32/100\n",
      "10/10 [==============================] - 16s 2s/step - loss: 0.8291 - accuracy: 0.6313 - val_loss: 0.8822 - val_accuracy: 0.6467\n",
      "Epoch 33/100\n",
      "10/10 [==============================] - 16s 2s/step - loss: 0.8391 - accuracy: 0.6078 - val_loss: 0.9293 - val_accuracy: 0.5800\n",
      "Epoch 34/100\n",
      "10/10 [==============================] - 16s 2s/step - loss: 0.8137 - accuracy: 0.6406 - val_loss: 0.8831 - val_accuracy: 0.5800\n",
      "Epoch 35/100\n",
      "10/10 [==============================] - 16s 2s/step - loss: 0.8518 - accuracy: 0.6047 - val_loss: 0.9117 - val_accuracy: 0.6333\n",
      "Epoch 36/100\n",
      "10/10 [==============================] - 16s 2s/step - loss: 0.8023 - accuracy: 0.6594 - val_loss: 0.8667 - val_accuracy: 0.6067\n",
      "Epoch 37/100\n",
      "10/10 [==============================] - 16s 2s/step - loss: 0.7889 - accuracy: 0.6531 - val_loss: 0.8564 - val_accuracy: 0.6333\n",
      "Epoch 38/100\n",
      "10/10 [==============================] - 16s 2s/step - loss: 0.7726 - accuracy: 0.6578 - val_loss: 0.8739 - val_accuracy: 0.5933\n",
      "Epoch 39/100\n",
      "10/10 [==============================] - 16s 2s/step - loss: 0.7850 - accuracy: 0.6484 - val_loss: 0.8975 - val_accuracy: 0.5933\n",
      "Epoch 40/100\n",
      "10/10 [==============================] - 16s 2s/step - loss: 0.7958 - accuracy: 0.6391 - val_loss: 0.9019 - val_accuracy: 0.5667\n",
      "Epoch 41/100\n",
      "10/10 [==============================] - 16s 2s/step - loss: 0.8054 - accuracy: 0.6406 - val_loss: 0.9388 - val_accuracy: 0.6000\n",
      "Epoch 42/100\n",
      "10/10 [==============================] - 16s 2s/step - loss: 0.7791 - accuracy: 0.6719 - val_loss: 0.9012 - val_accuracy: 0.5867\n",
      "Epoch 43/100\n",
      "10/10 [==============================] - 16s 2s/step - loss: 0.7260 - accuracy: 0.6828 - val_loss: 0.9051 - val_accuracy: 0.5733\n",
      "Epoch 44/100\n",
      "10/10 [==============================] - 16s 2s/step - loss: 0.7569 - accuracy: 0.6422 - val_loss: 0.8586 - val_accuracy: 0.6067\n",
      "Epoch 45/100\n",
      "10/10 [==============================] - 16s 2s/step - loss: 0.7219 - accuracy: 0.6891 - val_loss: 0.8751 - val_accuracy: 0.5867\n",
      "Epoch 46/100\n",
      "10/10 [==============================] - 16s 2s/step - loss: 0.7335 - accuracy: 0.6812 - val_loss: 0.8683 - val_accuracy: 0.6200\n",
      "Epoch 47/100\n",
      "10/10 [==============================] - 16s 2s/step - loss: 0.7711 - accuracy: 0.6500 - val_loss: 0.8557 - val_accuracy: 0.6400\n",
      "Epoch 48/100\n",
      "10/10 [==============================] - 16s 2s/step - loss: 0.7843 - accuracy: 0.6187 - val_loss: 0.9859 - val_accuracy: 0.5667\n",
      "Epoch 49/100\n",
      "10/10 [==============================] - 16s 2s/step - loss: 0.7725 - accuracy: 0.6578 - val_loss: 0.8920 - val_accuracy: 0.5800\n",
      "Epoch 50/100\n",
      "10/10 [==============================] - 16s 2s/step - loss: 0.7263 - accuracy: 0.6734 - val_loss: 0.9213 - val_accuracy: 0.5800\n",
      "Epoch 51/100\n",
      "10/10 [==============================] - 16s 2s/step - loss: 0.7167 - accuracy: 0.6844 - val_loss: 0.9139 - val_accuracy: 0.6067\n",
      "Epoch 52/100\n",
      "10/10 [==============================] - 16s 2s/step - loss: 0.7386 - accuracy: 0.6828 - val_loss: 0.9089 - val_accuracy: 0.6067\n",
      "Epoch 53/100\n",
      "10/10 [==============================] - 16s 2s/step - loss: 0.6887 - accuracy: 0.7109 - val_loss: 0.8956 - val_accuracy: 0.5933\n",
      "Epoch 54/100\n",
      "10/10 [==============================] - 16s 2s/step - loss: 0.6835 - accuracy: 0.6844 - val_loss: 0.8783 - val_accuracy: 0.5867\n",
      "Epoch 55/100\n",
      "10/10 [==============================] - 16s 2s/step - loss: 0.6770 - accuracy: 0.7188 - val_loss: 0.9155 - val_accuracy: 0.5733\n",
      "Epoch 56/100\n",
      "10/10 [==============================] - 16s 2s/step - loss: 0.6864 - accuracy: 0.6969 - val_loss: 0.9792 - val_accuracy: 0.5667\n",
      "Epoch 57/100\n",
      "10/10 [==============================] - 16s 2s/step - loss: 0.7162 - accuracy: 0.6719 - val_loss: 0.9088 - val_accuracy: 0.5800\n",
      "Epoch 58/100\n",
      "10/10 [==============================] - 16s 2s/step - loss: 0.6395 - accuracy: 0.7266 - val_loss: 0.9081 - val_accuracy: 0.5867\n",
      "Epoch 59/100\n",
      " 6/10 [=================>............] - ETA: 5s - loss: 0.6339 - accuracy: 0.7422"
     ]
    },
    {
     "ename": "KeyboardInterrupt",
     "evalue": "ignored",
     "output_type": "error",
     "traceback": [
      "\u001b[0;31m---------------------------------------------------------------------------\u001b[0m",
      "\u001b[0;31mKeyboardInterrupt\u001b[0m                         Traceback (most recent call last)",
      "\u001b[0;32m<ipython-input-46-747f5b42a088>\u001b[0m in \u001b[0;36m<module>\u001b[0;34m()\u001b[0m\n\u001b[1;32m      3\u001b[0m     \u001b[0mepochs\u001b[0m \u001b[0;34m=\u001b[0m \u001b[0;36m100\u001b[0m\u001b[0;34m,\u001b[0m\u001b[0;34m\u001b[0m\u001b[0;34m\u001b[0m\u001b[0m\n\u001b[1;32m      4\u001b[0m     \u001b[0mvalidation_data\u001b[0m\u001b[0;34m=\u001b[0m\u001b[0mval_data_generator\u001b[0m\u001b[0;34m,\u001b[0m\u001b[0;34m\u001b[0m\u001b[0;34m\u001b[0m\u001b[0m\n\u001b[0;32m----> 5\u001b[0;31m     verbose=1)\n\u001b[0m",
      "\u001b[0;32m/usr/local/lib/python3.6/dist-packages/tensorflow/python/util/deprecation.py\u001b[0m in \u001b[0;36mnew_func\u001b[0;34m(*args, **kwargs)\u001b[0m\n\u001b[1;32m    322\u001b[0m               \u001b[0;34m'in a future version'\u001b[0m \u001b[0;32mif\u001b[0m \u001b[0mdate\u001b[0m \u001b[0;32mis\u001b[0m \u001b[0;32mNone\u001b[0m \u001b[0;32melse\u001b[0m \u001b[0;34m(\u001b[0m\u001b[0;34m'after %s'\u001b[0m \u001b[0;34m%\u001b[0m \u001b[0mdate\u001b[0m\u001b[0;34m)\u001b[0m\u001b[0;34m,\u001b[0m\u001b[0;34m\u001b[0m\u001b[0;34m\u001b[0m\u001b[0m\n\u001b[1;32m    323\u001b[0m               instructions)\n\u001b[0;32m--> 324\u001b[0;31m       \u001b[0;32mreturn\u001b[0m \u001b[0mfunc\u001b[0m\u001b[0;34m(\u001b[0m\u001b[0;34m*\u001b[0m\u001b[0margs\u001b[0m\u001b[0;34m,\u001b[0m \u001b[0;34m**\u001b[0m\u001b[0mkwargs\u001b[0m\u001b[0;34m)\u001b[0m\u001b[0;34m\u001b[0m\u001b[0;34m\u001b[0m\u001b[0m\n\u001b[0m\u001b[1;32m    325\u001b[0m     return tf_decorator.make_decorator(\n\u001b[1;32m    326\u001b[0m         \u001b[0mfunc\u001b[0m\u001b[0;34m,\u001b[0m \u001b[0mnew_func\u001b[0m\u001b[0;34m,\u001b[0m \u001b[0;34m'deprecated'\u001b[0m\u001b[0;34m,\u001b[0m\u001b[0;34m\u001b[0m\u001b[0;34m\u001b[0m\u001b[0m\n",
      "\u001b[0;32m/usr/local/lib/python3.6/dist-packages/tensorflow/python/keras/engine/training.py\u001b[0m in \u001b[0;36mfit_generator\u001b[0;34m(self, generator, steps_per_epoch, epochs, verbose, callbacks, validation_data, validation_steps, validation_freq, class_weight, max_queue_size, workers, use_multiprocessing, shuffle, initial_epoch)\u001b[0m\n\u001b[1;32m   1477\u001b[0m         \u001b[0muse_multiprocessing\u001b[0m\u001b[0;34m=\u001b[0m\u001b[0muse_multiprocessing\u001b[0m\u001b[0;34m,\u001b[0m\u001b[0;34m\u001b[0m\u001b[0;34m\u001b[0m\u001b[0m\n\u001b[1;32m   1478\u001b[0m         \u001b[0mshuffle\u001b[0m\u001b[0;34m=\u001b[0m\u001b[0mshuffle\u001b[0m\u001b[0;34m,\u001b[0m\u001b[0;34m\u001b[0m\u001b[0;34m\u001b[0m\u001b[0m\n\u001b[0;32m-> 1479\u001b[0;31m         initial_epoch=initial_epoch)\n\u001b[0m\u001b[1;32m   1480\u001b[0m \u001b[0;34m\u001b[0m\u001b[0m\n\u001b[1;32m   1481\u001b[0m   @deprecation.deprecated(\n",
      "\u001b[0;32m/usr/local/lib/python3.6/dist-packages/tensorflow/python/keras/engine/training.py\u001b[0m in \u001b[0;36m_method_wrapper\u001b[0;34m(self, *args, **kwargs)\u001b[0m\n\u001b[1;32m     64\u001b[0m   \u001b[0;32mdef\u001b[0m \u001b[0m_method_wrapper\u001b[0m\u001b[0;34m(\u001b[0m\u001b[0mself\u001b[0m\u001b[0;34m,\u001b[0m \u001b[0;34m*\u001b[0m\u001b[0margs\u001b[0m\u001b[0;34m,\u001b[0m \u001b[0;34m**\u001b[0m\u001b[0mkwargs\u001b[0m\u001b[0;34m)\u001b[0m\u001b[0;34m:\u001b[0m\u001b[0;34m\u001b[0m\u001b[0;34m\u001b[0m\u001b[0m\n\u001b[1;32m     65\u001b[0m     \u001b[0;32mif\u001b[0m \u001b[0;32mnot\u001b[0m \u001b[0mself\u001b[0m\u001b[0;34m.\u001b[0m\u001b[0m_in_multi_worker_mode\u001b[0m\u001b[0;34m(\u001b[0m\u001b[0;34m)\u001b[0m\u001b[0;34m:\u001b[0m  \u001b[0;31m# pylint: disable=protected-access\u001b[0m\u001b[0;34m\u001b[0m\u001b[0;34m\u001b[0m\u001b[0m\n\u001b[0;32m---> 66\u001b[0;31m       \u001b[0;32mreturn\u001b[0m \u001b[0mmethod\u001b[0m\u001b[0;34m(\u001b[0m\u001b[0mself\u001b[0m\u001b[0;34m,\u001b[0m \u001b[0;34m*\u001b[0m\u001b[0margs\u001b[0m\u001b[0;34m,\u001b[0m \u001b[0;34m**\u001b[0m\u001b[0mkwargs\u001b[0m\u001b[0;34m)\u001b[0m\u001b[0;34m\u001b[0m\u001b[0;34m\u001b[0m\u001b[0m\n\u001b[0m\u001b[1;32m     67\u001b[0m \u001b[0;34m\u001b[0m\u001b[0m\n\u001b[1;32m     68\u001b[0m     \u001b[0;31m# Running inside `run_distribute_coordinator` already.\u001b[0m\u001b[0;34m\u001b[0m\u001b[0;34m\u001b[0m\u001b[0;34m\u001b[0m\u001b[0m\n",
      "\u001b[0;32m/usr/local/lib/python3.6/dist-packages/tensorflow/python/keras/engine/training.py\u001b[0m in \u001b[0;36mfit\u001b[0;34m(self, x, y, batch_size, epochs, verbose, callbacks, validation_split, validation_data, shuffle, class_weight, sample_weight, initial_epoch, steps_per_epoch, validation_steps, validation_batch_size, validation_freq, max_queue_size, workers, use_multiprocessing)\u001b[0m\n\u001b[1;32m    846\u001b[0m                 batch_size=batch_size):\n\u001b[1;32m    847\u001b[0m               \u001b[0mcallbacks\u001b[0m\u001b[0;34m.\u001b[0m\u001b[0mon_train_batch_begin\u001b[0m\u001b[0;34m(\u001b[0m\u001b[0mstep\u001b[0m\u001b[0;34m)\u001b[0m\u001b[0;34m\u001b[0m\u001b[0;34m\u001b[0m\u001b[0m\n\u001b[0;32m--> 848\u001b[0;31m               \u001b[0mtmp_logs\u001b[0m \u001b[0;34m=\u001b[0m \u001b[0mtrain_function\u001b[0m\u001b[0;34m(\u001b[0m\u001b[0miterator\u001b[0m\u001b[0;34m)\u001b[0m\u001b[0;34m\u001b[0m\u001b[0;34m\u001b[0m\u001b[0m\n\u001b[0m\u001b[1;32m    849\u001b[0m               \u001b[0;31m# Catch OutOfRangeError for Datasets of unknown size.\u001b[0m\u001b[0;34m\u001b[0m\u001b[0;34m\u001b[0m\u001b[0;34m\u001b[0m\u001b[0m\n\u001b[1;32m    850\u001b[0m               \u001b[0;31m# This blocks until the batch has finished executing.\u001b[0m\u001b[0;34m\u001b[0m\u001b[0;34m\u001b[0m\u001b[0;34m\u001b[0m\u001b[0m\n",
      "\u001b[0;32m/usr/local/lib/python3.6/dist-packages/tensorflow/python/eager/def_function.py\u001b[0m in \u001b[0;36m__call__\u001b[0;34m(self, *args, **kwds)\u001b[0m\n\u001b[1;32m    578\u001b[0m         \u001b[0mxla_context\u001b[0m\u001b[0;34m.\u001b[0m\u001b[0mExit\u001b[0m\u001b[0;34m(\u001b[0m\u001b[0;34m)\u001b[0m\u001b[0;34m\u001b[0m\u001b[0;34m\u001b[0m\u001b[0m\n\u001b[1;32m    579\u001b[0m     \u001b[0;32melse\u001b[0m\u001b[0;34m:\u001b[0m\u001b[0;34m\u001b[0m\u001b[0;34m\u001b[0m\u001b[0m\n\u001b[0;32m--> 580\u001b[0;31m       \u001b[0mresult\u001b[0m \u001b[0;34m=\u001b[0m \u001b[0mself\u001b[0m\u001b[0;34m.\u001b[0m\u001b[0m_call\u001b[0m\u001b[0;34m(\u001b[0m\u001b[0;34m*\u001b[0m\u001b[0margs\u001b[0m\u001b[0;34m,\u001b[0m \u001b[0;34m**\u001b[0m\u001b[0mkwds\u001b[0m\u001b[0;34m)\u001b[0m\u001b[0;34m\u001b[0m\u001b[0;34m\u001b[0m\u001b[0m\n\u001b[0m\u001b[1;32m    581\u001b[0m \u001b[0;34m\u001b[0m\u001b[0m\n\u001b[1;32m    582\u001b[0m     \u001b[0;32mif\u001b[0m \u001b[0mtracing_count\u001b[0m \u001b[0;34m==\u001b[0m \u001b[0mself\u001b[0m\u001b[0;34m.\u001b[0m\u001b[0m_get_tracing_count\u001b[0m\u001b[0;34m(\u001b[0m\u001b[0;34m)\u001b[0m\u001b[0;34m:\u001b[0m\u001b[0;34m\u001b[0m\u001b[0;34m\u001b[0m\u001b[0m\n",
      "\u001b[0;32m/usr/local/lib/python3.6/dist-packages/tensorflow/python/eager/def_function.py\u001b[0m in \u001b[0;36m_call\u001b[0;34m(self, *args, **kwds)\u001b[0m\n\u001b[1;32m    609\u001b[0m       \u001b[0;31m# In this case we have created variables on the first call, so we run the\u001b[0m\u001b[0;34m\u001b[0m\u001b[0;34m\u001b[0m\u001b[0;34m\u001b[0m\u001b[0m\n\u001b[1;32m    610\u001b[0m       \u001b[0;31m# defunned version which is guaranteed to never create variables.\u001b[0m\u001b[0;34m\u001b[0m\u001b[0;34m\u001b[0m\u001b[0;34m\u001b[0m\u001b[0m\n\u001b[0;32m--> 611\u001b[0;31m       \u001b[0;32mreturn\u001b[0m \u001b[0mself\u001b[0m\u001b[0;34m.\u001b[0m\u001b[0m_stateless_fn\u001b[0m\u001b[0;34m(\u001b[0m\u001b[0;34m*\u001b[0m\u001b[0margs\u001b[0m\u001b[0;34m,\u001b[0m \u001b[0;34m**\u001b[0m\u001b[0mkwds\u001b[0m\u001b[0;34m)\u001b[0m  \u001b[0;31m# pylint: disable=not-callable\u001b[0m\u001b[0;34m\u001b[0m\u001b[0;34m\u001b[0m\u001b[0m\n\u001b[0m\u001b[1;32m    612\u001b[0m     \u001b[0;32melif\u001b[0m \u001b[0mself\u001b[0m\u001b[0;34m.\u001b[0m\u001b[0m_stateful_fn\u001b[0m \u001b[0;32mis\u001b[0m \u001b[0;32mnot\u001b[0m \u001b[0;32mNone\u001b[0m\u001b[0;34m:\u001b[0m\u001b[0;34m\u001b[0m\u001b[0;34m\u001b[0m\u001b[0m\n\u001b[1;32m    613\u001b[0m       \u001b[0;31m# Release the lock early so that multiple threads can perform the call\u001b[0m\u001b[0;34m\u001b[0m\u001b[0;34m\u001b[0m\u001b[0;34m\u001b[0m\u001b[0m\n",
      "\u001b[0;32m/usr/local/lib/python3.6/dist-packages/tensorflow/python/eager/function.py\u001b[0m in \u001b[0;36m__call__\u001b[0;34m(self, *args, **kwargs)\u001b[0m\n\u001b[1;32m   2418\u001b[0m     \u001b[0;32mwith\u001b[0m \u001b[0mself\u001b[0m\u001b[0;34m.\u001b[0m\u001b[0m_lock\u001b[0m\u001b[0;34m:\u001b[0m\u001b[0;34m\u001b[0m\u001b[0;34m\u001b[0m\u001b[0m\n\u001b[1;32m   2419\u001b[0m       \u001b[0mgraph_function\u001b[0m\u001b[0;34m,\u001b[0m \u001b[0margs\u001b[0m\u001b[0;34m,\u001b[0m \u001b[0mkwargs\u001b[0m \u001b[0;34m=\u001b[0m \u001b[0mself\u001b[0m\u001b[0;34m.\u001b[0m\u001b[0m_maybe_define_function\u001b[0m\u001b[0;34m(\u001b[0m\u001b[0margs\u001b[0m\u001b[0;34m,\u001b[0m \u001b[0mkwargs\u001b[0m\u001b[0;34m)\u001b[0m\u001b[0;34m\u001b[0m\u001b[0;34m\u001b[0m\u001b[0m\n\u001b[0;32m-> 2420\u001b[0;31m     \u001b[0;32mreturn\u001b[0m \u001b[0mgraph_function\u001b[0m\u001b[0;34m.\u001b[0m\u001b[0m_filtered_call\u001b[0m\u001b[0;34m(\u001b[0m\u001b[0margs\u001b[0m\u001b[0;34m,\u001b[0m \u001b[0mkwargs\u001b[0m\u001b[0;34m)\u001b[0m  \u001b[0;31m# pylint: disable=protected-access\u001b[0m\u001b[0;34m\u001b[0m\u001b[0;34m\u001b[0m\u001b[0m\n\u001b[0m\u001b[1;32m   2421\u001b[0m \u001b[0;34m\u001b[0m\u001b[0m\n\u001b[1;32m   2422\u001b[0m   \u001b[0;34m@\u001b[0m\u001b[0mproperty\u001b[0m\u001b[0;34m\u001b[0m\u001b[0;34m\u001b[0m\u001b[0m\n",
      "\u001b[0;32m/usr/local/lib/python3.6/dist-packages/tensorflow/python/eager/function.py\u001b[0m in \u001b[0;36m_filtered_call\u001b[0;34m(self, args, kwargs)\u001b[0m\n\u001b[1;32m   1663\u001b[0m          if isinstance(t, (ops.Tensor,\n\u001b[1;32m   1664\u001b[0m                            resource_variable_ops.BaseResourceVariable))),\n\u001b[0;32m-> 1665\u001b[0;31m         self.captured_inputs)\n\u001b[0m\u001b[1;32m   1666\u001b[0m \u001b[0;34m\u001b[0m\u001b[0m\n\u001b[1;32m   1667\u001b[0m   \u001b[0;32mdef\u001b[0m \u001b[0m_call_flat\u001b[0m\u001b[0;34m(\u001b[0m\u001b[0mself\u001b[0m\u001b[0;34m,\u001b[0m \u001b[0margs\u001b[0m\u001b[0;34m,\u001b[0m \u001b[0mcaptured_inputs\u001b[0m\u001b[0;34m,\u001b[0m \u001b[0mcancellation_manager\u001b[0m\u001b[0;34m=\u001b[0m\u001b[0;32mNone\u001b[0m\u001b[0;34m)\u001b[0m\u001b[0;34m:\u001b[0m\u001b[0;34m\u001b[0m\u001b[0;34m\u001b[0m\u001b[0m\n",
      "\u001b[0;32m/usr/local/lib/python3.6/dist-packages/tensorflow/python/eager/function.py\u001b[0m in \u001b[0;36m_call_flat\u001b[0;34m(self, args, captured_inputs, cancellation_manager)\u001b[0m\n\u001b[1;32m   1744\u001b[0m       \u001b[0;31m# No tape is watching; skip to running the function.\u001b[0m\u001b[0;34m\u001b[0m\u001b[0;34m\u001b[0m\u001b[0;34m\u001b[0m\u001b[0m\n\u001b[1;32m   1745\u001b[0m       return self._build_call_outputs(self._inference_function.call(\n\u001b[0;32m-> 1746\u001b[0;31m           ctx, args, cancellation_manager=cancellation_manager))\n\u001b[0m\u001b[1;32m   1747\u001b[0m     forward_backward = self._select_forward_and_backward_functions(\n\u001b[1;32m   1748\u001b[0m         \u001b[0margs\u001b[0m\u001b[0;34m,\u001b[0m\u001b[0;34m\u001b[0m\u001b[0;34m\u001b[0m\u001b[0m\n",
      "\u001b[0;32m/usr/local/lib/python3.6/dist-packages/tensorflow/python/eager/function.py\u001b[0m in \u001b[0;36mcall\u001b[0;34m(self, ctx, args, cancellation_manager)\u001b[0m\n\u001b[1;32m    596\u001b[0m               \u001b[0minputs\u001b[0m\u001b[0;34m=\u001b[0m\u001b[0margs\u001b[0m\u001b[0;34m,\u001b[0m\u001b[0;34m\u001b[0m\u001b[0;34m\u001b[0m\u001b[0m\n\u001b[1;32m    597\u001b[0m               \u001b[0mattrs\u001b[0m\u001b[0;34m=\u001b[0m\u001b[0mattrs\u001b[0m\u001b[0;34m,\u001b[0m\u001b[0;34m\u001b[0m\u001b[0;34m\u001b[0m\u001b[0m\n\u001b[0;32m--> 598\u001b[0;31m               ctx=ctx)\n\u001b[0m\u001b[1;32m    599\u001b[0m         \u001b[0;32melse\u001b[0m\u001b[0;34m:\u001b[0m\u001b[0;34m\u001b[0m\u001b[0;34m\u001b[0m\u001b[0m\n\u001b[1;32m    600\u001b[0m           outputs = execute.execute_with_cancellation(\n",
      "\u001b[0;32m/usr/local/lib/python3.6/dist-packages/tensorflow/python/eager/execute.py\u001b[0m in \u001b[0;36mquick_execute\u001b[0;34m(op_name, num_outputs, inputs, attrs, ctx, name)\u001b[0m\n\u001b[1;32m     58\u001b[0m     \u001b[0mctx\u001b[0m\u001b[0;34m.\u001b[0m\u001b[0mensure_initialized\u001b[0m\u001b[0;34m(\u001b[0m\u001b[0;34m)\u001b[0m\u001b[0;34m\u001b[0m\u001b[0;34m\u001b[0m\u001b[0m\n\u001b[1;32m     59\u001b[0m     tensors = pywrap_tfe.TFE_Py_Execute(ctx._handle, device_name, op_name,\n\u001b[0;32m---> 60\u001b[0;31m                                         inputs, attrs, num_outputs)\n\u001b[0m\u001b[1;32m     61\u001b[0m   \u001b[0;32mexcept\u001b[0m \u001b[0mcore\u001b[0m\u001b[0;34m.\u001b[0m\u001b[0m_NotOkStatusException\u001b[0m \u001b[0;32mas\u001b[0m \u001b[0me\u001b[0m\u001b[0;34m:\u001b[0m\u001b[0;34m\u001b[0m\u001b[0;34m\u001b[0m\u001b[0m\n\u001b[1;32m     62\u001b[0m     \u001b[0;32mif\u001b[0m \u001b[0mname\u001b[0m \u001b[0;32mis\u001b[0m \u001b[0;32mnot\u001b[0m \u001b[0;32mNone\u001b[0m\u001b[0;34m:\u001b[0m\u001b[0;34m\u001b[0m\u001b[0;34m\u001b[0m\u001b[0m\n",
      "\u001b[0;31mKeyboardInterrupt\u001b[0m: "
     ]
    }
   ],
   "source": [
    "history = model2.fit_generator(\n",
    "    train_data_generator,\n",
    "    epochs = 100,\n",
    "    validation_data=val_data_generator,\n",
    "    verbose=1)"
   ]
  },
  {
   "cell_type": "code",
   "execution_count": null,
   "metadata": {
    "colab": {
     "base_uri": "https://localhost:8080/",
     "height": 1000
    },
    "colab_type": "code",
    "id": "MHxHgXdVetQj",
    "outputId": "b265dd85-cf24-4b65-c722-37ccce7d3687"
   },
   "outputs": [
    {
     "name": "stdout",
     "output_type": "stream",
     "text": [
      "Epoch 1/100\n",
      "43/43 [==============================] - 19s 435ms/step - loss: 4.3086 - accuracy: 0.3968 - val_loss: 2.4382 - val_accuracy: 0.2708\n",
      "Epoch 2/100\n",
      "43/43 [==============================] - 18s 429ms/step - loss: 1.5060 - accuracy: 0.4230 - val_loss: 3.5699 - val_accuracy: 0.3403\n",
      "Epoch 3/100\n",
      "43/43 [==============================] - 19s 437ms/step - loss: 1.2858 - accuracy: 0.4084 - val_loss: 3.0070 - val_accuracy: 0.3681\n",
      "Epoch 4/100\n",
      "43/43 [==============================] - 19s 435ms/step - loss: 1.1192 - accuracy: 0.3939 - val_loss: 2.5505 - val_accuracy: 0.4236\n",
      "Epoch 5/100\n",
      "43/43 [==============================] - 19s 433ms/step - loss: 1.1035 - accuracy: 0.4084 - val_loss: 1.5280 - val_accuracy: 0.4514\n",
      "Epoch 6/100\n",
      "43/43 [==============================] - 18s 429ms/step - loss: 1.0954 - accuracy: 0.4360 - val_loss: 1.3032 - val_accuracy: 0.4792\n",
      "Epoch 7/100\n",
      "43/43 [==============================] - 19s 432ms/step - loss: 1.0667 - accuracy: 0.4273 - val_loss: 1.4000 - val_accuracy: 0.4653\n",
      "Epoch 8/100\n",
      "43/43 [==============================] - 19s 432ms/step - loss: 1.0904 - accuracy: 0.4012 - val_loss: 1.1456 - val_accuracy: 0.5000\n",
      "Epoch 9/100\n",
      "43/43 [==============================] - 19s 433ms/step - loss: 1.0687 - accuracy: 0.4026 - val_loss: 1.1212 - val_accuracy: 0.4792\n",
      "Epoch 10/100\n",
      "43/43 [==============================] - 19s 432ms/step - loss: 1.0807 - accuracy: 0.4448 - val_loss: 1.1224 - val_accuracy: 0.3889\n",
      "Epoch 11/100\n",
      "43/43 [==============================] - 19s 435ms/step - loss: 1.0471 - accuracy: 0.4622 - val_loss: 1.1068 - val_accuracy: 0.4306\n",
      "Epoch 12/100\n",
      "43/43 [==============================] - 19s 435ms/step - loss: 1.0294 - accuracy: 0.4273 - val_loss: 1.0535 - val_accuracy: 0.4792\n",
      "Epoch 13/100\n",
      "43/43 [==============================] - 19s 431ms/step - loss: 1.0242 - accuracy: 0.4622 - val_loss: 1.1214 - val_accuracy: 0.4514\n",
      "Epoch 14/100\n",
      "43/43 [==============================] - 19s 431ms/step - loss: 1.0288 - accuracy: 0.4578 - val_loss: 1.0429 - val_accuracy: 0.4583\n",
      "Epoch 15/100\n",
      "43/43 [==============================] - 19s 431ms/step - loss: 1.0580 - accuracy: 0.4520 - val_loss: 1.0649 - val_accuracy: 0.4792\n",
      "Epoch 16/100\n",
      "43/43 [==============================] - 19s 431ms/step - loss: 1.0450 - accuracy: 0.4390 - val_loss: 1.0610 - val_accuracy: 0.4861\n",
      "Epoch 17/100\n",
      "43/43 [==============================] - 19s 432ms/step - loss: 1.0176 - accuracy: 0.4578 - val_loss: 0.9901 - val_accuracy: 0.5556\n",
      "Epoch 18/100\n",
      "43/43 [==============================] - 19s 431ms/step - loss: 1.0640 - accuracy: 0.4535 - val_loss: 1.0824 - val_accuracy: 0.5347\n",
      "Epoch 19/100\n",
      "43/43 [==============================] - 18s 430ms/step - loss: 1.1021 - accuracy: 0.3997 - val_loss: 1.0885 - val_accuracy: 0.4167\n",
      "Epoch 20/100\n",
      "43/43 [==============================] - 19s 431ms/step - loss: 1.0417 - accuracy: 0.4578 - val_loss: 1.0573 - val_accuracy: 0.5347\n",
      "Epoch 21/100\n",
      "43/43 [==============================] - 19s 437ms/step - loss: 1.0204 - accuracy: 0.4201 - val_loss: 1.1550 - val_accuracy: 0.4444\n",
      "Epoch 22/100\n",
      "43/43 [==============================] - 19s 436ms/step - loss: 1.0323 - accuracy: 0.4578 - val_loss: 1.2706 - val_accuracy: 0.5278\n",
      "Epoch 23/100\n",
      "43/43 [==============================] - 19s 436ms/step - loss: 1.0593 - accuracy: 0.4535 - val_loss: 1.0063 - val_accuracy: 0.5069\n",
      "Epoch 24/100\n",
      "43/43 [==============================] - 19s 434ms/step - loss: 1.0309 - accuracy: 0.4608 - val_loss: 1.2431 - val_accuracy: 0.5208\n",
      "Epoch 25/100\n",
      "43/43 [==============================] - 19s 432ms/step - loss: 0.9997 - accuracy: 0.4549 - val_loss: 1.0210 - val_accuracy: 0.5208\n",
      "Epoch 26/100\n",
      "43/43 [==============================] - 19s 433ms/step - loss: 0.9886 - accuracy: 0.4608 - val_loss: 1.0790 - val_accuracy: 0.5486\n",
      "Epoch 27/100\n",
      "43/43 [==============================] - 19s 433ms/step - loss: 0.9952 - accuracy: 0.4971 - val_loss: 1.0452 - val_accuracy: 0.5139\n",
      "Epoch 28/100\n",
      "43/43 [==============================] - 19s 439ms/step - loss: 1.0003 - accuracy: 0.4695 - val_loss: 0.9665 - val_accuracy: 0.5625\n",
      "Epoch 29/100\n",
      "43/43 [==============================] - 19s 434ms/step - loss: 0.9671 - accuracy: 0.5203 - val_loss: 0.9456 - val_accuracy: 0.6111\n",
      "Epoch 30/100\n",
      "43/43 [==============================] - 19s 432ms/step - loss: 0.9822 - accuracy: 0.4942 - val_loss: 1.1555 - val_accuracy: 0.5417\n",
      "Epoch 31/100\n",
      "43/43 [==============================] - 18s 428ms/step - loss: 0.9926 - accuracy: 0.5058 - val_loss: 0.9640 - val_accuracy: 0.5208\n",
      "Epoch 32/100\n",
      "43/43 [==============================] - 18s 430ms/step - loss: 0.9912 - accuracy: 0.4971 - val_loss: 1.0963 - val_accuracy: 0.4792\n",
      "Epoch 33/100\n",
      "43/43 [==============================] - 18s 423ms/step - loss: 0.9559 - accuracy: 0.5073 - val_loss: 1.2235 - val_accuracy: 0.5625\n",
      "Epoch 34/100\n",
      "43/43 [==============================] - 18s 425ms/step - loss: 0.9740 - accuracy: 0.5203 - val_loss: 1.2593 - val_accuracy: 0.4931\n",
      "Epoch 35/100\n",
      "43/43 [==============================] - 18s 421ms/step - loss: 0.9409 - accuracy: 0.5247 - val_loss: 1.1009 - val_accuracy: 0.5278\n",
      "Epoch 36/100\n",
      "43/43 [==============================] - 18s 418ms/step - loss: 0.9988 - accuracy: 0.4869 - val_loss: 1.3398 - val_accuracy: 0.4722\n",
      "Epoch 37/100\n",
      "43/43 [==============================] - 18s 423ms/step - loss: 0.9964 - accuracy: 0.5044 - val_loss: 1.2239 - val_accuracy: 0.5000\n",
      "Epoch 38/100\n",
      "43/43 [==============================] - 18s 420ms/step - loss: 0.9957 - accuracy: 0.4971 - val_loss: 1.0378 - val_accuracy: 0.5139\n",
      "Epoch 39/100\n",
      "43/43 [==============================] - 18s 424ms/step - loss: 0.9695 - accuracy: 0.5087 - val_loss: 1.1158 - val_accuracy: 0.5347\n",
      "Epoch 40/100\n",
      "43/43 [==============================] - 18s 424ms/step - loss: 0.9677 - accuracy: 0.5058 - val_loss: 1.0363 - val_accuracy: 0.5278\n",
      "Epoch 41/100\n",
      "43/43 [==============================] - 18s 423ms/step - loss: 0.9723 - accuracy: 0.5102 - val_loss: 0.9976 - val_accuracy: 0.5625\n",
      "Epoch 42/100\n",
      "43/43 [==============================] - 18s 425ms/step - loss: 0.9452 - accuracy: 0.5174 - val_loss: 1.0316 - val_accuracy: 0.5139\n",
      "Epoch 43/100\n",
      "43/43 [==============================] - 18s 423ms/step - loss: 0.9380 - accuracy: 0.5262 - val_loss: 1.0143 - val_accuracy: 0.5486\n",
      "Epoch 44/100\n",
      "43/43 [==============================] - 18s 429ms/step - loss: 0.9930 - accuracy: 0.4927 - val_loss: 1.1023 - val_accuracy: 0.5000\n",
      "Epoch 45/100\n",
      "43/43 [==============================] - 18s 426ms/step - loss: 0.9835 - accuracy: 0.5087 - val_loss: 1.1261 - val_accuracy: 0.5625\n",
      "Epoch 46/100\n",
      "43/43 [==============================] - 18s 428ms/step - loss: 0.9659 - accuracy: 0.4913 - val_loss: 1.1441 - val_accuracy: 0.5903\n",
      "Epoch 47/100\n",
      "43/43 [==============================] - 18s 426ms/step - loss: 0.9909 - accuracy: 0.5029 - val_loss: 1.1343 - val_accuracy: 0.5139\n",
      "Epoch 48/100\n",
      "43/43 [==============================] - 18s 426ms/step - loss: 0.9883 - accuracy: 0.4884 - val_loss: 1.2253 - val_accuracy: 0.4792\n",
      "Epoch 49/100\n",
      "43/43 [==============================] - 18s 426ms/step - loss: 0.9489 - accuracy: 0.5087 - val_loss: 1.2374 - val_accuracy: 0.4722\n",
      "Epoch 50/100\n",
      "43/43 [==============================] - 18s 425ms/step - loss: 0.9611 - accuracy: 0.4985 - val_loss: 1.0274 - val_accuracy: 0.5972\n",
      "Epoch 51/100\n",
      "43/43 [==============================] - 18s 426ms/step - loss: 0.9869 - accuracy: 0.5044 - val_loss: 1.0175 - val_accuracy: 0.5208\n",
      "Epoch 52/100\n",
      "43/43 [==============================] - 18s 427ms/step - loss: 1.0194 - accuracy: 0.4782 - val_loss: 1.0639 - val_accuracy: 0.5208\n",
      "Epoch 53/100\n",
      "43/43 [==============================] - 18s 429ms/step - loss: 0.9496 - accuracy: 0.5160 - val_loss: 1.0347 - val_accuracy: 0.5069\n",
      "Epoch 54/100\n",
      "43/43 [==============================] - 18s 428ms/step - loss: 0.9751 - accuracy: 0.4971 - val_loss: 1.0596 - val_accuracy: 0.5069\n",
      "Epoch 55/100\n",
      "43/43 [==============================] - 18s 426ms/step - loss: 0.9300 - accuracy: 0.5334 - val_loss: 1.0319 - val_accuracy: 0.5417\n",
      "Epoch 56/100\n",
      "43/43 [==============================] - 18s 427ms/step - loss: 0.9200 - accuracy: 0.5262 - val_loss: 0.9971 - val_accuracy: 0.5972\n",
      "Epoch 57/100\n",
      "43/43 [==============================] - 18s 426ms/step - loss: 0.9533 - accuracy: 0.5247 - val_loss: 1.0600 - val_accuracy: 0.5625\n",
      "Epoch 58/100\n",
      "43/43 [==============================] - 18s 426ms/step - loss: 0.9677 - accuracy: 0.4942 - val_loss: 1.3974 - val_accuracy: 0.4792\n",
      "Epoch 59/100\n",
      "43/43 [==============================] - 18s 426ms/step - loss: 0.9622 - accuracy: 0.5233 - val_loss: 1.0770 - val_accuracy: 0.4931\n",
      "Epoch 60/100\n",
      "43/43 [==============================] - 18s 424ms/step - loss: 0.9361 - accuracy: 0.5116 - val_loss: 1.0411 - val_accuracy: 0.6042\n",
      "Epoch 61/100\n",
      "43/43 [==============================] - 19s 432ms/step - loss: 0.9021 - accuracy: 0.5407 - val_loss: 0.9832 - val_accuracy: 0.5903\n",
      "Epoch 62/100\n",
      "43/43 [==============================] - 18s 425ms/step - loss: 0.9371 - accuracy: 0.5305 - val_loss: 1.0386 - val_accuracy: 0.5694\n",
      "Epoch 63/100\n",
      "43/43 [==============================] - 18s 428ms/step - loss: 0.9417 - accuracy: 0.5422 - val_loss: 0.9160 - val_accuracy: 0.6319\n",
      "Epoch 64/100\n",
      "43/43 [==============================] - 18s 426ms/step - loss: 0.9454 - accuracy: 0.5392 - val_loss: 1.0061 - val_accuracy: 0.5139\n",
      "Epoch 65/100\n",
      "43/43 [==============================] - 18s 426ms/step - loss: 0.8886 - accuracy: 0.5436 - val_loss: 1.1518 - val_accuracy: 0.5764\n",
      "Epoch 66/100\n",
      "43/43 [==============================] - 18s 427ms/step - loss: 0.9166 - accuracy: 0.5552 - val_loss: 0.9867 - val_accuracy: 0.5417\n",
      "Epoch 67/100\n",
      "43/43 [==============================] - 18s 424ms/step - loss: 0.8827 - accuracy: 0.5392 - val_loss: 1.2309 - val_accuracy: 0.5417\n",
      "Epoch 68/100\n",
      "43/43 [==============================] - 18s 421ms/step - loss: 0.9494 - accuracy: 0.5320 - val_loss: 1.3834 - val_accuracy: 0.5556\n",
      "Epoch 69/100\n",
      "43/43 [==============================] - 18s 424ms/step - loss: 0.9556 - accuracy: 0.5320 - val_loss: 1.0406 - val_accuracy: 0.5486\n",
      "Epoch 70/100\n",
      "43/43 [==============================] - 18s 421ms/step - loss: 0.9133 - accuracy: 0.5480 - val_loss: 1.4276 - val_accuracy: 0.5486\n",
      "Epoch 71/100\n",
      "43/43 [==============================] - 18s 424ms/step - loss: 0.8929 - accuracy: 0.5407 - val_loss: 1.0609 - val_accuracy: 0.5764\n",
      "Epoch 72/100\n",
      "43/43 [==============================] - 18s 423ms/step - loss: 0.9185 - accuracy: 0.5480 - val_loss: 1.3259 - val_accuracy: 0.5486\n",
      "Epoch 73/100\n",
      "43/43 [==============================] - 18s 423ms/step - loss: 0.9362 - accuracy: 0.5392 - val_loss: 1.2634 - val_accuracy: 0.4514\n",
      "Epoch 74/100\n",
      "43/43 [==============================] - 18s 424ms/step - loss: 0.9309 - accuracy: 0.5247 - val_loss: 1.2004 - val_accuracy: 0.5764\n",
      "Epoch 75/100\n",
      "43/43 [==============================] - 18s 422ms/step - loss: 0.8876 - accuracy: 0.5465 - val_loss: 1.2291 - val_accuracy: 0.5208\n",
      "Epoch 76/100\n",
      "23/43 [===============>..............] - ETA: 8s - loss: 0.9324 - accuracy: 0.5272"
     ]
    },
    {
     "ename": "KeyboardInterrupt",
     "evalue": "ignored",
     "output_type": "error",
     "traceback": [
      "\u001b[0;31m---------------------------------------------------------------------------\u001b[0m",
      "\u001b[0;31mKeyboardInterrupt\u001b[0m                         Traceback (most recent call last)",
      "\u001b[0;32m<ipython-input-42-e12558ec72f7>\u001b[0m in \u001b[0;36m<module>\u001b[0;34m()\u001b[0m\n\u001b[1;32m      6\u001b[0m     \u001b[0mepochs\u001b[0m \u001b[0;34m=\u001b[0m \u001b[0;36m100\u001b[0m\u001b[0;34m,\u001b[0m\u001b[0;34m\u001b[0m\u001b[0;34m\u001b[0m\u001b[0m\n\u001b[1;32m      7\u001b[0m     \u001b[0mvalidation_data\u001b[0m\u001b[0;34m=\u001b[0m\u001b[0mval_data_generator\u001b[0m\u001b[0;34m,\u001b[0m\u001b[0;34m\u001b[0m\u001b[0;34m\u001b[0m\u001b[0m\n\u001b[0;32m----> 8\u001b[0;31m     verbose=1)\n\u001b[0m",
      "\u001b[0;32m/usr/local/lib/python3.6/dist-packages/tensorflow/python/util/deprecation.py\u001b[0m in \u001b[0;36mnew_func\u001b[0;34m(*args, **kwargs)\u001b[0m\n\u001b[1;32m    322\u001b[0m               \u001b[0;34m'in a future version'\u001b[0m \u001b[0;32mif\u001b[0m \u001b[0mdate\u001b[0m \u001b[0;32mis\u001b[0m \u001b[0;32mNone\u001b[0m \u001b[0;32melse\u001b[0m \u001b[0;34m(\u001b[0m\u001b[0;34m'after %s'\u001b[0m \u001b[0;34m%\u001b[0m \u001b[0mdate\u001b[0m\u001b[0;34m)\u001b[0m\u001b[0;34m,\u001b[0m\u001b[0;34m\u001b[0m\u001b[0;34m\u001b[0m\u001b[0m\n\u001b[1;32m    323\u001b[0m               instructions)\n\u001b[0;32m--> 324\u001b[0;31m       \u001b[0;32mreturn\u001b[0m \u001b[0mfunc\u001b[0m\u001b[0;34m(\u001b[0m\u001b[0;34m*\u001b[0m\u001b[0margs\u001b[0m\u001b[0;34m,\u001b[0m \u001b[0;34m**\u001b[0m\u001b[0mkwargs\u001b[0m\u001b[0;34m)\u001b[0m\u001b[0;34m\u001b[0m\u001b[0;34m\u001b[0m\u001b[0m\n\u001b[0m\u001b[1;32m    325\u001b[0m     return tf_decorator.make_decorator(\n\u001b[1;32m    326\u001b[0m         \u001b[0mfunc\u001b[0m\u001b[0;34m,\u001b[0m \u001b[0mnew_func\u001b[0m\u001b[0;34m,\u001b[0m \u001b[0;34m'deprecated'\u001b[0m\u001b[0;34m,\u001b[0m\u001b[0;34m\u001b[0m\u001b[0;34m\u001b[0m\u001b[0m\n",
      "\u001b[0;32m/usr/local/lib/python3.6/dist-packages/tensorflow/python/keras/engine/training.py\u001b[0m in \u001b[0;36mfit_generator\u001b[0;34m(self, generator, steps_per_epoch, epochs, verbose, callbacks, validation_data, validation_steps, validation_freq, class_weight, max_queue_size, workers, use_multiprocessing, shuffle, initial_epoch)\u001b[0m\n\u001b[1;32m   1477\u001b[0m         \u001b[0muse_multiprocessing\u001b[0m\u001b[0;34m=\u001b[0m\u001b[0muse_multiprocessing\u001b[0m\u001b[0;34m,\u001b[0m\u001b[0;34m\u001b[0m\u001b[0;34m\u001b[0m\u001b[0m\n\u001b[1;32m   1478\u001b[0m         \u001b[0mshuffle\u001b[0m\u001b[0;34m=\u001b[0m\u001b[0mshuffle\u001b[0m\u001b[0;34m,\u001b[0m\u001b[0;34m\u001b[0m\u001b[0;34m\u001b[0m\u001b[0m\n\u001b[0;32m-> 1479\u001b[0;31m         initial_epoch=initial_epoch)\n\u001b[0m\u001b[1;32m   1480\u001b[0m \u001b[0;34m\u001b[0m\u001b[0m\n\u001b[1;32m   1481\u001b[0m   @deprecation.deprecated(\n",
      "\u001b[0;32m/usr/local/lib/python3.6/dist-packages/tensorflow/python/keras/engine/training.py\u001b[0m in \u001b[0;36m_method_wrapper\u001b[0;34m(self, *args, **kwargs)\u001b[0m\n\u001b[1;32m     64\u001b[0m   \u001b[0;32mdef\u001b[0m \u001b[0m_method_wrapper\u001b[0m\u001b[0;34m(\u001b[0m\u001b[0mself\u001b[0m\u001b[0;34m,\u001b[0m \u001b[0;34m*\u001b[0m\u001b[0margs\u001b[0m\u001b[0;34m,\u001b[0m \u001b[0;34m**\u001b[0m\u001b[0mkwargs\u001b[0m\u001b[0;34m)\u001b[0m\u001b[0;34m:\u001b[0m\u001b[0;34m\u001b[0m\u001b[0;34m\u001b[0m\u001b[0m\n\u001b[1;32m     65\u001b[0m     \u001b[0;32mif\u001b[0m \u001b[0;32mnot\u001b[0m \u001b[0mself\u001b[0m\u001b[0;34m.\u001b[0m\u001b[0m_in_multi_worker_mode\u001b[0m\u001b[0;34m(\u001b[0m\u001b[0;34m)\u001b[0m\u001b[0;34m:\u001b[0m  \u001b[0;31m# pylint: disable=protected-access\u001b[0m\u001b[0;34m\u001b[0m\u001b[0;34m\u001b[0m\u001b[0m\n\u001b[0;32m---> 66\u001b[0;31m       \u001b[0;32mreturn\u001b[0m \u001b[0mmethod\u001b[0m\u001b[0;34m(\u001b[0m\u001b[0mself\u001b[0m\u001b[0;34m,\u001b[0m \u001b[0;34m*\u001b[0m\u001b[0margs\u001b[0m\u001b[0;34m,\u001b[0m \u001b[0;34m**\u001b[0m\u001b[0mkwargs\u001b[0m\u001b[0;34m)\u001b[0m\u001b[0;34m\u001b[0m\u001b[0;34m\u001b[0m\u001b[0m\n\u001b[0m\u001b[1;32m     67\u001b[0m \u001b[0;34m\u001b[0m\u001b[0m\n\u001b[1;32m     68\u001b[0m     \u001b[0;31m# Running inside `run_distribute_coordinator` already.\u001b[0m\u001b[0;34m\u001b[0m\u001b[0;34m\u001b[0m\u001b[0;34m\u001b[0m\u001b[0m\n",
      "\u001b[0;32m/usr/local/lib/python3.6/dist-packages/tensorflow/python/keras/engine/training.py\u001b[0m in \u001b[0;36mfit\u001b[0;34m(self, x, y, batch_size, epochs, verbose, callbacks, validation_split, validation_data, shuffle, class_weight, sample_weight, initial_epoch, steps_per_epoch, validation_steps, validation_batch_size, validation_freq, max_queue_size, workers, use_multiprocessing)\u001b[0m\n\u001b[1;32m    846\u001b[0m                 batch_size=batch_size):\n\u001b[1;32m    847\u001b[0m               \u001b[0mcallbacks\u001b[0m\u001b[0;34m.\u001b[0m\u001b[0mon_train_batch_begin\u001b[0m\u001b[0;34m(\u001b[0m\u001b[0mstep\u001b[0m\u001b[0;34m)\u001b[0m\u001b[0;34m\u001b[0m\u001b[0;34m\u001b[0m\u001b[0m\n\u001b[0;32m--> 848\u001b[0;31m               \u001b[0mtmp_logs\u001b[0m \u001b[0;34m=\u001b[0m \u001b[0mtrain_function\u001b[0m\u001b[0;34m(\u001b[0m\u001b[0miterator\u001b[0m\u001b[0;34m)\u001b[0m\u001b[0;34m\u001b[0m\u001b[0;34m\u001b[0m\u001b[0m\n\u001b[0m\u001b[1;32m    849\u001b[0m               \u001b[0;31m# Catch OutOfRangeError for Datasets of unknown size.\u001b[0m\u001b[0;34m\u001b[0m\u001b[0;34m\u001b[0m\u001b[0;34m\u001b[0m\u001b[0m\n\u001b[1;32m    850\u001b[0m               \u001b[0;31m# This blocks until the batch has finished executing.\u001b[0m\u001b[0;34m\u001b[0m\u001b[0;34m\u001b[0m\u001b[0;34m\u001b[0m\u001b[0m\n",
      "\u001b[0;32m/usr/local/lib/python3.6/dist-packages/tensorflow/python/eager/def_function.py\u001b[0m in \u001b[0;36m__call__\u001b[0;34m(self, *args, **kwds)\u001b[0m\n\u001b[1;32m    578\u001b[0m         \u001b[0mxla_context\u001b[0m\u001b[0;34m.\u001b[0m\u001b[0mExit\u001b[0m\u001b[0;34m(\u001b[0m\u001b[0;34m)\u001b[0m\u001b[0;34m\u001b[0m\u001b[0;34m\u001b[0m\u001b[0m\n\u001b[1;32m    579\u001b[0m     \u001b[0;32melse\u001b[0m\u001b[0;34m:\u001b[0m\u001b[0;34m\u001b[0m\u001b[0;34m\u001b[0m\u001b[0m\n\u001b[0;32m--> 580\u001b[0;31m       \u001b[0mresult\u001b[0m \u001b[0;34m=\u001b[0m \u001b[0mself\u001b[0m\u001b[0;34m.\u001b[0m\u001b[0m_call\u001b[0m\u001b[0;34m(\u001b[0m\u001b[0;34m*\u001b[0m\u001b[0margs\u001b[0m\u001b[0;34m,\u001b[0m \u001b[0;34m**\u001b[0m\u001b[0mkwds\u001b[0m\u001b[0;34m)\u001b[0m\u001b[0;34m\u001b[0m\u001b[0;34m\u001b[0m\u001b[0m\n\u001b[0m\u001b[1;32m    581\u001b[0m \u001b[0;34m\u001b[0m\u001b[0m\n\u001b[1;32m    582\u001b[0m     \u001b[0;32mif\u001b[0m \u001b[0mtracing_count\u001b[0m \u001b[0;34m==\u001b[0m \u001b[0mself\u001b[0m\u001b[0;34m.\u001b[0m\u001b[0m_get_tracing_count\u001b[0m\u001b[0;34m(\u001b[0m\u001b[0;34m)\u001b[0m\u001b[0;34m:\u001b[0m\u001b[0;34m\u001b[0m\u001b[0;34m\u001b[0m\u001b[0m\n",
      "\u001b[0;32m/usr/local/lib/python3.6/dist-packages/tensorflow/python/eager/def_function.py\u001b[0m in \u001b[0;36m_call\u001b[0;34m(self, *args, **kwds)\u001b[0m\n\u001b[1;32m    609\u001b[0m       \u001b[0;31m# In this case we have created variables on the first call, so we run the\u001b[0m\u001b[0;34m\u001b[0m\u001b[0;34m\u001b[0m\u001b[0;34m\u001b[0m\u001b[0m\n\u001b[1;32m    610\u001b[0m       \u001b[0;31m# defunned version which is guaranteed to never create variables.\u001b[0m\u001b[0;34m\u001b[0m\u001b[0;34m\u001b[0m\u001b[0;34m\u001b[0m\u001b[0m\n\u001b[0;32m--> 611\u001b[0;31m       \u001b[0;32mreturn\u001b[0m \u001b[0mself\u001b[0m\u001b[0;34m.\u001b[0m\u001b[0m_stateless_fn\u001b[0m\u001b[0;34m(\u001b[0m\u001b[0;34m*\u001b[0m\u001b[0margs\u001b[0m\u001b[0;34m,\u001b[0m \u001b[0;34m**\u001b[0m\u001b[0mkwds\u001b[0m\u001b[0;34m)\u001b[0m  \u001b[0;31m# pylint: disable=not-callable\u001b[0m\u001b[0;34m\u001b[0m\u001b[0;34m\u001b[0m\u001b[0m\n\u001b[0m\u001b[1;32m    612\u001b[0m     \u001b[0;32melif\u001b[0m \u001b[0mself\u001b[0m\u001b[0;34m.\u001b[0m\u001b[0m_stateful_fn\u001b[0m \u001b[0;32mis\u001b[0m \u001b[0;32mnot\u001b[0m \u001b[0;32mNone\u001b[0m\u001b[0;34m:\u001b[0m\u001b[0;34m\u001b[0m\u001b[0;34m\u001b[0m\u001b[0m\n\u001b[1;32m    613\u001b[0m       \u001b[0;31m# Release the lock early so that multiple threads can perform the call\u001b[0m\u001b[0;34m\u001b[0m\u001b[0;34m\u001b[0m\u001b[0;34m\u001b[0m\u001b[0m\n",
      "\u001b[0;32m/usr/local/lib/python3.6/dist-packages/tensorflow/python/eager/function.py\u001b[0m in \u001b[0;36m__call__\u001b[0;34m(self, *args, **kwargs)\u001b[0m\n\u001b[1;32m   2418\u001b[0m     \u001b[0;32mwith\u001b[0m \u001b[0mself\u001b[0m\u001b[0;34m.\u001b[0m\u001b[0m_lock\u001b[0m\u001b[0;34m:\u001b[0m\u001b[0;34m\u001b[0m\u001b[0;34m\u001b[0m\u001b[0m\n\u001b[1;32m   2419\u001b[0m       \u001b[0mgraph_function\u001b[0m\u001b[0;34m,\u001b[0m \u001b[0margs\u001b[0m\u001b[0;34m,\u001b[0m \u001b[0mkwargs\u001b[0m \u001b[0;34m=\u001b[0m \u001b[0mself\u001b[0m\u001b[0;34m.\u001b[0m\u001b[0m_maybe_define_function\u001b[0m\u001b[0;34m(\u001b[0m\u001b[0margs\u001b[0m\u001b[0;34m,\u001b[0m \u001b[0mkwargs\u001b[0m\u001b[0;34m)\u001b[0m\u001b[0;34m\u001b[0m\u001b[0;34m\u001b[0m\u001b[0m\n\u001b[0;32m-> 2420\u001b[0;31m     \u001b[0;32mreturn\u001b[0m \u001b[0mgraph_function\u001b[0m\u001b[0;34m.\u001b[0m\u001b[0m_filtered_call\u001b[0m\u001b[0;34m(\u001b[0m\u001b[0margs\u001b[0m\u001b[0;34m,\u001b[0m \u001b[0mkwargs\u001b[0m\u001b[0;34m)\u001b[0m  \u001b[0;31m# pylint: disable=protected-access\u001b[0m\u001b[0;34m\u001b[0m\u001b[0;34m\u001b[0m\u001b[0m\n\u001b[0m\u001b[1;32m   2421\u001b[0m \u001b[0;34m\u001b[0m\u001b[0m\n\u001b[1;32m   2422\u001b[0m   \u001b[0;34m@\u001b[0m\u001b[0mproperty\u001b[0m\u001b[0;34m\u001b[0m\u001b[0;34m\u001b[0m\u001b[0m\n",
      "\u001b[0;32m/usr/local/lib/python3.6/dist-packages/tensorflow/python/eager/function.py\u001b[0m in \u001b[0;36m_filtered_call\u001b[0;34m(self, args, kwargs)\u001b[0m\n\u001b[1;32m   1663\u001b[0m          if isinstance(t, (ops.Tensor,\n\u001b[1;32m   1664\u001b[0m                            resource_variable_ops.BaseResourceVariable))),\n\u001b[0;32m-> 1665\u001b[0;31m         self.captured_inputs)\n\u001b[0m\u001b[1;32m   1666\u001b[0m \u001b[0;34m\u001b[0m\u001b[0m\n\u001b[1;32m   1667\u001b[0m   \u001b[0;32mdef\u001b[0m \u001b[0m_call_flat\u001b[0m\u001b[0;34m(\u001b[0m\u001b[0mself\u001b[0m\u001b[0;34m,\u001b[0m \u001b[0margs\u001b[0m\u001b[0;34m,\u001b[0m \u001b[0mcaptured_inputs\u001b[0m\u001b[0;34m,\u001b[0m \u001b[0mcancellation_manager\u001b[0m\u001b[0;34m=\u001b[0m\u001b[0;32mNone\u001b[0m\u001b[0;34m)\u001b[0m\u001b[0;34m:\u001b[0m\u001b[0;34m\u001b[0m\u001b[0;34m\u001b[0m\u001b[0m\n",
      "\u001b[0;32m/usr/local/lib/python3.6/dist-packages/tensorflow/python/eager/function.py\u001b[0m in \u001b[0;36m_call_flat\u001b[0;34m(self, args, captured_inputs, cancellation_manager)\u001b[0m\n\u001b[1;32m   1744\u001b[0m       \u001b[0;31m# No tape is watching; skip to running the function.\u001b[0m\u001b[0;34m\u001b[0m\u001b[0;34m\u001b[0m\u001b[0;34m\u001b[0m\u001b[0m\n\u001b[1;32m   1745\u001b[0m       return self._build_call_outputs(self._inference_function.call(\n\u001b[0;32m-> 1746\u001b[0;31m           ctx, args, cancellation_manager=cancellation_manager))\n\u001b[0m\u001b[1;32m   1747\u001b[0m     forward_backward = self._select_forward_and_backward_functions(\n\u001b[1;32m   1748\u001b[0m         \u001b[0margs\u001b[0m\u001b[0;34m,\u001b[0m\u001b[0;34m\u001b[0m\u001b[0;34m\u001b[0m\u001b[0m\n",
      "\u001b[0;32m/usr/local/lib/python3.6/dist-packages/tensorflow/python/eager/function.py\u001b[0m in \u001b[0;36mcall\u001b[0;34m(self, ctx, args, cancellation_manager)\u001b[0m\n\u001b[1;32m    596\u001b[0m               \u001b[0minputs\u001b[0m\u001b[0;34m=\u001b[0m\u001b[0margs\u001b[0m\u001b[0;34m,\u001b[0m\u001b[0;34m\u001b[0m\u001b[0;34m\u001b[0m\u001b[0m\n\u001b[1;32m    597\u001b[0m               \u001b[0mattrs\u001b[0m\u001b[0;34m=\u001b[0m\u001b[0mattrs\u001b[0m\u001b[0;34m,\u001b[0m\u001b[0;34m\u001b[0m\u001b[0;34m\u001b[0m\u001b[0m\n\u001b[0;32m--> 598\u001b[0;31m               ctx=ctx)\n\u001b[0m\u001b[1;32m    599\u001b[0m         \u001b[0;32melse\u001b[0m\u001b[0;34m:\u001b[0m\u001b[0;34m\u001b[0m\u001b[0;34m\u001b[0m\u001b[0m\n\u001b[1;32m    600\u001b[0m           outputs = execute.execute_with_cancellation(\n",
      "\u001b[0;32m/usr/local/lib/python3.6/dist-packages/tensorflow/python/eager/execute.py\u001b[0m in \u001b[0;36mquick_execute\u001b[0;34m(op_name, num_outputs, inputs, attrs, ctx, name)\u001b[0m\n\u001b[1;32m     58\u001b[0m     \u001b[0mctx\u001b[0m\u001b[0;34m.\u001b[0m\u001b[0mensure_initialized\u001b[0m\u001b[0;34m(\u001b[0m\u001b[0;34m)\u001b[0m\u001b[0;34m\u001b[0m\u001b[0;34m\u001b[0m\u001b[0m\n\u001b[1;32m     59\u001b[0m     tensors = pywrap_tfe.TFE_Py_Execute(ctx._handle, device_name, op_name,\n\u001b[0;32m---> 60\u001b[0;31m                                         inputs, attrs, num_outputs)\n\u001b[0m\u001b[1;32m     61\u001b[0m   \u001b[0;32mexcept\u001b[0m \u001b[0mcore\u001b[0m\u001b[0;34m.\u001b[0m\u001b[0m_NotOkStatusException\u001b[0m \u001b[0;32mas\u001b[0m \u001b[0me\u001b[0m\u001b[0;34m:\u001b[0m\u001b[0;34m\u001b[0m\u001b[0;34m\u001b[0m\u001b[0m\n\u001b[1;32m     62\u001b[0m     \u001b[0;32mif\u001b[0m \u001b[0mname\u001b[0m \u001b[0;32mis\u001b[0m \u001b[0;32mnot\u001b[0m \u001b[0;32mNone\u001b[0m\u001b[0;34m:\u001b[0m\u001b[0;34m\u001b[0m\u001b[0;34m\u001b[0m\u001b[0m\n",
      "\u001b[0;31mKeyboardInterrupt\u001b[0m: "
     ]
    }
   ],
   "source": [
    "# 2020_0604 : batch_size 64 -> 32 로 줄이니깐 확실히 좋아졌다 \n",
    "# 다시 64로?\n",
    "\n",
    "history = model.fit_generator(\n",
    "    train_data_generator,\n",
    "    epochs = 100,\n",
    "    validation_data=val_data_generator,\n",
    "    verbose=1)"
   ]
  },
  {
   "cell_type": "code",
   "execution_count": null,
   "metadata": {},
   "outputs": [],
   "source": []
  },
  {
   "cell_type": "code",
   "execution_count": null,
   "metadata": {},
   "outputs": [],
   "source": []
  },
  {
   "cell_type": "code",
   "execution_count": null,
   "metadata": {},
   "outputs": [],
   "source": []
  }
 ],
 "metadata": {
  "colab": {
   "collapsed_sections": [
    "cpijpmk_K0zU"
   ],
   "name": "object_localizer+훈련_neckline",
   "provenance": []
  },
  "kernelspec": {
   "display_name": "Python 3",
   "language": "python",
   "name": "python3"
  },
  "language_info": {
   "codemirror_mode": {
    "name": "ipython",
    "version": 3
   },
   "file_extension": ".py",
   "mimetype": "text/x-python",
   "name": "python",
   "nbconvert_exporter": "python",
   "pygments_lexer": "ipython3",
   "version": "3.6.5"
  },
  "widgets": {
   "application/vnd.jupyter.widget-state+json": {
    "021be75e99de4010b766e952dee89c6a": {
     "model_module": "@jupyter-widgets/base",
     "model_name": "LayoutModel",
     "state": {
      "_model_module": "@jupyter-widgets/base",
      "_model_module_version": "1.2.0",
      "_model_name": "LayoutModel",
      "_view_count": null,
      "_view_module": "@jupyter-widgets/base",
      "_view_module_version": "1.2.0",
      "_view_name": "LayoutView",
      "align_content": null,
      "align_items": null,
      "align_self": null,
      "border": null,
      "bottom": null,
      "display": null,
      "flex": null,
      "flex_flow": null,
      "grid_area": null,
      "grid_auto_columns": null,
      "grid_auto_flow": null,
      "grid_auto_rows": null,
      "grid_column": null,
      "grid_gap": null,
      "grid_row": null,
      "grid_template_areas": null,
      "grid_template_columns": null,
      "grid_template_rows": null,
      "height": null,
      "justify_content": null,
      "justify_items": null,
      "left": null,
      "margin": null,
      "max_height": null,
      "max_width": null,
      "min_height": null,
      "min_width": null,
      "object_fit": null,
      "object_position": null,
      "order": null,
      "overflow": null,
      "overflow_x": null,
      "overflow_y": null,
      "padding": null,
      "right": null,
      "top": null,
      "visibility": null,
      "width": null
     }
    },
    "028c6dfe0ea94db884c7a4fc0de0094d": {
     "model_module": "@jupyter-widgets/controls",
     "model_name": "ProgressStyleModel",
     "state": {
      "_model_module": "@jupyter-widgets/controls",
      "_model_module_version": "1.5.0",
      "_model_name": "ProgressStyleModel",
      "_view_count": null,
      "_view_module": "@jupyter-widgets/base",
      "_view_module_version": "1.2.0",
      "_view_name": "StyleView",
      "bar_color": null,
      "description_width": "initial"
     }
    },
    "039e7bc961ec4f739c5f61f3361003b1": {
     "model_module": "@jupyter-widgets/base",
     "model_name": "LayoutModel",
     "state": {
      "_model_module": "@jupyter-widgets/base",
      "_model_module_version": "1.2.0",
      "_model_name": "LayoutModel",
      "_view_count": null,
      "_view_module": "@jupyter-widgets/base",
      "_view_module_version": "1.2.0",
      "_view_name": "LayoutView",
      "align_content": null,
      "align_items": null,
      "align_self": null,
      "border": null,
      "bottom": null,
      "display": null,
      "flex": null,
      "flex_flow": null,
      "grid_area": null,
      "grid_auto_columns": null,
      "grid_auto_flow": null,
      "grid_auto_rows": null,
      "grid_column": null,
      "grid_gap": null,
      "grid_row": null,
      "grid_template_areas": null,
      "grid_template_columns": null,
      "grid_template_rows": null,
      "height": null,
      "justify_content": null,
      "justify_items": null,
      "left": null,
      "margin": null,
      "max_height": null,
      "max_width": null,
      "min_height": null,
      "min_width": null,
      "object_fit": null,
      "object_position": null,
      "order": null,
      "overflow": null,
      "overflow_x": null,
      "overflow_y": null,
      "padding": null,
      "right": null,
      "top": null,
      "visibility": null,
      "width": null
     }
    },
    "04c96061ccbb485c87da832fa75921c7": {
     "model_module": "@jupyter-widgets/controls",
     "model_name": "HTMLModel",
     "state": {
      "_dom_classes": [],
      "_model_module": "@jupyter-widgets/controls",
      "_model_module_version": "1.5.0",
      "_model_name": "HTMLModel",
      "_view_count": null,
      "_view_module": "@jupyter-widgets/controls",
      "_view_module_version": "1.5.0",
      "_view_name": "HTMLView",
      "description": "",
      "description_tooltip": null,
      "layout": "IPY_MODEL_b1b1458cd3744ee0ad0068916d5e9237",
      "placeholder": "​",
      "style": "IPY_MODEL_0f2ebf056b8c4641850730d7611b0925",
      "value": " 221/? [00:07&lt;00:00, 28.86it/s]"
     }
    },
    "08e6bce40b88499fb3ff1c3184015c5b": {
     "model_module": "@jupyter-widgets/base",
     "model_name": "LayoutModel",
     "state": {
      "_model_module": "@jupyter-widgets/base",
      "_model_module_version": "1.2.0",
      "_model_name": "LayoutModel",
      "_view_count": null,
      "_view_module": "@jupyter-widgets/base",
      "_view_module_version": "1.2.0",
      "_view_name": "LayoutView",
      "align_content": null,
      "align_items": null,
      "align_self": null,
      "border": null,
      "bottom": null,
      "display": null,
      "flex": null,
      "flex_flow": null,
      "grid_area": null,
      "grid_auto_columns": null,
      "grid_auto_flow": null,
      "grid_auto_rows": null,
      "grid_column": null,
      "grid_gap": null,
      "grid_row": null,
      "grid_template_areas": null,
      "grid_template_columns": null,
      "grid_template_rows": null,
      "height": null,
      "justify_content": null,
      "justify_items": null,
      "left": null,
      "margin": null,
      "max_height": null,
      "max_width": null,
      "min_height": null,
      "min_width": null,
      "object_fit": null,
      "object_position": null,
      "order": null,
      "overflow": null,
      "overflow_x": null,
      "overflow_y": null,
      "padding": null,
      "right": null,
      "top": null,
      "visibility": null,
      "width": null
     }
    },
    "090748b37e2246b39983ec6c47c1d1a2": {
     "model_module": "@jupyter-widgets/base",
     "model_name": "LayoutModel",
     "state": {
      "_model_module": "@jupyter-widgets/base",
      "_model_module_version": "1.2.0",
      "_model_name": "LayoutModel",
      "_view_count": null,
      "_view_module": "@jupyter-widgets/base",
      "_view_module_version": "1.2.0",
      "_view_name": "LayoutView",
      "align_content": null,
      "align_items": null,
      "align_self": null,
      "border": null,
      "bottom": null,
      "display": null,
      "flex": null,
      "flex_flow": null,
      "grid_area": null,
      "grid_auto_columns": null,
      "grid_auto_flow": null,
      "grid_auto_rows": null,
      "grid_column": null,
      "grid_gap": null,
      "grid_row": null,
      "grid_template_areas": null,
      "grid_template_columns": null,
      "grid_template_rows": null,
      "height": null,
      "justify_content": null,
      "justify_items": null,
      "left": null,
      "margin": null,
      "max_height": null,
      "max_width": null,
      "min_height": null,
      "min_width": null,
      "object_fit": null,
      "object_position": null,
      "order": null,
      "overflow": null,
      "overflow_x": null,
      "overflow_y": null,
      "padding": null,
      "right": null,
      "top": null,
      "visibility": null,
      "width": null
     }
    },
    "0d8b6884e8ba40aba803b0ccb87f6704": {
     "model_module": "@jupyter-widgets/controls",
     "model_name": "HBoxModel",
     "state": {
      "_dom_classes": [],
      "_model_module": "@jupyter-widgets/controls",
      "_model_module_version": "1.5.0",
      "_model_name": "HBoxModel",
      "_view_count": null,
      "_view_module": "@jupyter-widgets/controls",
      "_view_module_version": "1.5.0",
      "_view_name": "HBoxView",
      "box_style": "",
      "children": [
       "IPY_MODEL_6d4f49648bef4175b91652321625cabe",
       "IPY_MODEL_5aa7b3e443a24c48b8fe5690c053fc92"
      ],
      "layout": "IPY_MODEL_08e6bce40b88499fb3ff1c3184015c5b"
     }
    },
    "0ef21bc48e524cbf89d74e673d9ca7fd": {
     "model_module": "@jupyter-widgets/controls",
     "model_name": "DescriptionStyleModel",
     "state": {
      "_model_module": "@jupyter-widgets/controls",
      "_model_module_version": "1.5.0",
      "_model_name": "DescriptionStyleModel",
      "_view_count": null,
      "_view_module": "@jupyter-widgets/base",
      "_view_module_version": "1.2.0",
      "_view_name": "StyleView",
      "description_width": ""
     }
    },
    "0f2ebf056b8c4641850730d7611b0925": {
     "model_module": "@jupyter-widgets/controls",
     "model_name": "DescriptionStyleModel",
     "state": {
      "_model_module": "@jupyter-widgets/controls",
      "_model_module_version": "1.5.0",
      "_model_name": "DescriptionStyleModel",
      "_view_count": null,
      "_view_module": "@jupyter-widgets/base",
      "_view_module_version": "1.2.0",
      "_view_name": "StyleView",
      "description_width": ""
     }
    },
    "0f8c11954ab94346ae3503101af47db1": {
     "model_module": "@jupyter-widgets/controls",
     "model_name": "ProgressStyleModel",
     "state": {
      "_model_module": "@jupyter-widgets/controls",
      "_model_module_version": "1.5.0",
      "_model_name": "ProgressStyleModel",
      "_view_count": null,
      "_view_module": "@jupyter-widgets/base",
      "_view_module_version": "1.2.0",
      "_view_name": "StyleView",
      "bar_color": null,
      "description_width": "initial"
     }
    },
    "111064a7476e4567a71f166b44397601": {
     "model_module": "@jupyter-widgets/base",
     "model_name": "LayoutModel",
     "state": {
      "_model_module": "@jupyter-widgets/base",
      "_model_module_version": "1.2.0",
      "_model_name": "LayoutModel",
      "_view_count": null,
      "_view_module": "@jupyter-widgets/base",
      "_view_module_version": "1.2.0",
      "_view_name": "LayoutView",
      "align_content": null,
      "align_items": null,
      "align_self": null,
      "border": null,
      "bottom": null,
      "display": null,
      "flex": null,
      "flex_flow": null,
      "grid_area": null,
      "grid_auto_columns": null,
      "grid_auto_flow": null,
      "grid_auto_rows": null,
      "grid_column": null,
      "grid_gap": null,
      "grid_row": null,
      "grid_template_areas": null,
      "grid_template_columns": null,
      "grid_template_rows": null,
      "height": null,
      "justify_content": null,
      "justify_items": null,
      "left": null,
      "margin": null,
      "max_height": null,
      "max_width": null,
      "min_height": null,
      "min_width": null,
      "object_fit": null,
      "object_position": null,
      "order": null,
      "overflow": null,
      "overflow_x": null,
      "overflow_y": null,
      "padding": null,
      "right": null,
      "top": null,
      "visibility": null,
      "width": null
     }
    },
    "1adae3ab16db4963be73fd06f2c13ba2": {
     "model_module": "@jupyter-widgets/controls",
     "model_name": "ProgressStyleModel",
     "state": {
      "_model_module": "@jupyter-widgets/controls",
      "_model_module_version": "1.5.0",
      "_model_name": "ProgressStyleModel",
      "_view_count": null,
      "_view_module": "@jupyter-widgets/base",
      "_view_module_version": "1.2.0",
      "_view_name": "StyleView",
      "bar_color": null,
      "description_width": "initial"
     }
    },
    "22bf4e9c02cf4d10bcb8091f6ff68acf": {
     "model_module": "@jupyter-widgets/base",
     "model_name": "LayoutModel",
     "state": {
      "_model_module": "@jupyter-widgets/base",
      "_model_module_version": "1.2.0",
      "_model_name": "LayoutModel",
      "_view_count": null,
      "_view_module": "@jupyter-widgets/base",
      "_view_module_version": "1.2.0",
      "_view_name": "LayoutView",
      "align_content": null,
      "align_items": null,
      "align_self": null,
      "border": null,
      "bottom": null,
      "display": null,
      "flex": null,
      "flex_flow": null,
      "grid_area": null,
      "grid_auto_columns": null,
      "grid_auto_flow": null,
      "grid_auto_rows": null,
      "grid_column": null,
      "grid_gap": null,
      "grid_row": null,
      "grid_template_areas": null,
      "grid_template_columns": null,
      "grid_template_rows": null,
      "height": null,
      "justify_content": null,
      "justify_items": null,
      "left": null,
      "margin": null,
      "max_height": null,
      "max_width": null,
      "min_height": null,
      "min_width": null,
      "object_fit": null,
      "object_position": null,
      "order": null,
      "overflow": null,
      "overflow_x": null,
      "overflow_y": null,
      "padding": null,
      "right": null,
      "top": null,
      "visibility": null,
      "width": null
     }
    },
    "2863dfce80964085aea2c810293657dd": {
     "model_module": "@jupyter-widgets/controls",
     "model_name": "FloatProgressModel",
     "state": {
      "_dom_classes": [],
      "_model_module": "@jupyter-widgets/controls",
      "_model_module_version": "1.5.0",
      "_model_name": "FloatProgressModel",
      "_view_count": null,
      "_view_module": "@jupyter-widgets/controls",
      "_view_module_version": "1.5.0",
      "_view_name": "ProgressView",
      "bar_style": "success",
      "description": "100%",
      "description_tooltip": null,
      "layout": "IPY_MODEL_8ec32902154346789272c95ff3a129ef",
      "max": 3,
      "min": 0,
      "orientation": "horizontal",
      "style": "IPY_MODEL_c00d5a9a827f43858b8dda0cce88e62a",
      "value": 3
     }
    },
    "2ac0c4726eac4471a5f5a4399e665023": {
     "model_module": "@jupyter-widgets/controls",
     "model_name": "HBoxModel",
     "state": {
      "_dom_classes": [],
      "_model_module": "@jupyter-widgets/controls",
      "_model_module_version": "1.5.0",
      "_model_name": "HBoxModel",
      "_view_count": null,
      "_view_module": "@jupyter-widgets/controls",
      "_view_module_version": "1.5.0",
      "_view_name": "HBoxView",
      "box_style": "",
      "children": [
       "IPY_MODEL_79492fe22e604a34a22d387f7126d925",
       "IPY_MODEL_467c62538b39414dbcba791499dc1a79"
      ],
      "layout": "IPY_MODEL_f0a3746691a5439b837a9b41d74bd6bb"
     }
    },
    "2b1afa1d705d48b392fdef0252bce442": {
     "model_module": "@jupyter-widgets/base",
     "model_name": "LayoutModel",
     "state": {
      "_model_module": "@jupyter-widgets/base",
      "_model_module_version": "1.2.0",
      "_model_name": "LayoutModel",
      "_view_count": null,
      "_view_module": "@jupyter-widgets/base",
      "_view_module_version": "1.2.0",
      "_view_name": "LayoutView",
      "align_content": null,
      "align_items": null,
      "align_self": null,
      "border": null,
      "bottom": null,
      "display": null,
      "flex": null,
      "flex_flow": null,
      "grid_area": null,
      "grid_auto_columns": null,
      "grid_auto_flow": null,
      "grid_auto_rows": null,
      "grid_column": null,
      "grid_gap": null,
      "grid_row": null,
      "grid_template_areas": null,
      "grid_template_columns": null,
      "grid_template_rows": null,
      "height": null,
      "justify_content": null,
      "justify_items": null,
      "left": null,
      "margin": null,
      "max_height": null,
      "max_width": null,
      "min_height": null,
      "min_width": null,
      "object_fit": null,
      "object_position": null,
      "order": null,
      "overflow": null,
      "overflow_x": null,
      "overflow_y": null,
      "padding": null,
      "right": null,
      "top": null,
      "visibility": null,
      "width": null
     }
    },
    "2c9e4cead8584f5dabbd35cbb5ef52e1": {
     "model_module": "@jupyter-widgets/base",
     "model_name": "LayoutModel",
     "state": {
      "_model_module": "@jupyter-widgets/base",
      "_model_module_version": "1.2.0",
      "_model_name": "LayoutModel",
      "_view_count": null,
      "_view_module": "@jupyter-widgets/base",
      "_view_module_version": "1.2.0",
      "_view_name": "LayoutView",
      "align_content": null,
      "align_items": null,
      "align_self": null,
      "border": null,
      "bottom": null,
      "display": null,
      "flex": null,
      "flex_flow": null,
      "grid_area": null,
      "grid_auto_columns": null,
      "grid_auto_flow": null,
      "grid_auto_rows": null,
      "grid_column": null,
      "grid_gap": null,
      "grid_row": null,
      "grid_template_areas": null,
      "grid_template_columns": null,
      "grid_template_rows": null,
      "height": null,
      "justify_content": null,
      "justify_items": null,
      "left": null,
      "margin": null,
      "max_height": null,
      "max_width": null,
      "min_height": null,
      "min_width": null,
      "object_fit": null,
      "object_position": null,
      "order": null,
      "overflow": null,
      "overflow_x": null,
      "overflow_y": null,
      "padding": null,
      "right": null,
      "top": null,
      "visibility": null,
      "width": null
     }
    },
    "30cd230accc04089a56597dd5bd62913": {
     "model_module": "@jupyter-widgets/controls",
     "model_name": "FloatProgressModel",
     "state": {
      "_dom_classes": [],
      "_model_module": "@jupyter-widgets/controls",
      "_model_module_version": "1.5.0",
      "_model_name": "FloatProgressModel",
      "_view_count": null,
      "_view_module": "@jupyter-widgets/controls",
      "_view_module_version": "1.5.0",
      "_view_name": "ProgressView",
      "bar_style": "success",
      "description": "100%",
      "description_tooltip": null,
      "layout": "IPY_MODEL_800644b8565d439b9fe7f94de686de2d",
      "max": 221,
      "min": 0,
      "orientation": "horizontal",
      "style": "IPY_MODEL_8c197e648b0447648f8d994cc261bde9",
      "value": 221
     }
    },
    "35d1172699fa46d79a8819e24024a963": {
     "model_module": "@jupyter-widgets/controls",
     "model_name": "DescriptionStyleModel",
     "state": {
      "_model_module": "@jupyter-widgets/controls",
      "_model_module_version": "1.5.0",
      "_model_name": "DescriptionStyleModel",
      "_view_count": null,
      "_view_module": "@jupyter-widgets/base",
      "_view_module_version": "1.2.0",
      "_view_name": "StyleView",
      "description_width": ""
     }
    },
    "3b0f92715dc7451dbb28348e9f9304d0": {
     "model_module": "@jupyter-widgets/controls",
     "model_name": "HTMLModel",
     "state": {
      "_dom_classes": [],
      "_model_module": "@jupyter-widgets/controls",
      "_model_module_version": "1.5.0",
      "_model_name": "HTMLModel",
      "_view_count": null,
      "_view_module": "@jupyter-widgets/controls",
      "_view_module_version": "1.5.0",
      "_view_name": "HTMLView",
      "description": "",
      "description_tooltip": null,
      "layout": "IPY_MODEL_111064a7476e4567a71f166b44397601",
      "placeholder": "​",
      "style": "IPY_MODEL_35d1172699fa46d79a8819e24024a963",
      "value": " 3/3 [00:07&lt;00:00,  2.56s/it]"
     }
    },
    "42e4142f94b549fb978384c7b990ba0c": {
     "model_module": "@jupyter-widgets/controls",
     "model_name": "HBoxModel",
     "state": {
      "_dom_classes": [],
      "_model_module": "@jupyter-widgets/controls",
      "_model_module_version": "1.5.0",
      "_model_name": "HBoxModel",
      "_view_count": null,
      "_view_module": "@jupyter-widgets/controls",
      "_view_module_version": "1.5.0",
      "_view_name": "HBoxView",
      "box_style": "",
      "children": [
       "IPY_MODEL_ca51c1e749e54538a56fe359e9c3cfc7",
       "IPY_MODEL_441ea32f05004a68be6327a9adec64fa"
      ],
      "layout": "IPY_MODEL_692c6962431f477495ee707477b665b0"
     }
    },
    "441ea32f05004a68be6327a9adec64fa": {
     "model_module": "@jupyter-widgets/controls",
     "model_name": "HTMLModel",
     "state": {
      "_dom_classes": [],
      "_model_module": "@jupyter-widgets/controls",
      "_model_module_version": "1.5.0",
      "_model_name": "HTMLModel",
      "_view_count": null,
      "_view_module": "@jupyter-widgets/controls",
      "_view_module_version": "1.5.0",
      "_view_name": "HTMLView",
      "description": "",
      "description_tooltip": null,
      "layout": "IPY_MODEL_93b4024a77854e24b9d4a47cf9e979ca",
      "placeholder": "​",
      "style": "IPY_MODEL_0ef21bc48e524cbf89d74e673d9ca7fd",
      "value": " 294/? [00:06&lt;00:00, 44.80it/s]"
     }
    },
    "467c62538b39414dbcba791499dc1a79": {
     "model_module": "@jupyter-widgets/controls",
     "model_name": "HTMLModel",
     "state": {
      "_dom_classes": [],
      "_model_module": "@jupyter-widgets/controls",
      "_model_module_version": "1.5.0",
      "_model_name": "HTMLModel",
      "_view_count": null,
      "_view_module": "@jupyter-widgets/controls",
      "_view_module_version": "1.5.0",
      "_view_name": "HTMLView",
      "description": "",
      "description_tooltip": null,
      "layout": "IPY_MODEL_2b1afa1d705d48b392fdef0252bce442",
      "placeholder": "​",
      "style": "IPY_MODEL_91d08234a14a40b39a38d2b360651229",
      "value": " 292/292 [02:06&lt;00:00,  2.30it/s]"
     }
    },
    "47566d1a7e7342e6a9e77d0c53f6be47": {
     "model_module": "@jupyter-widgets/base",
     "model_name": "LayoutModel",
     "state": {
      "_model_module": "@jupyter-widgets/base",
      "_model_module_version": "1.2.0",
      "_model_name": "LayoutModel",
      "_view_count": null,
      "_view_module": "@jupyter-widgets/base",
      "_view_module_version": "1.2.0",
      "_view_name": "LayoutView",
      "align_content": null,
      "align_items": null,
      "align_self": null,
      "border": null,
      "bottom": null,
      "display": null,
      "flex": null,
      "flex_flow": null,
      "grid_area": null,
      "grid_auto_columns": null,
      "grid_auto_flow": null,
      "grid_auto_rows": null,
      "grid_column": null,
      "grid_gap": null,
      "grid_row": null,
      "grid_template_areas": null,
      "grid_template_columns": null,
      "grid_template_rows": null,
      "height": null,
      "justify_content": null,
      "justify_items": null,
      "left": null,
      "margin": null,
      "max_height": null,
      "max_width": null,
      "min_height": null,
      "min_width": null,
      "object_fit": null,
      "object_position": null,
      "order": null,
      "overflow": null,
      "overflow_x": null,
      "overflow_y": null,
      "padding": null,
      "right": null,
      "top": null,
      "visibility": null,
      "width": null
     }
    },
    "4aaa8e222a5c492a9d0517146e7c48e0": {
     "model_module": "@jupyter-widgets/controls",
     "model_name": "DescriptionStyleModel",
     "state": {
      "_model_module": "@jupyter-widgets/controls",
      "_model_module_version": "1.5.0",
      "_model_name": "DescriptionStyleModel",
      "_view_count": null,
      "_view_module": "@jupyter-widgets/base",
      "_view_module_version": "1.2.0",
      "_view_name": "StyleView",
      "description_width": ""
     }
    },
    "502f380c6b82431ea12b8f5bf434267f": {
     "model_module": "@jupyter-widgets/base",
     "model_name": "LayoutModel",
     "state": {
      "_model_module": "@jupyter-widgets/base",
      "_model_module_version": "1.2.0",
      "_model_name": "LayoutModel",
      "_view_count": null,
      "_view_module": "@jupyter-widgets/base",
      "_view_module_version": "1.2.0",
      "_view_name": "LayoutView",
      "align_content": null,
      "align_items": null,
      "align_self": null,
      "border": null,
      "bottom": null,
      "display": null,
      "flex": null,
      "flex_flow": null,
      "grid_area": null,
      "grid_auto_columns": null,
      "grid_auto_flow": null,
      "grid_auto_rows": null,
      "grid_column": null,
      "grid_gap": null,
      "grid_row": null,
      "grid_template_areas": null,
      "grid_template_columns": null,
      "grid_template_rows": null,
      "height": null,
      "justify_content": null,
      "justify_items": null,
      "left": null,
      "margin": null,
      "max_height": null,
      "max_width": null,
      "min_height": null,
      "min_width": null,
      "object_fit": null,
      "object_position": null,
      "order": null,
      "overflow": null,
      "overflow_x": null,
      "overflow_y": null,
      "padding": null,
      "right": null,
      "top": null,
      "visibility": null,
      "width": null
     }
    },
    "5401ba8008764bf69d57f26d033ec278": {
     "model_module": "@jupyter-widgets/controls",
     "model_name": "ProgressStyleModel",
     "state": {
      "_model_module": "@jupyter-widgets/controls",
      "_model_module_version": "1.5.0",
      "_model_name": "ProgressStyleModel",
      "_view_count": null,
      "_view_module": "@jupyter-widgets/base",
      "_view_module_version": "1.2.0",
      "_view_name": "StyleView",
      "bar_color": null,
      "description_width": "initial"
     }
    },
    "59751d1051744154b68d87144900b99f": {
     "model_module": "@jupyter-widgets/controls",
     "model_name": "HTMLModel",
     "state": {
      "_dom_classes": [],
      "_model_module": "@jupyter-widgets/controls",
      "_model_module_version": "1.5.0",
      "_model_name": "HTMLModel",
      "_view_count": null,
      "_view_module": "@jupyter-widgets/controls",
      "_view_module_version": "1.5.0",
      "_view_name": "HTMLView",
      "description": "",
      "description_tooltip": null,
      "layout": "IPY_MODEL_039e7bc961ec4f739c5f61f3361003b1",
      "placeholder": "​",
      "style": "IPY_MODEL_6d3793e4d4f14f828385ab7a623ae34e",
      "value": " 235/? [00:05&lt;00:00, 40.18it/s]"
     }
    },
    "5aa7b3e443a24c48b8fe5690c053fc92": {
     "model_module": "@jupyter-widgets/controls",
     "model_name": "HTMLModel",
     "state": {
      "_dom_classes": [],
      "_model_module": "@jupyter-widgets/controls",
      "_model_module_version": "1.5.0",
      "_model_name": "HTMLModel",
      "_view_count": null,
      "_view_module": "@jupyter-widgets/controls",
      "_view_module_version": "1.5.0",
      "_view_name": "HTMLView",
      "description": "",
      "description_tooltip": null,
      "layout": "IPY_MODEL_a21bf14f2bd1486388edccab741eb067",
      "placeholder": "​",
      "style": "IPY_MODEL_d4df2fa2282b45abb10ebf4bdb8a6cee",
      "value": " 3/3 [05:14&lt;00:00, 104.89s/it]"
     }
    },
    "5e2ba66b13d74804af7861b302b86394": {
     "model_module": "@jupyter-widgets/base",
     "model_name": "LayoutModel",
     "state": {
      "_model_module": "@jupyter-widgets/base",
      "_model_module_version": "1.2.0",
      "_model_name": "LayoutModel",
      "_view_count": null,
      "_view_module": "@jupyter-widgets/base",
      "_view_module_version": "1.2.0",
      "_view_name": "LayoutView",
      "align_content": null,
      "align_items": null,
      "align_self": null,
      "border": null,
      "bottom": null,
      "display": null,
      "flex": null,
      "flex_flow": null,
      "grid_area": null,
      "grid_auto_columns": null,
      "grid_auto_flow": null,
      "grid_auto_rows": null,
      "grid_column": null,
      "grid_gap": null,
      "grid_row": null,
      "grid_template_areas": null,
      "grid_template_columns": null,
      "grid_template_rows": null,
      "height": null,
      "justify_content": null,
      "justify_items": null,
      "left": null,
      "margin": null,
      "max_height": null,
      "max_width": null,
      "min_height": null,
      "min_width": null,
      "object_fit": null,
      "object_position": null,
      "order": null,
      "overflow": null,
      "overflow_x": null,
      "overflow_y": null,
      "padding": null,
      "right": null,
      "top": null,
      "visibility": null,
      "width": null
     }
    },
    "671251a6e1cf4d068d009beb428db2e2": {
     "model_module": "@jupyter-widgets/controls",
     "model_name": "HBoxModel",
     "state": {
      "_dom_classes": [],
      "_model_module": "@jupyter-widgets/controls",
      "_model_module_version": "1.5.0",
      "_model_name": "HBoxModel",
      "_view_count": null,
      "_view_module": "@jupyter-widgets/controls",
      "_view_module_version": "1.5.0",
      "_view_name": "HBoxView",
      "box_style": "",
      "children": [
       "IPY_MODEL_74f2197f4cd44152b7ccb9d61ae3509f",
       "IPY_MODEL_04c96061ccbb485c87da832fa75921c7"
      ],
      "layout": "IPY_MODEL_47566d1a7e7342e6a9e77d0c53f6be47"
     }
    },
    "682c1e6536234ae1ab78ada2f69042fb": {
     "model_module": "@jupyter-widgets/base",
     "model_name": "LayoutModel",
     "state": {
      "_model_module": "@jupyter-widgets/base",
      "_model_module_version": "1.2.0",
      "_model_name": "LayoutModel",
      "_view_count": null,
      "_view_module": "@jupyter-widgets/base",
      "_view_module_version": "1.2.0",
      "_view_name": "LayoutView",
      "align_content": null,
      "align_items": null,
      "align_self": null,
      "border": null,
      "bottom": null,
      "display": null,
      "flex": null,
      "flex_flow": null,
      "grid_area": null,
      "grid_auto_columns": null,
      "grid_auto_flow": null,
      "grid_auto_rows": null,
      "grid_column": null,
      "grid_gap": null,
      "grid_row": null,
      "grid_template_areas": null,
      "grid_template_columns": null,
      "grid_template_rows": null,
      "height": null,
      "justify_content": null,
      "justify_items": null,
      "left": null,
      "margin": null,
      "max_height": null,
      "max_width": null,
      "min_height": null,
      "min_width": null,
      "object_fit": null,
      "object_position": null,
      "order": null,
      "overflow": null,
      "overflow_x": null,
      "overflow_y": null,
      "padding": null,
      "right": null,
      "top": null,
      "visibility": null,
      "width": null
     }
    },
    "688af9aad3214f489fcf24faff3fe049": {
     "model_module": "@jupyter-widgets/base",
     "model_name": "LayoutModel",
     "state": {
      "_model_module": "@jupyter-widgets/base",
      "_model_module_version": "1.2.0",
      "_model_name": "LayoutModel",
      "_view_count": null,
      "_view_module": "@jupyter-widgets/base",
      "_view_module_version": "1.2.0",
      "_view_name": "LayoutView",
      "align_content": null,
      "align_items": null,
      "align_self": null,
      "border": null,
      "bottom": null,
      "display": null,
      "flex": null,
      "flex_flow": null,
      "grid_area": null,
      "grid_auto_columns": null,
      "grid_auto_flow": null,
      "grid_auto_rows": null,
      "grid_column": null,
      "grid_gap": null,
      "grid_row": null,
      "grid_template_areas": null,
      "grid_template_columns": null,
      "grid_template_rows": null,
      "height": null,
      "justify_content": null,
      "justify_items": null,
      "left": null,
      "margin": null,
      "max_height": null,
      "max_width": null,
      "min_height": null,
      "min_width": null,
      "object_fit": null,
      "object_position": null,
      "order": null,
      "overflow": null,
      "overflow_x": null,
      "overflow_y": null,
      "padding": null,
      "right": null,
      "top": null,
      "visibility": null,
      "width": null
     }
    },
    "692c6962431f477495ee707477b665b0": {
     "model_module": "@jupyter-widgets/base",
     "model_name": "LayoutModel",
     "state": {
      "_model_module": "@jupyter-widgets/base",
      "_model_module_version": "1.2.0",
      "_model_name": "LayoutModel",
      "_view_count": null,
      "_view_module": "@jupyter-widgets/base",
      "_view_module_version": "1.2.0",
      "_view_name": "LayoutView",
      "align_content": null,
      "align_items": null,
      "align_self": null,
      "border": null,
      "bottom": null,
      "display": null,
      "flex": null,
      "flex_flow": null,
      "grid_area": null,
      "grid_auto_columns": null,
      "grid_auto_flow": null,
      "grid_auto_rows": null,
      "grid_column": null,
      "grid_gap": null,
      "grid_row": null,
      "grid_template_areas": null,
      "grid_template_columns": null,
      "grid_template_rows": null,
      "height": null,
      "justify_content": null,
      "justify_items": null,
      "left": null,
      "margin": null,
      "max_height": null,
      "max_width": null,
      "min_height": null,
      "min_width": null,
      "object_fit": null,
      "object_position": null,
      "order": null,
      "overflow": null,
      "overflow_x": null,
      "overflow_y": null,
      "padding": null,
      "right": null,
      "top": null,
      "visibility": null,
      "width": null
     }
    },
    "6d3793e4d4f14f828385ab7a623ae34e": {
     "model_module": "@jupyter-widgets/controls",
     "model_name": "DescriptionStyleModel",
     "state": {
      "_model_module": "@jupyter-widgets/controls",
      "_model_module_version": "1.5.0",
      "_model_name": "DescriptionStyleModel",
      "_view_count": null,
      "_view_module": "@jupyter-widgets/base",
      "_view_module_version": "1.2.0",
      "_view_name": "StyleView",
      "description_width": ""
     }
    },
    "6d4f49648bef4175b91652321625cabe": {
     "model_module": "@jupyter-widgets/controls",
     "model_name": "FloatProgressModel",
     "state": {
      "_dom_classes": [],
      "_model_module": "@jupyter-widgets/controls",
      "_model_module_version": "1.5.0",
      "_model_name": "FloatProgressModel",
      "_view_count": null,
      "_view_module": "@jupyter-widgets/controls",
      "_view_module_version": "1.5.0",
      "_view_name": "ProgressView",
      "bar_style": "success",
      "description": "100%",
      "description_tooltip": null,
      "layout": "IPY_MODEL_5e2ba66b13d74804af7861b302b86394",
      "max": 3,
      "min": 0,
      "orientation": "horizontal",
      "style": "IPY_MODEL_d2c18d6ebc7f49f49e1ce28298c04751",
      "value": 3
     }
    },
    "7134e363b8744a35b484cb73ac9cacd8": {
     "model_module": "@jupyter-widgets/controls",
     "model_name": "HBoxModel",
     "state": {
      "_dom_classes": [],
      "_model_module": "@jupyter-widgets/controls",
      "_model_module_version": "1.5.0",
      "_model_name": "HBoxModel",
      "_view_count": null,
      "_view_module": "@jupyter-widgets/controls",
      "_view_module_version": "1.5.0",
      "_view_name": "HBoxView",
      "box_style": "",
      "children": [
       "IPY_MODEL_30cd230accc04089a56597dd5bd62913",
       "IPY_MODEL_e44050ab0f684a0a8c5a835cab842c9f"
      ],
      "layout": "IPY_MODEL_021be75e99de4010b766e952dee89c6a"
     }
    },
    "74f2197f4cd44152b7ccb9d61ae3509f": {
     "model_module": "@jupyter-widgets/controls",
     "model_name": "FloatProgressModel",
     "state": {
      "_dom_classes": [],
      "_model_module": "@jupyter-widgets/controls",
      "_model_module_version": "1.5.0",
      "_model_name": "FloatProgressModel",
      "_view_count": null,
      "_view_module": "@jupyter-widgets/controls",
      "_view_module_version": "1.5.0",
      "_view_name": "ProgressView",
      "bar_style": "success",
      "description": "",
      "description_tooltip": null,
      "layout": "IPY_MODEL_22bf4e9c02cf4d10bcb8091f6ff68acf",
      "max": 1,
      "min": 0,
      "orientation": "horizontal",
      "style": "IPY_MODEL_028c6dfe0ea94db884c7a4fc0de0094d",
      "value": 1
     }
    },
    "77cbc20977a24ba5bc12c9497f52798b": {
     "model_module": "@jupyter-widgets/controls",
     "model_name": "HBoxModel",
     "state": {
      "_dom_classes": [],
      "_model_module": "@jupyter-widgets/controls",
      "_model_module_version": "1.5.0",
      "_model_name": "HBoxModel",
      "_view_count": null,
      "_view_module": "@jupyter-widgets/controls",
      "_view_module_version": "1.5.0",
      "_view_name": "HBoxView",
      "box_style": "",
      "children": [
       "IPY_MODEL_2863dfce80964085aea2c810293657dd",
       "IPY_MODEL_3b0f92715dc7451dbb28348e9f9304d0"
      ],
      "layout": "IPY_MODEL_688af9aad3214f489fcf24faff3fe049"
     }
    },
    "79492fe22e604a34a22d387f7126d925": {
     "model_module": "@jupyter-widgets/controls",
     "model_name": "FloatProgressModel",
     "state": {
      "_dom_classes": [],
      "_model_module": "@jupyter-widgets/controls",
      "_model_module_version": "1.5.0",
      "_model_name": "FloatProgressModel",
      "_view_count": null,
      "_view_module": "@jupyter-widgets/controls",
      "_view_module_version": "1.5.0",
      "_view_name": "ProgressView",
      "bar_style": "success",
      "description": "100%",
      "description_tooltip": null,
      "layout": "IPY_MODEL_2c9e4cead8584f5dabbd35cbb5ef52e1",
      "max": 292,
      "min": 0,
      "orientation": "horizontal",
      "style": "IPY_MODEL_5401ba8008764bf69d57f26d033ec278",
      "value": 292
     }
    },
    "79a745fdd4f940268f800452df067cb7": {
     "model_module": "@jupyter-widgets/controls",
     "model_name": "HBoxModel",
     "state": {
      "_dom_classes": [],
      "_model_module": "@jupyter-widgets/controls",
      "_model_module_version": "1.5.0",
      "_model_name": "HBoxModel",
      "_view_count": null,
      "_view_module": "@jupyter-widgets/controls",
      "_view_module_version": "1.5.0",
      "_view_name": "HBoxView",
      "box_style": "",
      "children": [
       "IPY_MODEL_8434b6e9541e42b4a358393de0093079",
       "IPY_MODEL_f5e6848b9d774d3bb0823c68cae70f05"
      ],
      "layout": "IPY_MODEL_090748b37e2246b39983ec6c47c1d1a2"
     }
    },
    "800644b8565d439b9fe7f94de686de2d": {
     "model_module": "@jupyter-widgets/base",
     "model_name": "LayoutModel",
     "state": {
      "_model_module": "@jupyter-widgets/base",
      "_model_module_version": "1.2.0",
      "_model_name": "LayoutModel",
      "_view_count": null,
      "_view_module": "@jupyter-widgets/base",
      "_view_module_version": "1.2.0",
      "_view_name": "LayoutView",
      "align_content": null,
      "align_items": null,
      "align_self": null,
      "border": null,
      "bottom": null,
      "display": null,
      "flex": null,
      "flex_flow": null,
      "grid_area": null,
      "grid_auto_columns": null,
      "grid_auto_flow": null,
      "grid_auto_rows": null,
      "grid_column": null,
      "grid_gap": null,
      "grid_row": null,
      "grid_template_areas": null,
      "grid_template_columns": null,
      "grid_template_rows": null,
      "height": null,
      "justify_content": null,
      "justify_items": null,
      "left": null,
      "margin": null,
      "max_height": null,
      "max_width": null,
      "min_height": null,
      "min_width": null,
      "object_fit": null,
      "object_position": null,
      "order": null,
      "overflow": null,
      "overflow_x": null,
      "overflow_y": null,
      "padding": null,
      "right": null,
      "top": null,
      "visibility": null,
      "width": null
     }
    },
    "8434b6e9541e42b4a358393de0093079": {
     "model_module": "@jupyter-widgets/controls",
     "model_name": "FloatProgressModel",
     "state": {
      "_dom_classes": [],
      "_model_module": "@jupyter-widgets/controls",
      "_model_module_version": "1.5.0",
      "_model_name": "FloatProgressModel",
      "_view_count": null,
      "_view_module": "@jupyter-widgets/controls",
      "_view_module_version": "1.5.0",
      "_view_name": "ProgressView",
      "bar_style": "success",
      "description": "100%",
      "description_tooltip": null,
      "layout": "IPY_MODEL_d9b992aefacc49d5bfeb27cb4b986fea",
      "max": 235,
      "min": 0,
      "orientation": "horizontal",
      "style": "IPY_MODEL_0f8c11954ab94346ae3503101af47db1",
      "value": 235
     }
    },
    "8c197e648b0447648f8d994cc261bde9": {
     "model_module": "@jupyter-widgets/controls",
     "model_name": "ProgressStyleModel",
     "state": {
      "_model_module": "@jupyter-widgets/controls",
      "_model_module_version": "1.5.0",
      "_model_name": "ProgressStyleModel",
      "_view_count": null,
      "_view_module": "@jupyter-widgets/base",
      "_view_module_version": "1.2.0",
      "_view_name": "StyleView",
      "bar_color": null,
      "description_width": "initial"
     }
    },
    "8c7066e7f174483a9b6b33a05e948ed5": {
     "model_module": "@jupyter-widgets/base",
     "model_name": "LayoutModel",
     "state": {
      "_model_module": "@jupyter-widgets/base",
      "_model_module_version": "1.2.0",
      "_model_name": "LayoutModel",
      "_view_count": null,
      "_view_module": "@jupyter-widgets/base",
      "_view_module_version": "1.2.0",
      "_view_name": "LayoutView",
      "align_content": null,
      "align_items": null,
      "align_self": null,
      "border": null,
      "bottom": null,
      "display": null,
      "flex": null,
      "flex_flow": null,
      "grid_area": null,
      "grid_auto_columns": null,
      "grid_auto_flow": null,
      "grid_auto_rows": null,
      "grid_column": null,
      "grid_gap": null,
      "grid_row": null,
      "grid_template_areas": null,
      "grid_template_columns": null,
      "grid_template_rows": null,
      "height": null,
      "justify_content": null,
      "justify_items": null,
      "left": null,
      "margin": null,
      "max_height": null,
      "max_width": null,
      "min_height": null,
      "min_width": null,
      "object_fit": null,
      "object_position": null,
      "order": null,
      "overflow": null,
      "overflow_x": null,
      "overflow_y": null,
      "padding": null,
      "right": null,
      "top": null,
      "visibility": null,
      "width": null
     }
    },
    "8ec32902154346789272c95ff3a129ef": {
     "model_module": "@jupyter-widgets/base",
     "model_name": "LayoutModel",
     "state": {
      "_model_module": "@jupyter-widgets/base",
      "_model_module_version": "1.2.0",
      "_model_name": "LayoutModel",
      "_view_count": null,
      "_view_module": "@jupyter-widgets/base",
      "_view_module_version": "1.2.0",
      "_view_name": "LayoutView",
      "align_content": null,
      "align_items": null,
      "align_self": null,
      "border": null,
      "bottom": null,
      "display": null,
      "flex": null,
      "flex_flow": null,
      "grid_area": null,
      "grid_auto_columns": null,
      "grid_auto_flow": null,
      "grid_auto_rows": null,
      "grid_column": null,
      "grid_gap": null,
      "grid_row": null,
      "grid_template_areas": null,
      "grid_template_columns": null,
      "grid_template_rows": null,
      "height": null,
      "justify_content": null,
      "justify_items": null,
      "left": null,
      "margin": null,
      "max_height": null,
      "max_width": null,
      "min_height": null,
      "min_width": null,
      "object_fit": null,
      "object_position": null,
      "order": null,
      "overflow": null,
      "overflow_x": null,
      "overflow_y": null,
      "padding": null,
      "right": null,
      "top": null,
      "visibility": null,
      "width": null
     }
    },
    "91d08234a14a40b39a38d2b360651229": {
     "model_module": "@jupyter-widgets/controls",
     "model_name": "DescriptionStyleModel",
     "state": {
      "_model_module": "@jupyter-widgets/controls",
      "_model_module_version": "1.5.0",
      "_model_name": "DescriptionStyleModel",
      "_view_count": null,
      "_view_module": "@jupyter-widgets/base",
      "_view_module_version": "1.2.0",
      "_view_name": "StyleView",
      "description_width": ""
     }
    },
    "93b4024a77854e24b9d4a47cf9e979ca": {
     "model_module": "@jupyter-widgets/base",
     "model_name": "LayoutModel",
     "state": {
      "_model_module": "@jupyter-widgets/base",
      "_model_module_version": "1.2.0",
      "_model_name": "LayoutModel",
      "_view_count": null,
      "_view_module": "@jupyter-widgets/base",
      "_view_module_version": "1.2.0",
      "_view_name": "LayoutView",
      "align_content": null,
      "align_items": null,
      "align_self": null,
      "border": null,
      "bottom": null,
      "display": null,
      "flex": null,
      "flex_flow": null,
      "grid_area": null,
      "grid_auto_columns": null,
      "grid_auto_flow": null,
      "grid_auto_rows": null,
      "grid_column": null,
      "grid_gap": null,
      "grid_row": null,
      "grid_template_areas": null,
      "grid_template_columns": null,
      "grid_template_rows": null,
      "height": null,
      "justify_content": null,
      "justify_items": null,
      "left": null,
      "margin": null,
      "max_height": null,
      "max_width": null,
      "min_height": null,
      "min_width": null,
      "object_fit": null,
      "object_position": null,
      "order": null,
      "overflow": null,
      "overflow_x": null,
      "overflow_y": null,
      "padding": null,
      "right": null,
      "top": null,
      "visibility": null,
      "width": null
     }
    },
    "9e84ff661e684724aaf0ee5c48a66d11": {
     "model_module": "@jupyter-widgets/controls",
     "model_name": "ProgressStyleModel",
     "state": {
      "_model_module": "@jupyter-widgets/controls",
      "_model_module_version": "1.5.0",
      "_model_name": "ProgressStyleModel",
      "_view_count": null,
      "_view_module": "@jupyter-widgets/base",
      "_view_module_version": "1.2.0",
      "_view_name": "StyleView",
      "bar_color": null,
      "description_width": "initial"
     }
    },
    "a21bf14f2bd1486388edccab741eb067": {
     "model_module": "@jupyter-widgets/base",
     "model_name": "LayoutModel",
     "state": {
      "_model_module": "@jupyter-widgets/base",
      "_model_module_version": "1.2.0",
      "_model_name": "LayoutModel",
      "_view_count": null,
      "_view_module": "@jupyter-widgets/base",
      "_view_module_version": "1.2.0",
      "_view_name": "LayoutView",
      "align_content": null,
      "align_items": null,
      "align_self": null,
      "border": null,
      "bottom": null,
      "display": null,
      "flex": null,
      "flex_flow": null,
      "grid_area": null,
      "grid_auto_columns": null,
      "grid_auto_flow": null,
      "grid_auto_rows": null,
      "grid_column": null,
      "grid_gap": null,
      "grid_row": null,
      "grid_template_areas": null,
      "grid_template_columns": null,
      "grid_template_rows": null,
      "height": null,
      "justify_content": null,
      "justify_items": null,
      "left": null,
      "margin": null,
      "max_height": null,
      "max_width": null,
      "min_height": null,
      "min_width": null,
      "object_fit": null,
      "object_position": null,
      "order": null,
      "overflow": null,
      "overflow_x": null,
      "overflow_y": null,
      "padding": null,
      "right": null,
      "top": null,
      "visibility": null,
      "width": null
     }
    },
    "b1b1458cd3744ee0ad0068916d5e9237": {
     "model_module": "@jupyter-widgets/base",
     "model_name": "LayoutModel",
     "state": {
      "_model_module": "@jupyter-widgets/base",
      "_model_module_version": "1.2.0",
      "_model_name": "LayoutModel",
      "_view_count": null,
      "_view_module": "@jupyter-widgets/base",
      "_view_module_version": "1.2.0",
      "_view_name": "LayoutView",
      "align_content": null,
      "align_items": null,
      "align_self": null,
      "border": null,
      "bottom": null,
      "display": null,
      "flex": null,
      "flex_flow": null,
      "grid_area": null,
      "grid_auto_columns": null,
      "grid_auto_flow": null,
      "grid_auto_rows": null,
      "grid_column": null,
      "grid_gap": null,
      "grid_row": null,
      "grid_template_areas": null,
      "grid_template_columns": null,
      "grid_template_rows": null,
      "height": null,
      "justify_content": null,
      "justify_items": null,
      "left": null,
      "margin": null,
      "max_height": null,
      "max_width": null,
      "min_height": null,
      "min_width": null,
      "object_fit": null,
      "object_position": null,
      "order": null,
      "overflow": null,
      "overflow_x": null,
      "overflow_y": null,
      "padding": null,
      "right": null,
      "top": null,
      "visibility": null,
      "width": null
     }
    },
    "ba8c4d9f0dcd40eab7441d851352ad12": {
     "model_module": "@jupyter-widgets/controls",
     "model_name": "FloatProgressModel",
     "state": {
      "_dom_classes": [],
      "_model_module": "@jupyter-widgets/controls",
      "_model_module_version": "1.5.0",
      "_model_name": "FloatProgressModel",
      "_view_count": null,
      "_view_module": "@jupyter-widgets/controls",
      "_view_module_version": "1.5.0",
      "_view_name": "ProgressView",
      "bar_style": "success",
      "description": "",
      "description_tooltip": null,
      "layout": "IPY_MODEL_682c1e6536234ae1ab78ada2f69042fb",
      "max": 1,
      "min": 0,
      "orientation": "horizontal",
      "style": "IPY_MODEL_9e84ff661e684724aaf0ee5c48a66d11",
      "value": 1
     }
    },
    "bd1e343371ac4321a95c9bc536563cad": {
     "model_module": "@jupyter-widgets/base",
     "model_name": "LayoutModel",
     "state": {
      "_model_module": "@jupyter-widgets/base",
      "_model_module_version": "1.2.0",
      "_model_name": "LayoutModel",
      "_view_count": null,
      "_view_module": "@jupyter-widgets/base",
      "_view_module_version": "1.2.0",
      "_view_name": "LayoutView",
      "align_content": null,
      "align_items": null,
      "align_self": null,
      "border": null,
      "bottom": null,
      "display": null,
      "flex": null,
      "flex_flow": null,
      "grid_area": null,
      "grid_auto_columns": null,
      "grid_auto_flow": null,
      "grid_auto_rows": null,
      "grid_column": null,
      "grid_gap": null,
      "grid_row": null,
      "grid_template_areas": null,
      "grid_template_columns": null,
      "grid_template_rows": null,
      "height": null,
      "justify_content": null,
      "justify_items": null,
      "left": null,
      "margin": null,
      "max_height": null,
      "max_width": null,
      "min_height": null,
      "min_width": null,
      "object_fit": null,
      "object_position": null,
      "order": null,
      "overflow": null,
      "overflow_x": null,
      "overflow_y": null,
      "padding": null,
      "right": null,
      "top": null,
      "visibility": null,
      "width": null
     }
    },
    "c00d5a9a827f43858b8dda0cce88e62a": {
     "model_module": "@jupyter-widgets/controls",
     "model_name": "ProgressStyleModel",
     "state": {
      "_model_module": "@jupyter-widgets/controls",
      "_model_module_version": "1.5.0",
      "_model_name": "ProgressStyleModel",
      "_view_count": null,
      "_view_module": "@jupyter-widgets/base",
      "_view_module_version": "1.2.0",
      "_view_name": "StyleView",
      "bar_color": null,
      "description_width": "initial"
     }
    },
    "c37869a54e3743afa7f22c8be61c1644": {
     "model_module": "@jupyter-widgets/base",
     "model_name": "LayoutModel",
     "state": {
      "_model_module": "@jupyter-widgets/base",
      "_model_module_version": "1.2.0",
      "_model_name": "LayoutModel",
      "_view_count": null,
      "_view_module": "@jupyter-widgets/base",
      "_view_module_version": "1.2.0",
      "_view_name": "LayoutView",
      "align_content": null,
      "align_items": null,
      "align_self": null,
      "border": null,
      "bottom": null,
      "display": null,
      "flex": null,
      "flex_flow": null,
      "grid_area": null,
      "grid_auto_columns": null,
      "grid_auto_flow": null,
      "grid_auto_rows": null,
      "grid_column": null,
      "grid_gap": null,
      "grid_row": null,
      "grid_template_areas": null,
      "grid_template_columns": null,
      "grid_template_rows": null,
      "height": null,
      "justify_content": null,
      "justify_items": null,
      "left": null,
      "margin": null,
      "max_height": null,
      "max_width": null,
      "min_height": null,
      "min_width": null,
      "object_fit": null,
      "object_position": null,
      "order": null,
      "overflow": null,
      "overflow_x": null,
      "overflow_y": null,
      "padding": null,
      "right": null,
      "top": null,
      "visibility": null,
      "width": null
     }
    },
    "ca51c1e749e54538a56fe359e9c3cfc7": {
     "model_module": "@jupyter-widgets/controls",
     "model_name": "FloatProgressModel",
     "state": {
      "_dom_classes": [],
      "_model_module": "@jupyter-widgets/controls",
      "_model_module_version": "1.5.0",
      "_model_name": "FloatProgressModel",
      "_view_count": null,
      "_view_module": "@jupyter-widgets/controls",
      "_view_module_version": "1.5.0",
      "_view_name": "ProgressView",
      "bar_style": "success",
      "description": "",
      "description_tooltip": null,
      "layout": "IPY_MODEL_bd1e343371ac4321a95c9bc536563cad",
      "max": 1,
      "min": 0,
      "orientation": "horizontal",
      "style": "IPY_MODEL_1adae3ab16db4963be73fd06f2c13ba2",
      "value": 1
     }
    },
    "d2c18d6ebc7f49f49e1ce28298c04751": {
     "model_module": "@jupyter-widgets/controls",
     "model_name": "ProgressStyleModel",
     "state": {
      "_model_module": "@jupyter-widgets/controls",
      "_model_module_version": "1.5.0",
      "_model_name": "ProgressStyleModel",
      "_view_count": null,
      "_view_module": "@jupyter-widgets/base",
      "_view_module_version": "1.2.0",
      "_view_name": "StyleView",
      "bar_color": null,
      "description_width": "initial"
     }
    },
    "d42a8031245b44a494eb2b95cdc8c8ef": {
     "model_module": "@jupyter-widgets/controls",
     "model_name": "HBoxModel",
     "state": {
      "_dom_classes": [],
      "_model_module": "@jupyter-widgets/controls",
      "_model_module_version": "1.5.0",
      "_model_name": "HBoxModel",
      "_view_count": null,
      "_view_module": "@jupyter-widgets/controls",
      "_view_module_version": "1.5.0",
      "_view_name": "HBoxView",
      "box_style": "",
      "children": [
       "IPY_MODEL_ba8c4d9f0dcd40eab7441d851352ad12",
       "IPY_MODEL_59751d1051744154b68d87144900b99f"
      ],
      "layout": "IPY_MODEL_8c7066e7f174483a9b6b33a05e948ed5"
     }
    },
    "d4df2fa2282b45abb10ebf4bdb8a6cee": {
     "model_module": "@jupyter-widgets/controls",
     "model_name": "DescriptionStyleModel",
     "state": {
      "_model_module": "@jupyter-widgets/controls",
      "_model_module_version": "1.5.0",
      "_model_name": "DescriptionStyleModel",
      "_view_count": null,
      "_view_module": "@jupyter-widgets/base",
      "_view_module_version": "1.2.0",
      "_view_name": "StyleView",
      "description_width": ""
     }
    },
    "d9b992aefacc49d5bfeb27cb4b986fea": {
     "model_module": "@jupyter-widgets/base",
     "model_name": "LayoutModel",
     "state": {
      "_model_module": "@jupyter-widgets/base",
      "_model_module_version": "1.2.0",
      "_model_name": "LayoutModel",
      "_view_count": null,
      "_view_module": "@jupyter-widgets/base",
      "_view_module_version": "1.2.0",
      "_view_name": "LayoutView",
      "align_content": null,
      "align_items": null,
      "align_self": null,
      "border": null,
      "bottom": null,
      "display": null,
      "flex": null,
      "flex_flow": null,
      "grid_area": null,
      "grid_auto_columns": null,
      "grid_auto_flow": null,
      "grid_auto_rows": null,
      "grid_column": null,
      "grid_gap": null,
      "grid_row": null,
      "grid_template_areas": null,
      "grid_template_columns": null,
      "grid_template_rows": null,
      "height": null,
      "justify_content": null,
      "justify_items": null,
      "left": null,
      "margin": null,
      "max_height": null,
      "max_width": null,
      "min_height": null,
      "min_width": null,
      "object_fit": null,
      "object_position": null,
      "order": null,
      "overflow": null,
      "overflow_x": null,
      "overflow_y": null,
      "padding": null,
      "right": null,
      "top": null,
      "visibility": null,
      "width": null
     }
    },
    "e44050ab0f684a0a8c5a835cab842c9f": {
     "model_module": "@jupyter-widgets/controls",
     "model_name": "HTMLModel",
     "state": {
      "_dom_classes": [],
      "_model_module": "@jupyter-widgets/controls",
      "_model_module_version": "1.5.0",
      "_model_name": "HTMLModel",
      "_view_count": null,
      "_view_module": "@jupyter-widgets/controls",
      "_view_module_version": "1.5.0",
      "_view_name": "HTMLView",
      "description": "",
      "description_tooltip": null,
      "layout": "IPY_MODEL_c37869a54e3743afa7f22c8be61c1644",
      "placeholder": "​",
      "style": "IPY_MODEL_4aaa8e222a5c492a9d0517146e7c48e0",
      "value": " 221/221 [00:06&lt;00:00, 34.09it/s]"
     }
    },
    "f0a3746691a5439b837a9b41d74bd6bb": {
     "model_module": "@jupyter-widgets/base",
     "model_name": "LayoutModel",
     "state": {
      "_model_module": "@jupyter-widgets/base",
      "_model_module_version": "1.2.0",
      "_model_name": "LayoutModel",
      "_view_count": null,
      "_view_module": "@jupyter-widgets/base",
      "_view_module_version": "1.2.0",
      "_view_name": "LayoutView",
      "align_content": null,
      "align_items": null,
      "align_self": null,
      "border": null,
      "bottom": null,
      "display": null,
      "flex": null,
      "flex_flow": null,
      "grid_area": null,
      "grid_auto_columns": null,
      "grid_auto_flow": null,
      "grid_auto_rows": null,
      "grid_column": null,
      "grid_gap": null,
      "grid_row": null,
      "grid_template_areas": null,
      "grid_template_columns": null,
      "grid_template_rows": null,
      "height": null,
      "justify_content": null,
      "justify_items": null,
      "left": null,
      "margin": null,
      "max_height": null,
      "max_width": null,
      "min_height": null,
      "min_width": null,
      "object_fit": null,
      "object_position": null,
      "order": null,
      "overflow": null,
      "overflow_x": null,
      "overflow_y": null,
      "padding": null,
      "right": null,
      "top": null,
      "visibility": null,
      "width": null
     }
    },
    "f0f62993ae84489087b747ecbb70d696": {
     "model_module": "@jupyter-widgets/controls",
     "model_name": "DescriptionStyleModel",
     "state": {
      "_model_module": "@jupyter-widgets/controls",
      "_model_module_version": "1.5.0",
      "_model_name": "DescriptionStyleModel",
      "_view_count": null,
      "_view_module": "@jupyter-widgets/base",
      "_view_module_version": "1.2.0",
      "_view_name": "StyleView",
      "description_width": ""
     }
    },
    "f5e6848b9d774d3bb0823c68cae70f05": {
     "model_module": "@jupyter-widgets/controls",
     "model_name": "HTMLModel",
     "state": {
      "_dom_classes": [],
      "_model_module": "@jupyter-widgets/controls",
      "_model_module_version": "1.5.0",
      "_model_name": "HTMLModel",
      "_view_count": null,
      "_view_module": "@jupyter-widgets/controls",
      "_view_module_version": "1.5.0",
      "_view_name": "HTMLView",
      "description": "",
      "description_tooltip": null,
      "layout": "IPY_MODEL_502f380c6b82431ea12b8f5bf434267f",
      "placeholder": "​",
      "style": "IPY_MODEL_f0f62993ae84489087b747ecbb70d696",
      "value": " 235/235 [02:01&lt;00:00,  1.94it/s]"
     }
    }
   }
  }
 },
 "nbformat": 4,
 "nbformat_minor": 1
}
